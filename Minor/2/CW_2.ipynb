{
 "cells": [
  {
   "cell_type": "code",
   "execution_count": 49,
   "metadata": {},
   "outputs": [],
   "source": [
    "import numpy as np\n",
    "import pandas as pd\n",
    "from numpy import array as arr\n",
    "from numpy.linalg import norm\n",
    "import matplotlib.pyplot as plt\n",
    "from sympy import latex\n",
    "from sympy import Matrix\n",
    "import scipy as sc\n",
    "import matplotlib.colors as mcolors"
   ]
  },
  {
   "cell_type": "code",
   "execution_count": 50,
   "metadata": {},
   "outputs": [],
   "source": [
    "def matrix_beauty(A, ord = 2):\n",
    "    a = latex(Matrix(np.around(A, decimals=ord)))\n",
    "    a = a.replace(\"\\\\left[\\\\begin{matrix}\", \"\\\\begin{pmatrix}\\n\\t\")\n",
    "    a = a.replace(\"\\\\end{matrix}\\\\right]\", \"\\n\\\\end{pmatrix}\")\n",
    "    a = a.replace(\"\\\\\\\\\", \"\\\\\\\\ \\n\\t\")\n",
    "    return a"
   ]
  },
  {
   "attachments": {},
   "cell_type": "markdown",
   "metadata": {},
   "source": [
    "## Задание 1"
   ]
  },
  {
   "cell_type": "code",
   "execution_count": 51,
   "metadata": {},
   "outputs": [],
   "source": [
    "A = arr([[-3, 2],\n",
    "          [6, -8]])"
   ]
  },
  {
   "cell_type": "code",
   "execution_count": 52,
   "metadata": {},
   "outputs": [],
   "source": [
    "def find_inv(m):\n",
    "    m_ = arr([[m[1,1], m[0,1]],[m[1,0], m[0,0]]])\n",
    "    m_ = m_/np.linalg.det(m)\n",
    "    return m_"
   ]
  },
  {
   "cell_type": "code",
   "execution_count": 53,
   "metadata": {},
   "outputs": [],
   "source": [
    "A_ = find_inv(A)\n",
    "nA_ = norm(A_, ord=1)\n",
    "dA = np.ones((2, 2))* 0.01\n",
    "ndA = norm(dA, ord=1)"
   ]
  },
  {
   "cell_type": "code",
   "execution_count": 54,
   "metadata": {},
   "outputs": [
    {
     "name": "stdout",
     "output_type": "stream",
     "text": [
      "\\begin{pmatrix}\n",
      "\t-0.67 & 0.17\\\\ \n",
      "\t0.5 & -0.25\n",
      "\\end{pmatrix}\n"
     ]
    }
   ],
   "source": [
    "print(matrix_beauty(A_))"
   ]
  },
  {
   "cell_type": "code",
   "execution_count": 55,
   "metadata": {},
   "outputs": [
    {
     "name": "stdout",
     "output_type": "stream",
     "text": [
      "0.02\n"
     ]
    }
   ],
   "source": [
    "nY = nA_*ndA\n",
    "print(f\"{nY/(1-nY):.2f}\")"
   ]
  },
  {
   "cell_type": "code",
   "execution_count": 56,
   "metadata": {},
   "outputs": [],
   "source": [
    "del A, A_, nY, nA_, dA, ndA"
   ]
  },
  {
   "attachments": {},
   "cell_type": "markdown",
   "metadata": {},
   "source": [
    "## Задание 2"
   ]
  },
  {
   "cell_type": "code",
   "execution_count": 57,
   "metadata": {},
   "outputs": [],
   "source": [
    "rA = arr([[-4.97, -0.14],\n",
    "           [-0.06, -0.96]])\n",
    "rb = arr([[-5.18],[-1.08]])\n",
    "b = np.around(rb, decimals=0)\n",
    "db = rb - b\n",
    "A = np.around(rA, decimals=0)\n",
    "dA = rA - A\n",
    "A_ = find_inv(A)\n",
    "rA_ = find_inv(rA)"
   ]
  },
  {
   "cell_type": "code",
   "execution_count": 58,
   "metadata": {},
   "outputs": [
    {
     "name": "stdout",
     "output_type": "stream",
     "text": [
      "A = \\begin{pmatrix}\n",
      "\t-5.0 & 0\\\\ \n",
      "\t0 & -1.0\n",
      "\\end{pmatrix}\n",
      "dA = \\begin{pmatrix}\n",
      "\t0.03 & -0.14\\\\ \n",
      "\t-0.06 & 0.04\n",
      "\\end{pmatrix}\n",
      "b = \\begin{pmatrix}\n",
      "\t-5.0\\\\ \n",
      "\t-1.0\n",
      "\\end{pmatrix}\n",
      "db = \\begin{pmatrix}\n",
      "\t-0.18\\\\ \n",
      "\t-0.08\n",
      "\\end{pmatrix}\n",
      "A_ = \\begin{pmatrix}\n",
      "\t-0.2 & 0\\\\ \n",
      "\t0 & -1.0\n",
      "\\end{pmatrix}\n"
     ]
    }
   ],
   "source": [
    "print(\"A =\",matrix_beauty(A))\n",
    "print(\"dA =\",matrix_beauty(dA))\n",
    "print(\"b =\",matrix_beauty(b))\n",
    "print(\"db =\",matrix_beauty(db))\n",
    "print(\"A_ =\",matrix_beauty(A_))\n"
   ]
  },
  {
   "cell_type": "code",
   "execution_count": 59,
   "metadata": {},
   "outputs": [],
   "source": [
    "kappa = lambda m, m_, ord = 2: norm(m, ord = ord) * norm(m_, ord = ord)\n",
    "delta = lambda b, db, ord = 2: norm(b, ord = ord) / norm(db, ord = ord)\n",
    "kap_1 = kappa(A, A_, ord=1)\n",
    "kap_2 = kappa(A, A_)\n",
    "delta1_b = delta(b, db, ord = 1)\n",
    "delta2_b = delta(b, db)"
   ]
  },
  {
   "cell_type": "code",
   "execution_count": 60,
   "metadata": {},
   "outputs": [
    {
     "name": "stdout",
     "output_type": "stream",
     "text": [
      "kap_1 = 5.00\n",
      "kap_2 = 5.00\n",
      "delta1_b = 23.08\n",
      "delta2_b = 25.89\n"
     ]
    }
   ],
   "source": [
    "print(f\"kap_1 = {kap_1:.2f}\")\n",
    "print(f\"kap_2 = {kap_2:.2f}\")\n",
    "print(f\"delta1_b = {delta1_b:.2f}\")\n",
    "print(f\"delta2_b = {delta2_b:.2f}\")"
   ]
  },
  {
   "cell_type": "code",
   "execution_count": 61,
   "metadata": {},
   "outputs": [],
   "source": [
    "delta1_x_u = kap_1 * delta1_b\n",
    "delta2_x_u = kap_2 * delta2_b\n",
    "delta1_x_d = delta1_b / kap_1\n",
    "delta2_x_d = delta2_b / kap_2"
   ]
  },
  {
   "cell_type": "code",
   "execution_count": 62,
   "metadata": {},
   "outputs": [
    {
     "name": "stdout",
     "output_type": "stream",
     "text": [
      "delta1_x_u = 115.38\n",
      "delta1_x_u = 115.38\n",
      "delta2_x_d = 5.18\n",
      "delta2_x_d = 5.18\n"
     ]
    }
   ],
   "source": [
    "print(f\"delta1_x_u = {delta1_x_u:.2f}\")\n",
    "print(f\"delta1_x_u = {delta1_x_u:.2f}\")\n",
    "print(f\"delta2_x_d = {delta2_x_d:.2f}\")\n",
    "print(f\"delta2_x_d = {delta2_x_d:.2f}\")"
   ]
  },
  {
   "cell_type": "code",
   "execution_count": 63,
   "metadata": {},
   "outputs": [],
   "source": [
    "rx = rA_@rb\n",
    "x = A_@b\n",
    "dx = rA_@rb - A_@b"
   ]
  },
  {
   "cell_type": "code",
   "execution_count": 64,
   "metadata": {},
   "outputs": [
    {
     "name": "stdout",
     "output_type": "stream",
     "text": [
      "real sol = \\begin{pmatrix}\n",
      "\t1.08\\\\ \n",
      "\t1.19\n",
      "\\end{pmatrix}\n",
      "x = \\begin{pmatrix}\n",
      "\t1.0\\\\ \n",
      "\t1.0\n",
      "\\end{pmatrix}\n",
      "dx = \\begin{pmatrix}\n",
      "\t0.08\\\\ \n",
      "\t0.19\n",
      "\\end{pmatrix}\n"
     ]
    }
   ],
   "source": [
    "print(f\"real sol = {matrix_beauty(rx)}\")\n",
    "print(f\"x = {matrix_beauty(x)}\")\n",
    "print(f\"dx = {matrix_beauty(dx)}\")"
   ]
  },
  {
   "cell_type": "code",
   "execution_count": 65,
   "metadata": {},
   "outputs": [
    {
     "name": "stdout",
     "output_type": "stream",
     "text": [
      "delta1_x = 7.46\n",
      "delta2_x = 6.84\n"
     ]
    }
   ],
   "source": [
    "print(f\"delta1_x = {delta(x, dx, ord=1):.2f}\")\n",
    "print(f\"delta2_x = {delta(x, dx, ord=2):.2f}\")"
   ]
  },
  {
   "cell_type": "code",
   "execution_count": 66,
   "metadata": {},
   "outputs": [],
   "source": [
    "del A, b, dA, db, rA, rb, A_, kap_1, kap_2\n",
    "del delta1_x_u, delta2_x_u, delta1_x_d, delta2_x_d, rA_\n",
    "del x, dx, rx, delta1_b, delta2_b"
   ]
  },
  {
   "attachments": {},
   "cell_type": "markdown",
   "metadata": {},
   "source": [
    "## Задание 3"
   ]
  },
  {
   "attachments": {},
   "cell_type": "markdown",
   "metadata": {},
   "source": [
    "## Задание 4"
   ]
  },
  {
   "cell_type": "code",
   "execution_count": 67,
   "metadata": {},
   "outputs": [],
   "source": [
    "A = arr([[23, 8, 1],\n",
    "         [3, 19, 5],\n",
    "         [9, 7, 23]])\n",
    "G = np.diag(1/np.diag(A))\n",
    "b = arr([9, 4, 5])\n",
    "P = -1 * G @ (A - np.diag(np.diag(A)))\n",
    "b = G @ b"
   ]
  },
  {
   "cell_type": "code",
   "execution_count": 68,
   "metadata": {},
   "outputs": [],
   "source": [
    "def it_met(P, b, a = 0, tol = 0.01):\n",
    "    xn = arr([0] * len(P)) + a\n",
    "    xl = arr([0] * len(P)) + a\n",
    "    s = 0\n",
    "    while (norm(xl - xn, ord=1) > tol) or (s == 0) and (s < 1000):\n",
    "        s += 1\n",
    "        xl, xn = xn, P@xn + b\n",
    "    return s, xn\n"
   ]
  },
  {
   "cell_type": "code",
   "execution_count": 69,
   "metadata": {},
   "outputs": [
    {
     "name": "stdout",
     "output_type": "stream",
     "text": [
      "step = 8\n",
      "x = \\begin{pmatrix}\n",
      "\t0.34\\\\ \n",
      "\t0.15\\\\ \n",
      "\t0.04\n",
      "\\end{pmatrix}\n"
     ]
    }
   ],
   "source": [
    "s, x = it_met(P, b)\n",
    "print(f\"step = {s}\")\n",
    "print(f\"x = {matrix_beauty(x)}\")"
   ]
  },
  {
   "cell_type": "code",
   "execution_count": 70,
   "metadata": {},
   "outputs": [
    {
     "name": "stdout",
     "output_type": "stream",
     "text": [
      "\\begin{pmatrix}\n",
      "\t8.99\\\\ \n",
      "\t3.99\\\\ \n",
      "\t4.98\n",
      "\\end{pmatrix}\n"
     ]
    }
   ],
   "source": [
    "print(matrix_beauty(A@x))"
   ]
  },
  {
   "cell_type": "code",
   "execution_count": 71,
   "metadata": {},
   "outputs": [],
   "source": [
    "del A, b, G, P, s, x"
   ]
  },
  {
   "attachments": {},
   "cell_type": "markdown",
   "metadata": {},
   "source": [
    "## Задание 5"
   ]
  },
  {
   "cell_type": "code",
   "execution_count": 72,
   "metadata": {},
   "outputs": [],
   "source": [
    "class symb:\n",
    "    def __init__(self, name, koef=None):\n",
    "        self.name = name\n",
    "        if koef is None:\n",
    "            self.koef = np.array([0, 1], dtype=float)\n",
    "        else:\n",
    "            self.koef = koef\n",
    "\n",
    "    def __add__(self, a):\n",
    "        if isinstance(a, symb):\n",
    "            if self.name == a.name:\n",
    "                g = np.zeros(np.max((len(self.koef), len(a.koef))))\n",
    "                for ni, i in enumerate(self.koef):\n",
    "                    g[ni] += i\n",
    "                for ni, i in enumerate(a.koef):\n",
    "                    g[ni] += i\n",
    "                return symb(self.name, g)\n",
    "        else:\n",
    "            self.koef[0] += a\n",
    "        return self\n",
    "\n",
    "    def __radd__(self, a):\n",
    "        return self.__add__(a)\n",
    "\n",
    "    def __mul__(self, a):\n",
    "        if isinstance(a, symb):\n",
    "            m = np.zeros(1 + len(self.koef) + len(a.koef) - 2)\n",
    "            for ni, i in enumerate(self.koef):\n",
    "                for nj, j in enumerate(a.koef):\n",
    "                    m[ni + nj] += i * j\n",
    "            return symb(self.name, m)\n",
    "        elif isinstance(a, (int, float)):\n",
    "            m = np.zeros(len(self.koef))\n",
    "            for ni, i in enumerate(self.koef):\n",
    "                m[ni] = i * a\n",
    "            return symb(self.name, m)\n",
    "        else:\n",
    "            raise TypeError(\"Unsupported operand type for multiplication\")\n",
    "\n",
    "    def __rmul__(self, a):\n",
    "        return self.__mul__(a)\n",
    "\n",
    "    def __truediv__(self, a):\n",
    "        if isinstance(a, (int, float)):\n",
    "            if a == 0:\n",
    "                raise ZeroDivisionError(\"division by zero\")\n",
    "            m = np.zeros(len(self.koef))\n",
    "            for ni, i in enumerate(self.koef):\n",
    "                m[ni] = i / a\n",
    "            return symb(self.name, m)\n",
    "        else:\n",
    "            raise TypeError(\"Unsupported operand type for division\")\n",
    "\n",
    "    def __str__(self) -> str:\n",
    "        s = str(self.koef[0])\n",
    "        for k, i in enumerate(self.koef[1:]):\n",
    "            s += f\" + {i}*{self.name}^{k + 1}\"\n",
    "        return s"
   ]
  },
  {
   "cell_type": "code",
   "execution_count": 73,
   "metadata": {},
   "outputs": [],
   "source": [
    "def det(A):\n",
    "    m, n = A.shape\n",
    "    if m != n:\n",
    "        return None\n",
    "    if n == 1:\n",
    "        return A[0, 0]\n",
    "\n",
    "    signum = 1\n",
    "    determinant = 0\n",
    "\n",
    "    for j in range(n):\n",
    "        minor = np.delete(A, 0, axis=0)\n",
    "        minor = np.delete(minor, j, axis=1)\n",
    "        determinant += A[0, j] * signum * det(minor)\n",
    "        signum *= -1\n",
    "\n",
    "    return determinant"
   ]
  },
  {
   "cell_type": "code",
   "execution_count": 74,
   "metadata": {},
   "outputs": [],
   "source": [
    "\n",
    "def iev_vec(m, e):\n",
    "    vectors = arr([])\n",
    "    dem = len(m);    m = m + 0;    s = 0;    used_e = []\n",
    "    while s < dem:\n",
    "        now_e = e[s]\n",
    "        rand_col = np.random.randint(-1,dem)\n",
    "        rand_v = np.random.randint(0,dem)\n",
    "        A = np.delete(m - np.diag([1]*(dem))*now_e, rand_col, axis = 0) \n",
    "        A, b = np.hstack((A[:, :rand_v], A[:, rand_v+1:])), -1 * A[:, rand_v]\n",
    "        if now_e in used_e:\n",
    "            b = np.delete(vectors[-1], rand_col, axis = 0) \n",
    "        v = np.linalg.inv(A) @ b\n",
    "        if now_e in used_e:\n",
    "            v = np.hstack((v[:rand_v], [0], v[rand_v:]))\n",
    "        else:\n",
    "            v = np.hstack((v[:rand_v], [1], v[rand_v:]))\n",
    "        used_e.append(now_e)\n",
    "        vectors = np.vstack((*vectors, v))\n",
    "        s += 1\n",
    "    return(arr(vectors))\n"
   ]
  },
  {
   "cell_type": "code",
   "execution_count": 75,
   "metadata": {},
   "outputs": [],
   "source": [
    "def make_J_form(e):\n",
    "    dem = len(e)\n",
    "    J = np.diag(e)\n",
    "    up_d = arr([1 if e[i]==e[i+1] else 0 for i in range(dem-1)])\n",
    "    print(up_d)\n",
    "    for i in range(dem - 1):\n",
    "        J[i][i+1] = up_d[i]\n",
    "    return J"
   ]
  },
  {
   "cell_type": "code",
   "execution_count": 76,
   "metadata": {},
   "outputs": [
    {
     "name": "stdout",
     "output_type": "stream",
     "text": [
      "24.0 + -28.0*l^1 + 10.0*l^2 + -1.0*l^3\n"
     ]
    }
   ],
   "source": [
    "A = np.array([[-9, 2, 3],\n",
    "              [-4, 1, 2],\n",
    "              [-52, 12, 15]], dtype=float)\n",
    "A = A + np.diag([1, 1, 1])\n",
    "M = A + 0\n",
    "A = A + -1*np.diag([symb(\"l\"), symb(\"l\"), symb(\"l\")])\n",
    "\n",
    "d = det(A)\n",
    "print(d)\n",
    "\n"
   ]
  },
  {
   "cell_type": "code",
   "execution_count": 77,
   "metadata": {},
   "outputs": [
    {
     "name": "stdout",
     "output_type": "stream",
     "text": [
      "(6+0j) (2+0j) (2-0j)\n",
      "[6. 2. 2.]\n"
     ]
    }
   ],
   "source": [
    "print(*np.around(np.roots(d.koef[::-1]), decimals=2))\n",
    "eval = np.abs(np.around(np.roots(d.koef[::-1]), decimals=2))\n",
    "print(eval)"
   ]
  },
  {
   "cell_type": "code",
   "execution_count": 78,
   "metadata": {},
   "outputs": [],
   "source": [
    "evec = iev_vec(M, eval)\n"
   ]
  },
  {
   "cell_type": "code",
   "execution_count": 79,
   "metadata": {},
   "outputs": [
    {
     "name": "stdout",
     "output_type": "stream",
     "text": [
      "[0 1]\n",
      "J = \\begin{pmatrix}\n",
      "\t6.0 & 0 & 0\\\\ \n",
      "\t0 & 2.0 & 1.0\\\\ \n",
      "\t0 & 0 & 2.0\n",
      "\\end{pmatrix}\n",
      "S = \\begin{pmatrix}\n",
      "\t0.25 & 1.0 & -0.5\\\\ \n",
      "\t0.25 & 2.0 & -2.0\\\\ \n",
      "\t1.0 & 2.0 & 0\n",
      "\\end{pmatrix}\n",
      "S^-1 = \\begin{pmatrix}\n",
      "\t-16.0 & 4.0 & 4.0\\\\ \n",
      "\t8.0 & -2.0 & -1.5\\\\ \n",
      "\t6.0 & -2.0 & -1.0\n",
      "\\end{pmatrix}\n"
     ]
    }
   ],
   "source": [
    "evec = evec.T\n",
    "evec_ = np.linalg.inv(evec)\n",
    "J = make_J_form(eval)\n",
    "print(f\"J = {matrix_beauty(J)}\")\n",
    "print(f\"S = {matrix_beauty(evec)}\")\n",
    "print(f\"S^-1 = {matrix_beauty(evec_)}\")"
   ]
  },
  {
   "cell_type": "code",
   "execution_count": 80,
   "metadata": {},
   "outputs": [
    {
     "name": "stdout",
     "output_type": "stream",
     "text": [
      "SJS^-1 = \\begin{pmatrix}\n",
      "\t-8.0 & 2.0 & 3.0\\\\ \n",
      "\t-4.0 & 2.0 & 2.0\\\\ \n",
      "\t-52.0 & 12.0 & 16.0\n",
      "\\end{pmatrix}\n"
     ]
    }
   ],
   "source": [
    "print(f\"SJS^-1 = {matrix_beauty(evec @ J @ evec_)}\")"
   ]
  },
  {
   "cell_type": "code",
   "execution_count": 81,
   "metadata": {},
   "outputs": [],
   "source": [
    "def m_exp(A, n = 0):\n",
    "    if np.allclose(A, np.zeros(A.shape)):\n",
    "        return 0\n",
    "    if np.allclose(A,np.diag(np.diag(A))) and n == 0:\n",
    "        return np.diag(np.exp(np.diag(A)))\n",
    "    if n == 0:\n",
    "        return np.diag([1]*len(A)) + m_exp(A, n = n + 1)\n",
    "    return A/n + m_exp(A@A, n = (n + 1)*n)"
   ]
  },
  {
   "cell_type": "code",
   "execution_count": 82,
   "metadata": {},
   "outputs": [
    {
     "name": "stdout",
     "output_type": "stream",
     "text": [
      "d + up_d = \\begin{pmatrix}\n",
      "\t6.0 & 0 & 0\\\\ \n",
      "\t0 & 2.0 & 1.0\\\\ \n",
      "\t0 & 0 & 2.0\n",
      "\\end{pmatrix}\n",
      "up_d = \\begin{pmatrix}\n",
      "\t0 & 0 & 0\\\\ \n",
      "\t0 & 0 & 1.0\\\\ \n",
      "\t0 & 0 & 0\n",
      "\\end{pmatrix}\n",
      "d = \\begin{pmatrix}\n",
      "\t6.0 & 0 & 0\\\\ \n",
      "\t0 & 2.0 & 0\\\\ \n",
      "\t0 & 0 & 2.0\n",
      "\\end{pmatrix}\n"
     ]
    }
   ],
   "source": [
    "d = np.diag(np.diag(J))\n",
    "up_d = J - d\n",
    "print(f\"d + up_d = {matrix_beauty(d + up_d)}\")\n",
    "print(f\"up_d = {matrix_beauty(up_d)}\")\n",
    "print(f\"d = {matrix_beauty(d)}\")"
   ]
  },
  {
   "cell_type": "code",
   "execution_count": 83,
   "metadata": {},
   "outputs": [
    {
     "name": "stdout",
     "output_type": "stream",
     "text": [
      "\\exp J = \\exp up_d  \\exp d = \n",
      " \\begin{pmatrix}\n",
      "\t403.43 & 0 & 0\\\\ \n",
      "\t0 & 7.39 & 0\\\\ \n",
      "\t0 & 0 & 7.39\n",
      "\\end{pmatrix}\n",
      "\\begin{pmatrix}\n",
      "\t1.0 & 0 & 0\\\\ \n",
      "\t0 & 1.0 & 1.0\\\\ \n",
      "\t0 & 0 & 1.0\n",
      "\\end{pmatrix} = \n",
      "\\begin{pmatrix}\n",
      "\t403.43 & 0 & 0\\\\ \n",
      "\t0 & 7.39 & 7.39\\\\ \n",
      "\t0 & 0 & 7.39\n",
      "\\end{pmatrix}\n"
     ]
    }
   ],
   "source": [
    "exp_d = m_exp(d)\n",
    "exp_up_d = m_exp(up_d)\n",
    "exp_J = exp_d @ exp_up_d\n",
    "print(f\"\\\\exp J = \\\\exp up_d  \\\\exp d = \\n {matrix_beauty(exp_d)}\\n{matrix_beauty(exp_up_d)} = \\n{matrix_beauty(exp_up_d @ exp_d)}\")"
   ]
  },
  {
   "cell_type": "code",
   "execution_count": 84,
   "metadata": {},
   "outputs": [
    {
     "name": "stdout",
     "output_type": "stream",
     "text": [
      "\\exp A = \\begin{pmatrix}\n",
      "\t-1532.44 & 381.26 & 388.65\\\\ \n",
      "\t-1495.49 & 373.87 & 381.26\\\\ \n",
      "\t-6247.97 & 1554.6 & 1576.77\n",
      "\\end{pmatrix}\n"
     ]
    }
   ],
   "source": [
    "print(f\"\\\\exp A = {matrix_beauty(evec @ exp_J @ evec_)}\")"
   ]
  },
  {
   "cell_type": "code",
   "execution_count": 85,
   "metadata": {},
   "outputs": [],
   "source": [
    "del A, d, eval, evec_, evec, exp_d, exp_up_d, exp_J, J, M, up_d"
   ]
  },
  {
   "attachments": {},
   "cell_type": "markdown",
   "metadata": {},
   "source": [
    "## Задание 6"
   ]
  },
  {
   "cell_type": "code",
   "execution_count": 86,
   "metadata": {},
   "outputs": [],
   "source": [
    "A = arr([[0, 8, 5, 13],\n",
    "         [0, 17, 5, 4],\n",
    "         [5, 10, 8, 9],\n",
    "         [10, 13, 11, 7]])\n",
    "A_T = A.T"
   ]
  },
  {
   "cell_type": "code",
   "execution_count": 87,
   "metadata": {},
   "outputs": [],
   "source": [
    "def rad(A):\n",
    "    e = []\n",
    "    for i in range(len(A)):\n",
    "        e.append([A[i,i], np.sum(np.abs(A[i])) - np.abs(A[i,i])])\n",
    "    return np.array(e).T"
   ]
  },
  {
   "cell_type": "code",
   "execution_count": 88,
   "metadata": {},
   "outputs": [],
   "source": [
    "in_cr = lambda xx, yy, xc, yc, r: (xx - xc)**2 + (yy - yc)**2 <= r**2"
   ]
  },
  {
   "cell_type": "code",
   "execution_count": 89,
   "metadata": {},
   "outputs": [],
   "source": [
    "grid_size = 0.1\n",
    "x = np.arange(-40, 50, grid_size)\n",
    "y = np.arange(-40, 40, grid_size)\n",
    "xx, yy = np.meshgrid(x, y)"
   ]
  },
  {
   "cell_type": "code",
   "execution_count": 90,
   "metadata": {},
   "outputs": [],
   "source": [
    "e, r = rad(A)\n",
    "et, rt = rad(A_T)"
   ]
  },
  {
   "cell_type": "code",
   "execution_count": 91,
   "metadata": {},
   "outputs": [],
   "source": [
    "intersection_grid_1 = []\n",
    "mask_grid_1 = []\n",
    "\n",
    "for val in zip(e, np.zeros_like(e), r):\n",
    "    intersection_grid_1.append(in_cr(xx, yy, *val))\n",
    "    mask_grid_1.append(in_cr(xx, yy, *val))\n",
    "intersection_grid_1 = np.stack(intersection_grid_1).astype(int)\n",
    "intersection_grid_1 = np.mean(intersection_grid_1, axis=0)\n",
    "mask_grid_1 = np.any(mask_grid_1, axis=0)"
   ]
  },
  {
   "cell_type": "code",
   "execution_count": 92,
   "metadata": {},
   "outputs": [
    {
     "data": {
      "image/png": "[encoded data removed]",
      "text/plain": [
       "<Figure size 1000x800 with 1 Axes>"
      ]
     },
     "metadata": {},
     "output_type": "display_data"
    }
   ],
   "source": [
    "\n",
    "fig, ax = plt.subplots(figsize=(10, 8))\n",
    "plt.contour(xx, yy, intersection_grid_1, levels=[0.30], colors='black')\n",
    "plt.axhline(0, color='black', lw=1)\n",
    "plt.axvline(0, color='black', lw=1)\n",
    "ax.plot(e, np.zeros_like(e), '.', markersize=10)\n",
    "for i,j in list(zip(e, r)):\n",
    "    ax.add_patch(plt.Circle((i, 0), j, color='r', alpha=0.3))\n",
    "ax.grid(True)\n",
    "plt.ylabel(\"$Im$\")\n",
    "plt.xlabel(\"$Re$\")\n",
    "plt.axis('equal')\n",
    "plt.savefig(\"Imgs/evs.png\")"
   ]
  },
  {
   "cell_type": "code",
   "execution_count": 93,
   "metadata": {},
   "outputs": [],
   "source": [
    "intersection_grid_2 = []\n",
    "mask_grid_2 = []\n",
    "\n",
    "for val in zip(et, np.zeros_like(et), rt):\n",
    "    intersection_grid_2.append(in_cr(xx, yy, *val))\n",
    "    mask_grid_2.append(in_cr(xx, yy, *val))\n",
    "intersection_grid_2 = np.stack(intersection_grid_2).astype(int)\n",
    "intersection_grid_2 = np.mean(intersection_grid_2, axis=0)\n",
    "mask_grid_2 = np.any(mask_grid_2, axis=0)"
   ]
  },
  {
   "cell_type": "code",
   "execution_count": 94,
   "metadata": {},
   "outputs": [
    {
     "data": {
      "image/png": "[encoded data removed]",
      "text/plain": [
       "<Figure size 1000x800 with 1 Axes>"
      ]
     },
     "metadata": {},
     "output_type": "display_data"
    }
   ],
   "source": [
    "fig, ax = plt.subplots(figsize=(10, 8))\n",
    "plt.contour(xx, yy, intersection_grid_2, levels=[0.30], colors='black')\n",
    "plt.axhline(0, color='black', lw=1)\n",
    "plt.axvline(0, color='black', lw=1)\n",
    "ax.plot(et, np.zeros_like(et), '.', markersize=10)\n",
    "for i,j in list(zip(et, rt)):\n",
    "    ax.add_patch(plt.Circle((i, 0), j, color='green', alpha=0.3))\n",
    "ax.grid(True)\n",
    "plt.ylabel(\"$Im$\")\n",
    "plt.xlabel(\"$Re$\")\n",
    "plt.axis('equal')\n",
    "plt.savefig(\"Imgs/evs_t.png\")"
   ]
  },
  {
   "cell_type": "code",
   "execution_count": 95,
   "metadata": {},
   "outputs": [
    {
     "data": {
      "image/png": "[encoded data removed]",
      "text/plain": [
       "<Figure size 800x600 with 1 Axes>"
      ]
     },
     "metadata": {},
     "output_type": "display_data"
    }
   ],
   "source": [
    "intersection_grid = arr((intersection_grid_1 >= 0.30) & (intersection_grid_2 >= 0.30), dtype=int)\n",
    "mask_grid = arr((mask_grid_1 & mask_grid_2), dtype=int)\n",
    "\n",
    "fig, ax = plt.subplots(figsize=(8, 6))\n",
    "\n",
    "colors1 = ['white', 'black']\n",
    "cmap1 = mcolors.ListedColormap(colors1)\n",
    "\n",
    "colors2 = ['white', 'red']\n",
    "cmap2 = mcolors.ListedColormap(colors2)\n",
    "\n",
    "contour = plt.contourf(xx, yy, intersection_grid, alpha = 0.7, cmap=cmap1)\n",
    "contour = plt.contourf(xx, yy, mask_grid, alpha = 0.3, cmap=cmap2)\n",
    "\n",
    "ax.grid(True)\n",
    "plt.axis('equal')\n",
    "plt.ylabel(\"$Im$\")\n",
    "plt.xlabel(\"$Re$\")\n",
    "plt.axhline(0, color='black', lw=1)\n",
    "plt.axvline(0, color='black', lw=1)\n",
    "plt.savefig(\"Imgs/bool_and.png\")"
   ]
  },
  {
   "cell_type": "code",
   "execution_count": 96,
   "metadata": {},
   "outputs": [],
   "source": [
    "del A, A_T, ax, cmap1, cmap2, colors1, colors2, e, et, fig, grid_size, i, intersection_grid_1, intersection_grid_2\n",
    "del x, xx, y, yy, r, rt, val, intersection_grid, mask_grid, mask_grid_1, mask_grid_2, contour, j"
   ]
  },
  {
   "cell_type": "code",
   "execution_count": null,
   "metadata": {},
   "outputs": [],
   "source": []
  }
 ],
 "metadata": {
  "kernelspec": {
   "display_name": "Python 3",
   "language": "python",
   "name": "python3"
  },
  "language_info": {
   "codemirror_mode": {
    "name": "ipython",
    "version": 3
   },
   "file_extension": ".py",
   "mimetype": "text/x-python",
   "name": "python",
   "nbconvert_exporter": "python",
   "pygments_lexer": "ipython3",
   "version": "3.11.3"
  },
  "orig_nbformat": 4
 },
 "nbformat": 4,
 "nbformat_minor": 2
}
