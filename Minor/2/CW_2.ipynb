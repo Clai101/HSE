{
 "cells": [
  {
   "cell_type": "code",
   "execution_count": 566,
   "metadata": {},
   "outputs": [],
   "source": [
    "import numpy as np\n",
    "import pandas as pd\n",
    "from numpy import array as arr\n",
    "from numpy.linalg import norm\n",
    "import matplotlib.pyplot as plt\n",
    "from sympy import latex\n",
    "from sympy import Matrix\n",
    "import scipy as sc"
   ]
  },
  {
   "cell_type": "code",
   "execution_count": 567,
   "metadata": {},
   "outputs": [],
   "source": [
    "def matrix_beauty(A, ord = 2):\n",
    "    a = latex(Matrix(np.around(A, decimals=ord)))\n",
    "    a = a.replace(\"\\\\left[\\\\begin{matrix}\", \"\\\\begin{pmatrix}\\n\\t\")\n",
    "    a = a.replace(\"\\\\end{matrix}\\\\right]\", \"\\n\\\\end{pmatrix}\")\n",
    "    a = a.replace(\"\\\\\\\\\", \"\\\\\\\\ \\n\\t\")\n",
    "    return a"
   ]
  },
  {
   "cell_type": "code",
   "execution_count": 568,
   "metadata": {},
   "outputs": [],
   "source": [
    "A = arr([[-3, 2],\n",
    "          [6, -8]])"
   ]
  },
  {
   "cell_type": "code",
   "execution_count": 569,
   "metadata": {},
   "outputs": [],
   "source": [
    "def find_inv(m):\n",
    "    m_ = arr([[m[1,1], m[0,1]],[m[1,0], m[0,0]]])\n",
    "    m_ = m_/np.linalg.det(m)\n",
    "    return m_"
   ]
  },
  {
   "cell_type": "code",
   "execution_count": 570,
   "metadata": {},
   "outputs": [],
   "source": [
    "A_ = find_inv(A)\n",
    "nA_ = norm(A_, ord=1)\n",
    "dA = np.ones((2, 2))* 0.01\n",
    "ndA = norm(dA, ord=1)"
   ]
  },
  {
   "cell_type": "code",
   "execution_count": 571,
   "metadata": {},
   "outputs": [
    {
     "name": "stdout",
     "output_type": "stream",
     "text": [
      "\\begin{pmatrix}\n",
      "\t-0.67 & 0.17\\\\ \n",
      "\t0.5 & -0.25\n",
      "\\end{pmatrix}\n"
     ]
    }
   ],
   "source": [
    "print(matrix_beauty(A_))"
   ]
  },
  {
   "cell_type": "code",
   "execution_count": 572,
   "metadata": {},
   "outputs": [
    {
     "name": "stdout",
     "output_type": "stream",
     "text": [
      "0.02\n"
     ]
    }
   ],
   "source": [
    "nY = nA_*ndA\n",
    "print(f\"{nY/(1-nY):.2f}\")"
   ]
  },
  {
   "cell_type": "code",
   "execution_count": 573,
   "metadata": {},
   "outputs": [],
   "source": [
    "del A, A_, nY, nA_, dA, ndA"
   ]
  },
  {
   "cell_type": "code",
   "execution_count": 574,
   "metadata": {},
   "outputs": [],
   "source": [
    "rA = arr([[-4.97, -0.14],\n",
    "           [-0.06, -0.96]])\n",
    "rb = arr([[-5.18],[-1.08]])\n",
    "b = np.around(rb, decimals=0)\n",
    "db = rb - b\n",
    "A = np.around(rA, decimals=0)\n",
    "dA = rA - A\n",
    "A_ = find_inv(A)\n",
    "rA_ = find_inv(rA)"
   ]
  },
  {
   "cell_type": "code",
   "execution_count": 575,
   "metadata": {},
   "outputs": [
    {
     "name": "stdout",
     "output_type": "stream",
     "text": [
      "A = \\begin{pmatrix}\n",
      "\t-5.0 & 0\\\\ \n",
      "\t0 & -1.0\n",
      "\\end{pmatrix}\n",
      "dA = \\begin{pmatrix}\n",
      "\t0.03 & -0.14\\\\ \n",
      "\t-0.06 & 0.04\n",
      "\\end{pmatrix}\n",
      "b = \\begin{pmatrix}\n",
      "\t-5.0\\\\ \n",
      "\t-1.0\n",
      "\\end{pmatrix}\n",
      "db = \\begin{pmatrix}\n",
      "\t-0.18\\\\ \n",
      "\t-0.08\n",
      "\\end{pmatrix}\n",
      "A_ = \\begin{pmatrix}\n",
      "\t-0.2 & 0\\\\ \n",
      "\t0 & -1.0\n",
      "\\end{pmatrix}\n"
     ]
    }
   ],
   "source": [
    "print(\"A =\",matrix_beauty(A))\n",
    "print(\"dA =\",matrix_beauty(dA))\n",
    "print(\"b =\",matrix_beauty(b))\n",
    "print(\"db =\",matrix_beauty(db))\n",
    "print(\"A_ =\",matrix_beauty(A_))\n"
   ]
  },
  {
   "cell_type": "code",
   "execution_count": 576,
   "metadata": {},
   "outputs": [],
   "source": [
    "kappa = lambda m, m_, ord = 2: norm(m, ord = ord) * norm(m_, ord = ord)\n",
    "delta = lambda b, db, ord = 2: norm(b, ord = ord) / norm(db, ord = ord)\n",
    "kap_1 = kappa(A, A_, ord=1)\n",
    "kap_2 = kappa(A, A_)\n",
    "delta1_b = delta(b, db, ord = 1)\n",
    "delta2_b = delta(b, db)"
   ]
  },
  {
   "cell_type": "code",
   "execution_count": 577,
   "metadata": {},
   "outputs": [
    {
     "name": "stdout",
     "output_type": "stream",
     "text": [
      "kap_1 = 5.00\n",
      "kap_2 = 5.00\n",
      "delta1_b = 23.08\n",
      "delta2_b = 25.89\n"
     ]
    }
   ],
   "source": [
    "print(f\"kap_1 = {kap_1:.2f}\")\n",
    "print(f\"kap_2 = {kap_2:.2f}\")\n",
    "print(f\"delta1_b = {delta1_b:.2f}\")\n",
    "print(f\"delta2_b = {delta2_b:.2f}\")"
   ]
  },
  {
   "cell_type": "code",
   "execution_count": 578,
   "metadata": {},
   "outputs": [],
   "source": [
    "delta1_x_u = kap_1 * delta1_b\n",
    "delta2_x_u = kap_2 * delta2_b\n",
    "delta1_x_d = delta1_b / kap_1\n",
    "delta2_x_d = delta2_b / kap_2"
   ]
  },
  {
   "cell_type": "code",
   "execution_count": 579,
   "metadata": {},
   "outputs": [
    {
     "name": "stdout",
     "output_type": "stream",
     "text": [
      "delta1_x_u = 115.38\n",
      "delta1_x_u = 115.38\n",
      "delta2_x_d = 5.18\n",
      "delta2_x_d = 5.18\n"
     ]
    }
   ],
   "source": [
    "print(f\"delta1_x_u = {delta1_x_u:.2f}\")\n",
    "print(f\"delta1_x_u = {delta1_x_u:.2f}\")\n",
    "print(f\"delta2_x_d = {delta2_x_d:.2f}\")\n",
    "print(f\"delta2_x_d = {delta2_x_d:.2f}\")"
   ]
  },
  {
   "cell_type": "code",
   "execution_count": 580,
   "metadata": {},
   "outputs": [],
   "source": [
    "rx = rA_@rb\n",
    "x = A_@b\n",
    "dx = rA_@rb - A_@b"
   ]
  },
  {
   "cell_type": "code",
   "execution_count": 581,
   "metadata": {},
   "outputs": [
    {
     "name": "stdout",
     "output_type": "stream",
     "text": [
      "real sol = \\begin{pmatrix}\n",
      "\t1.08\\\\ \n",
      "\t1.19\n",
      "\\end{pmatrix}\n",
      "x = \\begin{pmatrix}\n",
      "\t1.0\\\\ \n",
      "\t1.0\n",
      "\\end{pmatrix}\n",
      "dx = \\begin{pmatrix}\n",
      "\t0.08\\\\ \n",
      "\t0.19\n",
      "\\end{pmatrix}\n"
     ]
    }
   ],
   "source": [
    "print(f\"real sol = {matrix_beauty(rx)}\")\n",
    "print(f\"x = {matrix_beauty(x)}\")\n",
    "print(f\"dx = {matrix_beauty(dx)}\")"
   ]
  },
  {
   "cell_type": "code",
   "execution_count": 582,
   "metadata": {},
   "outputs": [
    {
     "name": "stdout",
     "output_type": "stream",
     "text": [
      "delta1_x = 7.46\n",
      "delta2_x = 6.84\n"
     ]
    }
   ],
   "source": [
    "print(f\"delta1_x = {delta(x, dx, ord=1):.2f}\")\n",
    "print(f\"delta2_x = {delta(x, dx, ord=2):.2f}\")"
   ]
  },
  {
   "cell_type": "code",
   "execution_count": 583,
   "metadata": {},
   "outputs": [],
   "source": [
    "del A, b, dA, db, rA, rb, A_, kap_1, kap_2\n",
    "del delta1_x_u, delta2_x_u, delta1_x_d, delta2_x_d, rA_\n",
    "del x, dx, rx, delta1_b, delta2_b"
   ]
  },
  {
   "cell_type": "code",
   "execution_count": null,
   "metadata": {},
   "outputs": [],
   "source": []
  },
  {
   "cell_type": "code",
   "execution_count": 584,
   "metadata": {},
   "outputs": [],
   "source": [
    "A = arr([[23, 8, 1],\n",
    "         [3, 19, 5],\n",
    "         [9, 7, 23]])\n",
    "G = np.diag(1/np.diag(A))\n",
    "b = arr([9, 4, 5])\n",
    "P = -1 * G @ (A - np.diag(np.diag(A)))\n",
    "b = G @ b"
   ]
  },
  {
   "cell_type": "code",
   "execution_count": 585,
   "metadata": {},
   "outputs": [],
   "source": [
    "def it_met(P, b):\n",
    "    xn = arr([0,0,0])\n",
    "    xl = arr([0,0,0])\n",
    "    s = 0\n",
    "    while (norm(xl - xn, ord=1) > 0.01) or (s == 0) and (s < 1000):\n",
    "        s += 1\n",
    "        xl, xn = xn, P@xn + b\n",
    "    return s, xn\n"
   ]
  },
  {
   "cell_type": "code",
   "execution_count": 586,
   "metadata": {},
   "outputs": [
    {
     "name": "stdout",
     "output_type": "stream",
     "text": [
      "step = 8\n",
      "x = \\begin{pmatrix}\n",
      "\t0.34\\\\ \n",
      "\t0.15\\\\ \n",
      "\t0.04\n",
      "\\end{pmatrix}\n"
     ]
    }
   ],
   "source": [
    "s, x = it_met(P, b)\n",
    "print(f\"step = {s}\")\n",
    "print(f\"x = {matrix_beauty(x)}\")"
   ]
  },
  {
   "cell_type": "code",
   "execution_count": 587,
   "metadata": {},
   "outputs": [
    {
     "name": "stdout",
     "output_type": "stream",
     "text": [
      "\\begin{pmatrix}\n",
      "\t8.99\\\\ \n",
      "\t3.99\\\\ \n",
      "\t4.98\n",
      "\\end{pmatrix}\n"
     ]
    }
   ],
   "source": [
    "print(matrix_beauty(A@x))"
   ]
  }
 ],
 "metadata": {
  "kernelspec": {
   "display_name": "Python 3",
   "language": "python",
   "name": "python3"
  },
  "language_info": {
   "codemirror_mode": {
    "name": "ipython",
    "version": 3
   },
   "file_extension": ".py",
   "mimetype": "text/x-python",
   "name": "python",
   "nbconvert_exporter": "python",
   "pygments_lexer": "ipython3",
   "version": "3.11.3"
  },
  "orig_nbformat": 4
 },
 "nbformat": 4,
 "nbformat_minor": 2
}
