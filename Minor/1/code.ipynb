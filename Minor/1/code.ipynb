{
 "cells": [
  {
   "cell_type": "code",
   "execution_count": 1,
   "metadata": {},
   "outputs": [],
   "source": [
    "import numpy as np\n",
    "import scipy as sc\n",
    "from sympy import latex\n",
    "from sympy import Matrix\n",
    "import sympy"
   ]
  },
  {
   "cell_type": "code",
   "execution_count": 2,
   "metadata": {},
   "outputs": [],
   "source": [
    "def matrix_beauty(A):\n",
    "    a = latex(Matrix(A))\n",
    "    a = a.replace(\"\\\\left[\\\\begin{matrix}\", \"\\\\begin{pmatrix}\\n\\t\")\n",
    "    a = a.replace(\"\\\\end{matrix}\\\\right]\", \"\\n\\\\end{pmatrix}\")\n",
    "    a = a.replace(\"\\\\\\\\\", \"\\\\\\\\ \\n\\t\")\n",
    "    return a"
   ]
  },
  {
   "cell_type": "code",
   "execution_count": 3,
   "metadata": {},
   "outputs": [],
   "source": [
    "def gauss_elemination(Z):\n",
    "    A = Z + 0\n",
    "    for i in range(len(A)):\n",
    "        if A[i, i] == 0:\n",
    "            for j in A[i:, :]:\n",
    "                if j[i] != 0:\n",
    "                    A[i] -= j\n",
    "                    break\n",
    "        if A[i, i] == 0:\n",
    "            c = 0\n",
    "            for j in range(len(A[i])):\n",
    "                if A[i, j] != 0 and c != 0:\n",
    "                    A[i, j] = A[i, j] / c\n",
    "                if A[i, j] != 0 and c == 0:\n",
    "                    c = A[i, j] + 0\n",
    "                    A[i, j] = 1\n",
    "            continue\n",
    "        A[i] /= A[i, i]\n",
    "        for j in range(len(A) - i-1):\n",
    "            A[i+1+j] -= A[i] * A[i+j+1, i]\n",
    "        for j in range(i):\n",
    "            A[j] -= A[i] * A[j, i]\n",
    "    return np.round(A, decimals=5)"
   ]
  },
  {
   "cell_type": "code",
   "execution_count": 4,
   "metadata": {},
   "outputs": [],
   "source": [
    "def LU_decomp(Z):\n",
    "    def _find(_, x):\n",
    "        for i in range(len(_)):\n",
    "            if _[i] == x:\n",
    "                return[i]\n",
    "        return None\n",
    "    def _pinv(A):\n",
    "        return A.T @ np.linalg.inv(A @ A.T)\n",
    "    A = Z + 0\n",
    "    Ag = gauss_elemination(A)\n",
    "    #A.T[[_find(i, 1)[0] for i in Ag if _find(i, 1) != None]].T\n",
    "    return Z@_pinv(Ag[[not np.allclose(i, np.zeros(len(i))) for i in Ag]] ), Ag[[not np.allclose(i, np.zeros(len(i))) for i in Ag]] "
   ]
  },
  {
   "cell_type": "code",
   "execution_count": 5,
   "metadata": {},
   "outputs": [],
   "source": [
    "def pinv(U, L):\n",
    "    return np.round(L.T @ np.linalg.inv(L @ L.T), decimals=5), np.around(np.linalg.inv(U.T @ U) @ U.T, decimals=5)"
   ]
  },
  {
   "attachments": {},
   "cell_type": "markdown",
   "metadata": {},
   "source": [
    "Task 1"
   ]
  },
  {
   "cell_type": "code",
   "execution_count": 6,
   "metadata": {},
   "outputs": [
    {
     "name": "stdout",
     "output_type": "stream",
     "text": [
      "\\begin{pmatrix}\n",
      "\t3.21964677141295 \\cdot 10^{-15} & 4.00000000000001 & 4.0 & 14.0\\\\ \n",
      "\t12.0000032643615 & 19.9999980412601 & -4.7399353320543 \\cdot 10^{-5} & 1.41023123525486 \\cdot 10^{-5}\\\\ \n",
      "\t3.00000081609039 & 10.999999510315 & 5.99998815016168 & 21.0000035255781\n",
      "\\end{pmatrix}\n",
      "=\n",
      "\\begin{pmatrix}\n",
      "\t3.21964677141295 \\cdot 10^{-15} & 4.00000000000001\\\\ \n",
      "\t12.0000032643615 & 19.9999980412601\\\\ \n",
      "\t3.00000081609039 & 10.999999510315\n",
      "\\end{pmatrix}\n",
      "\\begin{pmatrix}\n",
      "\t1.0 & 0 & -1.66667 & -5.83333\\\\ \n",
      "\t0 & 1.0 & 1.0 & 3.5\n",
      "\\end{pmatrix} \n"
     ]
    }
   ],
   "source": [
    "A = np.array([[0, 4, 4, 14],\n",
    "          [12, 20, 0, 0], \n",
    "          [3, 11, 6, 21]], dtype=float)\n",
    "L, U = LU_decomp(A)\n",
    "print(f\"{matrix_beauty(L@U)}\\n=\\n{matrix_beauty(L)}\\n{matrix_beauty(U)} \")"
   ]
  },
  {
   "cell_type": "code",
   "execution_count": 7,
   "metadata": {},
   "outputs": [
    {
     "name": "stdout",
     "output_type": "stream",
     "text": [
      "\n",
      "\\begin{pmatrix}\n",
      "\t0.27911 & 0.43254\\\\ \n",
      "\t0.43254 & 0.74048\\\\ \n",
      "\t-0.03265 & 0.01958\\\\ \n",
      "\t-0.11425 & 0.06855\n",
      "\\end{pmatrix}\n",
      "\\begin{pmatrix}\n",
      "\t-0.14308 & 0.12893 & -0.18239\\\\ \n",
      "\t0.08019 & -0.0283 & 0.11321\n",
      "\\end{pmatrix}\n",
      "=\n",
      "\\begin{pmatrix}\n",
      "\t-0.00524967620000001 & 0.0237447703 & -0.0019390195\\\\ \n",
      "\t-0.002508732 & 0.0348117982 & 0.00493877020000001\\\\ \n",
      "\t0.0062416822 & -0.0047636785 & 0.0081716853\\\\ \n",
      "\t0.0218439145 & -0.0166702175 & 0.028598603\n",
      "\\end{pmatrix}\n",
      " \n"
     ]
    }
   ],
   "source": [
    "L_ , U_ = pinv(L, U)\n",
    "print(f\"\\n{matrix_beauty(L_)}\\n{matrix_beauty(U_)}\\n=\\n{matrix_beauty(L_@U_)}\\n \")"
   ]
  },
  {
   "attachments": {},
   "cell_type": "markdown",
   "metadata": {},
   "source": [
    "Task 2"
   ]
  },
  {
   "cell_type": "code",
   "execution_count": 8,
   "metadata": {},
   "outputs": [
    {
     "name": "stdout",
     "output_type": "stream",
     "text": [
      "\\begin{pmatrix}\n",
      "\t1.0 & 0 & 1.41667 & 0.375\\\\ \n",
      "\t0 & 1.0 & 0.375 & -0.1875\\\\ \n",
      "\t0 & 0 & 0 & 1.0\n",
      "\\end{pmatrix}\n"
     ]
    }
   ],
   "source": [
    "A = np.array([[6, 12, 13],\n",
    "              [12, 8, 20],\n",
    "              [0, 16, 6]], dtype=float)\n",
    "b = np.array([0, 3, 6], dtype=float)\n",
    "Ag = gauss_elemination(np.vstack((*A.T, b)).T)\n",
    "print(matrix_beauty(Ag))"
   ]
  },
  {
   "cell_type": "code",
   "execution_count": 9,
   "metadata": {},
   "outputs": [
    {
     "name": "stdout",
     "output_type": "stream",
     "text": [
      "x = A^+ b = \n",
      "\\begin{pmatrix}\n",
      "\t0.0015177708 & 0.0294408958 & -0.0264053542\\\\ \n",
      "\t0.0175549614 & -0.0228475386 & 0.0579574614\\\\ \n",
      "\t0.0087332974 & 0.0331401724 & -0.0156735776\n",
      "\\end{pmatrix}\n",
      "\\begin{pmatrix}\n",
      "\t0\\\\ \n",
      "\t3.0\\\\ \n",
      "\t6.0\n",
      "\\end{pmatrix}\n",
      "=\n",
      "\\begin{pmatrix}\n",
      "\t-0.0701094378\\\\ \n",
      "\t0.2792021526\\\\ \n",
      "\t0.00537905159999998\n",
      "\\end{pmatrix}\n"
     ]
    }
   ],
   "source": [
    "L_, U_= pinv(*LU_decomp(A))\n",
    "b = np.reshape(b,(3,1))\n",
    "print(f\"x = A^+ b = \\n{matrix_beauty(L_@U_)}\\n{matrix_beauty(b)}\\n=\\n{matrix_beauty(L_@U_@b)}\")"
   ]
  }
 ],
 "metadata": {
  "kernelspec": {
   "display_name": "Python 3",
   "language": "python",
   "name": "python3"
  },
  "language_info": {
   "codemirror_mode": {
    "name": "ipython",
    "version": 3
   },
   "file_extension": ".py",
   "mimetype": "text/x-python",
   "name": "python",
   "nbconvert_exporter": "python",
   "pygments_lexer": "ipython3",
   "version": "3.11.2"
  },
  "orig_nbformat": 4
 },
 "nbformat": 4,
 "nbformat_minor": 2
}
