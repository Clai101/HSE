{
  "nbformat": 4,
  "nbformat_minor": 0,
  "metadata": {
    "kernelspec": {
      "display_name": "Python 3",
      "language": "python",
      "name": "python3"
    },
    "colab": {
      "provenance": []
    }
  },
  "cells": [
    {
      "cell_type": "markdown",
      "metadata": {
        "id": "fis1w-TTVnuw"
      },
      "source": [
        "# Занятие 12 \n",
        "# Прикладная алгебра и численные методы\n",
        "## Теорема Фробениуса-Перрона, Pagerank"
      ]
    },
    {
      "cell_type": "code",
      "metadata": {
        "id": "mGFcxneQVnu6"
      },
      "source": [
        "import numpy as np\n",
        "from numpy import random\n",
        "import sympy\n",
        "from sympy import latex, Matrix\n",
        "import scipy.linalg\n",
        "import numpy.linalg\n",
        "from IPython.display import Latex"
      ],
      "execution_count": null,
      "outputs": []
    },
    {
      "cell_type": "code",
      "metadata": {
        "colab": {
          "base_uri": "https://localhost:8080/"
        },
        "id": "8I2nsbIp-Tzb",
        "outputId": "cd27777d-4546-4f46-93aa-aab44949bf99"
      },
      "source": [
        "sympy.__version__, scipy.__version__, np.__version__"
      ],
      "execution_count": null,
      "outputs": [
        {
          "output_type": "execute_result",
          "data": {
            "text/plain": [
              "('1.11.1', '1.10.1', '1.22.4')"
            ]
          },
          "metadata": {},
          "execution_count": 2
        }
      ]
    },
    {
      "cell_type": "markdown",
      "metadata": {
        "id": "RXx3Ii9XrTLH"
      },
      "source": [
        "## Сравнение матриц\n",
        "$A \\ge B$, $a_{ij} \\ge b_{ij}$ $\\forall i, j$\n",
        "\n",
        "$A > B$, $a_{ij} > b_{ij}$ $\\forall i, j$\n",
        "## Неотрицательная матрица\n",
        "$A \\ge 0$, $a_{ij} \\ge 0$ $\\forall i, j$\n",
        "## Положительная матрица\n",
        "$A > 0$, $a_{ij} \\ge 0$ $\\forall i, j$\n",
        "\n",
        "\n",
        "## Теорема Перрона 1907\n",
        "Пусть $A$ - квадратная матрица $n\\times n$, $A > 0$.\n",
        "\n",
        "Тогда \n",
        "\n",
        "(а) Существует положительное собственное значение $\\hat\\lambda = \\hat\\lambda_A > 0$ такое, что для любого собственного значения $\\lambda_i = \\lambda_i(A)$ выполняется $\\hat\\lambda_A \\ge|\\lambda_i|$, т.е. $\\hat\\lambda_A = \\rho(A)$.\n",
        "\n",
        "(б) Существует (и единственный с точностью до умножения на число) собственный вектор $\\hat x_A > 0$, соответствующий собственному значению  $\\hat\\lambda_A$.\n",
        "\n",
        "## Пример 1.\n",
        "\n",
        "Построим случайную квадратную матрицу размерности 10, найдем ее спектр, спектральный радиус и собственный вектор, соответствующий максимальному собственному значению."
      ]
    },
    {
      "cell_type": "code",
      "metadata": {
        "colab": {
          "base_uri": "https://localhost:8080/",
          "height": 445
        },
        "id": "m7CuP_GVQeoN",
        "outputId": "f1b9458f-6b87-4d28-e1a9-619bec583944"
      },
      "source": [
        "n = 10\n",
        "A1 = np.array([[random.randint(1, 10) for i in range(n)] for j in range(n)])\n",
        "spectrA1, eigvectors = np.linalg.eig(A1)\n",
        "spectrA1 = [(round(item.real) + 1j * round(item.imag)) for item in spectrA1]\n",
        "display(Latex(f\"\"\"A1 = {latex(Matrix(A1))}\\\\\\\\\n",
        "spectrA1 = {spectrA1}\\\\\\\\\n",
        "eigvectors = {latex(Matrix(eigvectors.real.round(2)))}\"\"\"))"
      ],
      "execution_count": null,
      "outputs": [
        {
          "output_type": "display_data",
          "data": {
            "text/plain": [
              "<IPython.core.display.Latex object>"
            ],
            "text/latex": "A1 = \\left[\\begin{matrix}2 & 7 & 9 & 8 & 4 & 5 & 5 & 8 & 9 & 5\\\\1 & 1 & 7 & 1 & 1 & 7 & 4 & 1 & 4 & 6\\\\7 & 3 & 3 & 5 & 4 & 6 & 5 & 8 & 4 & 7\\\\4 & 7 & 8 & 2 & 8 & 2 & 9 & 2 & 6 & 9\\\\2 & 6 & 4 & 8 & 2 & 7 & 7 & 4 & 2 & 2\\\\4 & 5 & 1 & 9 & 5 & 2 & 2 & 4 & 3 & 4\\\\1 & 1 & 6 & 4 & 1 & 6 & 4 & 7 & 2 & 2\\\\7 & 5 & 8 & 7 & 7 & 7 & 1 & 6 & 4 & 5\\\\5 & 6 & 4 & 3 & 2 & 6 & 8 & 4 & 1 & 8\\\\7 & 9 & 7 & 3 & 7 & 7 & 6 & 4 & 6 & 3\\end{matrix}\\right]\\\\\nspectrA1 = [(48+0j), (-2+7j), (-2-7j), (3+0j), (1+0j), (-6+4j), (-6-4j), (-3+2j), (-3-2j), (-6+0j)]\\\\\neigvectors = \\left[\\begin{matrix}0.4 & -0.2 & -0.2 & 0.53 & 0.57 & 0.47 & 0.47 & 0.48 & 0.48 & 0.21\\\\0.21 & 0.06 & 0.06 & 0.06 & -0.16 & 0.14 & 0.14 & -0.41 & -0.41 & 0.55\\\\0.35 & 0.13 & 0.13 & 0.3 & 0.36 & -0.22 & -0.22 & 0.15 & 0.15 & -0.03\\\\0.35 & -0.54 & -0.54 & -0.06 & 0.1 & -0.17 & -0.17 & 0.25 & 0.25 & 0.15\\\\0.27 & 0.05 & 0.05 & -0.65 & -0.52 & 0.15 & 0.15 & -0.07 & -0.07 & -0.4\\\\0.26 & 0.1 & 0.1 & -0.37 & -0.44 & 0.04 & 0.04 & 0.13 & 0.13 & -0.28\\\\0.22 & 0.1 & 0.1 & -0.09 & 0.14 & 0.21 & 0.21 & 0.08 & 0.08 & 0.1\\\\0.38 & 0.39 & 0.39 & 0.05 & -0.03 & -0.06 & -0.06 & -0.49 & -0.49 & 0.14\\\\0.3 & -0.16 & -0.16 & 0.21 & 0.12 & -0.14 & -0.14 & 0.15 & 0.15 & -0.6\\\\0.36 & 0 & 0 & 0.04 & -0.12 & -0.33 & -0.33 & -0.22 & -0.22 & 0.05\\end{matrix}\\right]"
          },
          "metadata": {}
        }
      ]
    },
    {
      "cell_type": "markdown",
      "metadata": {
        "id": "3TMyJpCL-kop"
      },
      "source": [
        "Проверим, что первое собственное значение - наибольшее по модулю:"
      ]
    },
    {
      "cell_type": "code",
      "metadata": {
        "colab": {
          "base_uri": "https://localhost:8080/"
        },
        "id": "oKrfViOI_I2v",
        "outputId": "39612409-fed7-47f9-ad2c-ed81d4951ae1"
      },
      "source": [
        "lambda_max = abs(spectrA1[0])\n",
        "print(f'Первое с.з {spectrA1[0]} максимальное по модулю, т.е.')\n",
        "for i, item in enumerate(spectrA1[1:]): \n",
        "  print(f'больше модуля с.з. {item} номер {i + 2}', lambda_max >= abs(item))"
      ],
      "execution_count": null,
      "outputs": [
        {
          "output_type": "stream",
          "name": "stdout",
          "text": [
            "Первое с.з (48+0j) максимальное по модулю, т.е.\n",
            "больше модуля с.з. (-2+7j) номер 2 True\n",
            "больше модуля с.з. (-2-7j) номер 3 True\n",
            "больше модуля с.з. (3+0j) номер 4 True\n",
            "больше модуля с.з. (1+0j) номер 5 True\n",
            "больше модуля с.з. (-6+4j) номер 6 True\n",
            "больше модуля с.з. (-6-4j) номер 7 True\n",
            "больше модуля с.з. (-3+2j) номер 8 True\n",
            "больше модуля с.з. (-3-2j) номер 9 True\n",
            "больше модуля с.з. (-6+0j) номер 10 True\n"
          ]
        }
      ]
    },
    {
      "cell_type": "markdown",
      "metadata": {
        "id": "39T308WCAYcp"
      },
      "source": [
        "Выведем на экран собственный вектор $\\hat x_A$, соответствующий максимальному собственному значению.\n",
        "\n",
        "Проверим, что с.в. соответствует с.з., используем np.allclose для сравнения.\n"
      ]
    },
    {
      "cell_type": "code",
      "metadata": {
        "colab": {
          "base_uri": "https://localhost:8080/"
        },
        "id": "Q7g0KU09Anda",
        "outputId": "2bb844b8-2898-4ee4-f381-a31eec20935f"
      },
      "source": [
        "x_lambda_max = eigvectors[:, 0]\n",
        "print(f\"\"\"Максимальное с.з. {lambda_max},\\nс.в.\\n{x_lambda_max.real.round(2)},\n",
        "A1 x_lambda_max = lambda_max x_lambda_max - {np.allclose(A1 @ x_lambda_max, lambda_max*x_lambda_max)}\"\"\")"
      ],
      "execution_count": null,
      "outputs": [
        {
          "output_type": "stream",
          "name": "stdout",
          "text": [
            "Максимальное с.з. 48.0,\n",
            "с.в.\n",
            "[0.4  0.21 0.35 0.35 0.27 0.26 0.22 0.38 0.3  0.36],\n",
            "A1 x_lambda_max = lambda_max x_lambda_max - False\n"
          ]
        }
      ]
    },
    {
      "cell_type": "markdown",
      "metadata": {
        "id": "zqlnlXGrUOUO"
      },
      "source": [
        "Разберемся, почему получилось False. Выведем на экран левую и правую части равенства $A_1 x = \\lambda x$:"
      ]
    },
    {
      "cell_type": "code",
      "metadata": {
        "colab": {
          "base_uri": "https://localhost:8080/"
        },
        "id": "5JjQb1RxS3Bh",
        "outputId": "13f228a6-be71-4b64-e5fe-cb6579774466"
      },
      "source": [
        "print(f'A1 @ x_lambda_max\\n{np.round(A1 @ x_lambda_max, 1)}\\n\\\n",
        "lambda_max*x_lambda_max\\n{np.round(lambda_max*x_lambda_max, 1)}')"
      ],
      "execution_count": null,
      "outputs": [
        {
          "output_type": "stream",
          "name": "stdout",
          "text": [
            "A1 @ x_lambda_max\n",
            "[19.2+0.j 10.1+0.j 16.7+0.j 17. +0.j 13. +0.j 12.3+0.j 10.8+0.j 18.3+0.j\n",
            " 14.3+0.j 17.6+0.j]\n",
            "lambda_max*x_lambda_max\n",
            "[19.1+0.j 10.1+0.j 16.6+0.j 17. +0.j 12.9+0.j 12.3+0.j 10.7+0.j 18.2+0.j\n",
            " 14.2+0.j 17.5+0.j]\n"
          ]
        }
      ]
    },
    {
      "cell_type": "markdown",
      "metadata": {
        "id": "ElQknKLZUgsN"
      },
      "source": [
        "Видим, что дело в недостаточной точности вычисления с.з. и с.в.\n",
        "\n",
        "Проведем сравнение с более низкой точностью, для этого изменим необязательный параметр atol функции np.allclose:"
      ]
    },
    {
      "cell_type": "code",
      "metadata": {
        "colab": {
          "base_uri": "https://localhost:8080/"
        },
        "id": "NSEmHk5WU75d",
        "outputId": "a1a899d3-eafa-4676-c85f-b084ddafcc5d"
      },
      "source": [
        "print(f'A1 x_lambda_max = lambda_max x_lambda_max - \\\n",
        "{np.allclose(A1 @ x_lambda_max, lambda_max*x_lambda_max, atol=0.2)}')"
      ],
      "execution_count": null,
      "outputs": [
        {
          "output_type": "stream",
          "name": "stdout",
          "text": [
            "A1 x_lambda_max = lambda_max x_lambda_max - True\n"
          ]
        }
      ]
    },
    {
      "cell_type": "markdown",
      "metadata": {
        "id": "Q5S4FnFeVM_2"
      },
      "source": [
        "У np.allclose есть еще один необязательный параметр rtol, он задает относительную погрешность (atol соответствует абсолютной погрешности). При сравнении оба параметра использовуются одновременно. \n",
        "\n",
        "По умолчанию rtol=1e-05, atol=1e-08.\n",
        "\n",
        "https://numpy.org/doc/stable/reference/generated/numpy.allclose.html"
      ]
    },
    {
      "cell_type": "code",
      "metadata": {
        "colab": {
          "base_uri": "https://localhost:8080/"
        },
        "id": "AMV4ssdoVv_g",
        "outputId": "460c4c64-11cc-47c2-e273-7d710c320944"
      },
      "source": [
        "print(f'A1 x_lambda_max = lambda_max x_lambda_max - \\\n",
        "{np.allclose(A1 @ x_lambda_max, lambda_max*x_lambda_max, rtol=0.01)}')"
      ],
      "execution_count": null,
      "outputs": [
        {
          "output_type": "stream",
          "name": "stdout",
          "text": [
            "A1 x_lambda_max = lambda_max x_lambda_max - True\n"
          ]
        }
      ]
    },
    {
      "cell_type": "markdown",
      "metadata": {
        "id": "MIqigMQaV_WV"
      },
      "source": [
        "Проверка приближенного равенства с заданной точностью осуществляется внутри np.allclose с помощью функции within_tol\n",
        "\n",
        "def within_tol(x, y, atol, rtol):\n",
        "\n",
        "$\\quad$  with errstate(invalid='ignore'):\n",
        "\n",
        "$\\quad$   return less_equal(abs(x-y), atol + rtol * abs(y))\n",
        "\n",
        "\n",
        "within_tol проверяет выполнение условия $|x - y| \\le atol + rtol\\cdot|y|$\n",
        "\n",
        "Cравним такие два вектора-строки:"
      ]
    },
    {
      "cell_type": "code",
      "metadata": {
        "colab": {
          "base_uri": "https://localhost:8080/"
        },
        "id": "wGnMcKjRWWVq",
        "outputId": "fb14db4b-b535-4aee-f8e6-4a4faddee3dc"
      },
      "source": [
        "BB1 = np.array([0.5, 1.9, 1000.1, 100000.9])\n",
        "BB2 = np.array([0.6, 1.9, 1000.1, 100000.9])\n",
        "BB3 = np.array([0.499, 1.9, 1000.21, 100000.1])\n",
        "for pair in (('BB1 == BB2', BB1, BB2), ('BB1 == BB3', BB1, BB3)):\n",
        "  my_text, B1, B2 = pair\n",
        "  print(f\"\"\"{my_text}\\natol = 0.1 {np.allclose(B1, B2, atol=0.1)}\\n\\\n",
        "rtol = 0.01 {np.allclose(B1, B2, rtol=0.01)}\n",
        "atol = 0.1,  rtol = 0.01 {np.allclose(B1, B2, atol=0.1, rtol=0.01)}\"\"\")"
      ],
      "execution_count": null,
      "outputs": [
        {
          "output_type": "stream",
          "name": "stdout",
          "text": [
            "BB1 == BB2\n",
            "atol = 0.1 True\n",
            "rtol = 0.01 False\n",
            "atol = 0.1,  rtol = 0.01 True\n",
            "BB1 == BB3\n",
            "atol = 0.1 True\n",
            "rtol = 0.01 True\n",
            "atol = 0.1,  rtol = 0.01 True\n"
          ]
        }
      ]
    },
    {
      "cell_type": "markdown",
      "metadata": {
        "id": "jUZh6bGoX01J"
      },
      "source": [
        "Обратите внимание, что разность двух последних элементов сравниваемых строк $BB_1$ и  $BB_3$  больше, чем 0.1, но при atol = 0.1 np.allclose возвращает True, это проявляется значение по умолчанию rtol=1e-05.\n",
        "\n",
        "Если требуется учитывать только абсолютное отклонение, то нужно установить rtol=0."
      ]
    },
    {
      "cell_type": "code",
      "metadata": {
        "colab": {
          "base_uri": "https://localhost:8080/"
        },
        "id": "ZMziGocTyYPW",
        "outputId": "c7e5507d-f75c-4fb7-9261-905bfb96fde8"
      },
      "source": [
        "for pair in (('BB1 == BB2', BB1, BB2), ('BB1 == BB3', BB1, BB3)):\n",
        "  my_text, B1, B2 = pair\n",
        "  print(f\"\"\"{my_text}\\natol = 0.1 {np.allclose(B1, B2, atol=0.1, rtol=0)}\"\"\")"
      ],
      "execution_count": null,
      "outputs": [
        {
          "output_type": "stream",
          "name": "stdout",
          "text": [
            "BB1 == BB2\n",
            "atol = 0.1 True\n",
            "BB1 == BB3\n",
            "atol = 0.1 False\n"
          ]
        }
      ]
    },
    {
      "cell_type": "markdown",
      "metadata": {
        "id": "qzHyPgGA0F3M"
      },
      "source": [
        "# Важно!!!\n",
        "По тереме Фробениуса-Перрона собственный вектор, соответствующий максимальному собственному значению ПОЛОЖИТЕЛЬНЫЙ, т.е. все его элементы положительные, а у нас не так, проверим:"
      ]
    },
    {
      "cell_type": "code",
      "metadata": {
        "colab": {
          "base_uri": "https://localhost:8080/"
        },
        "id": "txQdMl580dCt",
        "outputId": "d3a1c5a9-d096-40a4-cad8-0fa94b7f45a3"
      },
      "source": [
        "print('С.в. x_lambda_max, соответствующий корню Перрона A1, положительный?',\n",
        "      x_lambda_max > 0)"
      ],
      "execution_count": null,
      "outputs": [
        {
          "output_type": "stream",
          "name": "stdout",
          "text": [
            "С.в. x_lambda_max, соответствующий корню Перрона A1, положительный? [ True  True  True  True  True  True  True  True  True  True]\n"
          ]
        }
      ]
    },
    {
      "cell_type": "markdown",
      "metadata": {
        "id": "hZPF7xbQ3J_x"
      },
      "source": [
        "Поскольку собственные векторы определяются с точностью до множителя, который еще и может быть отрицательным, то имеет смысл проверять не положительность всех координат, а одного ли все они знака.\n",
        "\n",
        "## Неразложимая матрица\n",
        "Матрица $A_{n\\times n} \\ge 0$ называется неразложимой, если одновременной перестановкой строк и столбцов ее нельзя привести к виду\n",
        "$$\n",
        "A = \n",
        "\\left(\n",
        "\\begin{matrix}\n",
        "  & P & &| & Q &\\\\\n",
        "- & - & &| & - & - \\\\\n",
        "0 & 0 & 0 &|  &  &  \\\\\n",
        "0 & 0 & 0 &|  & R &  \\\\\n",
        "0 & 0 & 0 &|  &  &  \n",
        "\\end{matrix}\n",
        "  \\right)\n",
        "$$\n",
        "где $P$ и $R$ квадратные матрицы размерности $n > 0$.\n",
        "## Свойство 1. \n",
        "Матрица смежности $A$ взвешенного ориентированного графа $G$ неразложимая тогда и только тогда, когда граф $G$ сильно связный, т.е. в нем есть путь из любой вершины в любую.\n",
        "## Предложение 1.\n",
        "Матрица $A \\ge 0$ неразложимая тогда и только тогда, когда для любых $i$ и $j$ существует $k < n$ такое что\n",
        "$$\n",
        "(A^k)_{ij} > 0.\n",
        "$$\n",
        "## Теорема Перрона-Фробениуса (Фробениус, 1913)\n",
        "Если $A \\ge 0$ неразложимая, то выполняется теорема Перрона.\n",
        "## Следствие 1.\n",
        "Если $A \\ge 0$, то существует $\\hat \\lambda \\ge 0$ - вещественное собственное значение, равное спектральному радиусу $\\rho(A)$ и такое, что ему соответствует собственный вектор $\\hat x \\ge 0$ (возможно, не единственный!)\n",
        "\n",
        "## Пример 2\n",
        "Покажем что для матрицы $A_2$ выполняется теорема Перрона\n",
        "$$\n",
        "A_2 = \n",
        "\\left(\n",
        "\\begin{matrix}\n",
        "0 & 3 & 0 & 5 & 9\\\\\n",
        "3 & 7 & 4 & 0 & 0\\\\\n",
        "0 & 4 & 0 & 0 & 0\\\\\n",
        "5 & 0 & 0 & 0 & 2\\\\\n",
        "9 & 6 & 0 & 2 & 8  \n",
        "\\end{matrix}\n",
        "  \\right)\n",
        "$$"
      ]
    },
    {
      "cell_type": "code",
      "metadata": {
        "id": "MTCYDGXdUCl9",
        "colab": {
          "base_uri": "https://localhost:8080/",
          "height": 242
        },
        "outputId": "82854ffd-5cc2-4f15-e928-fc3572d6c1c8"
      },
      "source": [
        "A2 = np.array([[0, 3, 0, 5, 9],\n",
        "               [3, 7, 4, 0, 0],\n",
        "               [0, 4, 0, 0, 0],\n",
        "               [5, 0, 0, 0, 2],\n",
        "               [9, 6, 0, 2, 8]])\n",
        "spectrA2, eigvectorsA2 = np.linalg.eig(A2)\n",
        "spectrA2 = [(round(item.real) + 1j * round(item.imag)) for item in spectrA2]\n",
        "display(Latex(f\"\"\"A2\\n{latex(Matrix(A2))}\\\\\\\\\n",
        "spectrA1 = {spectrA2},\\\\\\\\\n",
        "eigvectors = {latex(Matrix(eigvectorsA2.real.round(2)))}\"\"\"))"
      ],
      "execution_count": null,
      "outputs": [
        {
          "output_type": "display_data",
          "data": {
            "text/plain": [
              "<IPython.core.display.Latex object>"
            ],
            "text/latex": "A2\n\\left[\\begin{matrix}0 & 3 & 0 & 5 & 9\\\\3 & 7 & 4 & 0 & 0\\\\0 & 4 & 0 & 0 & 0\\\\5 & 0 & 0 & 0 & 2\\\\9 & 6 & 0 & 2 & 8\\end{matrix}\\right]\\\\\nspectrA1 = [(16+0j), (-7+0j), (8+0j), 0j, (-2+0j)],\\\\\neigvectors = \\left[\\begin{matrix}-0.54 & -0.8 & 0.37 & -0.22 & -0.01\\\\-0.19 & 0.2 & -0.7 & 0.01 & -0.37\\\\-0.05 & -0.11 & -0.37 & 0.15 & 0.82\\\\-0.26 & 0.45 & 0.34 & -0.85 & -0.31\\\\-0.78 & 0.33 & 0.35 & 0.46 & 0.3\\end{matrix}\\right]"
          },
          "metadata": {}
        }
      ]
    },
    {
      "cell_type": "markdown",
      "metadata": {
        "id": "A-YeRgwzdY_T"
      },
      "source": [
        "Как видим, максимальное собственное значение вещественное и положительное, а его собственный вектор - отрицательный. Умножим собственный вектор на -1 и проверим выполнение равенства $A_2 x = \\lambda x$:"
      ]
    },
    {
      "cell_type": "code",
      "metadata": {
        "colab": {
          "base_uri": "https://localhost:8080/"
        },
        "id": "yNPhcFyLdZoa",
        "outputId": "a851fa4a-2496-4f22-f76e-e4b3421f4374"
      },
      "source": [
        "lambda_maxA2 = spectrA2[0]\n",
        "x_lambda_maxA2 = - eigvectorsA2[:, 0]\n",
        "print(f\"\"\"Максимальное с.з. {lambda_maxA2},\\nс.в.{x_lambda_maxA2.real.round(2)},\n",
        "A2 x_lambda_max = lambda_max x_lambda_max - \n",
        "{np.allclose(A2 @ x_lambda_maxA2,\n",
        "             lambda_maxA2*x_lambda_maxA2,\n",
        "             atol = 0.1, rtol = 0.1)}\"\"\")"
      ],
      "execution_count": null,
      "outputs": [
        {
          "output_type": "stream",
          "name": "stdout",
          "text": [
            "Максимальное с.з. (16+0j),\n",
            "с.в.[0.54 0.19 0.05 0.26 0.78],\n",
            "A2 x_lambda_max = lambda_max x_lambda_max - \n",
            "True\n"
          ]
        }
      ]
    },
    {
      "cell_type": "markdown",
      "metadata": {
        "id": "TzHcEhNXUDLN"
      },
      "source": [
        "## Алгоритм PageRank\n",
        "Пусть в сети $n$ страниц, присвоим им номера 1, ..., $n$.\n",
        "\n",
        "Обозначим $a_{ij}$ число ссылкок станицы $j$ на страницу $i$.\n",
        "$$\n",
        "\\bar x = \n",
        "\\left(\n",
        "\\begin{matrix}\n",
        "p_1\\\\p_2\\\\...\\\\p_i\\\\...\\\\p_n\n",
        "\\end{matrix}\n",
        "\\right)  \n",
        "$$\n",
        "$p_i$ - вероятность того, что после большого числа случайных переходов со страницы на страницу пользователь попадет на страницу $i$.\n",
        "\n",
        "Пусть $p_{ij}$ - вероятность перехода со страницы $j$ на страницу $i$:\n",
        "$$\n",
        "p_{ij} = \\frac{a_{ij}}{\\sum_{k}a_{kj}}\n",
        "$$\n",
        "Обозначим $P = (p_{ij})$ - матрица вероятностей переходов.\n",
        "\n",
        "Если \n",
        "$$\n",
        "x^t = \n",
        "\\left(\n",
        "\\begin{matrix}\n",
        "x_1^t\\\\x_2^t\\\\...\\\\x_i^t\\\\...\\\\x_n^t\n",
        "\\end{matrix}\n",
        "\\right),  \n",
        "$$\n",
        "$x_i^t$ - вероятность оказаться на странице $i$ после $t$ шагов,\n",
        "то \n",
        "$$\n",
        "x_i^{t + 1} = \\sum_{j}x_j^t p_{ij} = P_i x^t,\n",
        "$$\n",
        "т.е.\n",
        "$$\n",
        "x^{t + 1} = P x^t\n",
        "$$\n",
        "При $t\\to\\infty$ получим СЛАУ $x = Px$, т.е. вектор $x$ - собственный вектор матрицы вероятностей переходов, соответствующий собственному значению 1.\n",
        "## Уточненная модель.\n",
        "Пользователь выбирает случайную страницу с вероятностью $\\alpha$, переходит по случайной ссылке с вероятностью $\\beta = 1 - \\alpha$.\n",
        "В этой модели\n",
        "$$\n",
        "x_i^{t + 1} = \\beta P_i x^t + \\alpha\\frac{1}{n},\n",
        "$$\n",
        "т.е.\n",
        "$$\n",
        "x^{t + 1} = (1 - \\alpha)P x^t + \\frac{1}{n}\\alpha\n",
        "\\left(\n",
        "\\begin{matrix}\n",
        "1\\\\...\\\\1\n",
        "\\end{matrix}\n",
        "\\right)\n",
        "= \\left[(1 - \\alpha)P  + \\frac{\\alpha}{n}\\left(\n",
        "\\begin{matrix}\n",
        "1 & ... & 1\\\\& ...&\\\\1 & ... & 1\n",
        "\\end{matrix}\n",
        "\\right)\\right]x^t = \\tilde P x^t\n",
        "$$\n",
        "$||\\tilde P||_1 = \\max_{j} |\\tilde P|_1 = \\max \\{1\\} = 1$, т.е. $|\\lambda_\\max| = \\rho(\\tilde P) \\le 1$.\n",
        "\n",
        "Итак, $\\lambda_1 = 1 \\ge |\\lambda_\\max|$, т.е. $\\lambda_1 =\\hat\\lambda$.\n",
        "Значит, существует единственный вектор $x = \\hat x > 0$. Первоначально значение параметра $\\alpha = 0.15$.\n",
        "## Пример 3.\n",
        "Найдем самую влиятельную вершину в графе, заданном матрицей смежности\n",
        "$$\n",
        "P = \\left(\n",
        "\\begin{matrix}\n",
        "1/6 & 1/3 & 1/3\\\\1/2 & 1/12 & 1/3\\\\1/3 & 7/12 & 1/3\n",
        "\\end{matrix}\n",
        "\\right)\n",
        "$$\n"
      ]
    },
    {
      "cell_type": "code",
      "metadata": {
        "colab": {
          "base_uri": "https://localhost:8080/"
        },
        "id": "2bZ15m1-HM7V",
        "outputId": "6ed98029-5465-4701-a7f9-eb01dab3b5c9"
      },
      "source": [
        "P = np.array([[1 / 6, 1 / 3, 1 / 3],\n",
        "              [1 / 2, 1 / 12, 1 / 3],\n",
        "              [1 / 3, 7 / 12, 1 / 3]])\n",
        "x0 = np.array([[1 / 3], [1 / 3], [1 / 3]])\n",
        "n = int(input('Введите число итераций\\n'))\n",
        "for i in range(1, n + 1):\n",
        "  x0 = P @ x0\n",
        "  print(f'итерация {i}: x{i} = {x0.T[0].real.round(2)}')"
      ],
      "execution_count": null,
      "outputs": [
        {
          "output_type": "stream",
          "name": "stdout",
          "text": [
            "Введите число итераций\n",
            "3\n",
            "итерация 1: x1 = [0.28 0.31 0.42]\n",
            "итерация 2: x2 = [0.29 0.3  0.41]\n",
            "итерация 3: x3 = [0.29 0.31 0.41]\n"
          ]
        }
      ]
    },
    {
      "cell_type": "code",
      "metadata": {
        "colab": {
          "base_uri": "https://localhost:8080/",
          "height": 91
        },
        "id": "ePN5h5i6KhSs",
        "outputId": "2ccd375c-5c2f-4fd1-85b8-c47f4415d314"
      },
      "source": [
        "ev = np.linalg.eig(P)\n",
        "display(*[item.real.round(2) for item in ev])"
      ],
      "execution_count": null,
      "outputs": [
        {
          "output_type": "display_data",
          "data": {
            "text/plain": [
              "array([ 1.  , -0.17, -0.25])"
            ]
          },
          "metadata": {}
        },
        {
          "output_type": "display_data",
          "data": {
            "text/plain": [
              "array([[ 0.49,  0.27, -0.  ],\n",
              "       [ 0.52,  0.53, -0.71],\n",
              "       [ 0.7 , -0.8 ,  0.71]])"
            ]
          },
          "metadata": {}
        }
      ]
    },
    {
      "cell_type": "markdown",
      "metadata": {
        "id": "8RXX-g0oPUsL"
      },
      "source": [
        "Выделим собственный вектор, соответствующий собственному значению 1:"
      ]
    },
    {
      "cell_type": "code",
      "metadata": {
        "colab": {
          "base_uri": "https://localhost:8080/"
        },
        "id": "sXf53bNnPa-R",
        "outputId": "4bf642ec-4658-40e8-e3b8-7972345d2913"
      },
      "source": [
        "ev1  = np.array([ev[1][:, k] for k in range(ev[1].shape[0]) if np.allclose(ev[0][k], 1)])\n",
        "print(f'Собственному значению 1 соответствует собственный вектор {ev1.real.round(2)}')"
      ],
      "execution_count": null,
      "outputs": [
        {
          "output_type": "stream",
          "name": "stdout",
          "text": [
            "Собственному значению 1 соответствует собственный вектор [[0.49 0.52 0.7 ]]\n"
          ]
        }
      ]
    },
    {
      "cell_type": "markdown",
      "metadata": {
        "id": "Cwr0NQ4dSBB7"
      },
      "source": [
        "Нормализуем этот вектор по норме $\\infty$:"
      ]
    },
    {
      "cell_type": "code",
      "metadata": {
        "colab": {
          "base_uri": "https://localhost:8080/"
        },
        "id": "hAZ25B8QSAYk",
        "outputId": "687b5536-a14d-4a3b-9d80-625738daafce"
      },
      "source": [
        "ev1 = ev1 / np.linalg.norm(ev1, ord=np.inf)\n",
        "print(f'Нормализованный собственный вектор {ev1.real.round(2)}')"
      ],
      "execution_count": null,
      "outputs": [
        {
          "output_type": "stream",
          "name": "stdout",
          "text": [
            "Нормализованный собственный вектор [[0.29 0.3  0.41]]\n"
          ]
        }
      ]
    },
    {
      "cell_type": "markdown",
      "metadata": {
        "id": "P2Afb6XiS9Bl"
      },
      "source": [
        "Как видно из итерационного процесса, именно к этому вектору сходится последовательность.\n",
        "\n",
        "Вывод - самая влиятельная вершина третья, ей соответствует самая большая предельная вероятность."
      ]
    }
  ]
}