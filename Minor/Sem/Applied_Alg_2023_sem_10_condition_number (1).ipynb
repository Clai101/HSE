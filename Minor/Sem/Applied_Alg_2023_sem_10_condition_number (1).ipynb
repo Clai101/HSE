{
  "nbformat": 4,
  "nbformat_minor": 0,
  "metadata": {
    "kernelspec": {
      "display_name": "Python 3",
      "language": "python",
      "name": "python3"
    },
    "colab": {
      "provenance": []
    }
  },
  "cells": [
    {
      "cell_type": "markdown",
      "metadata": {
        "id": "fis1w-TTVnuw"
      },
      "source": [
        "# Занятие 10\n",
        "# Прикладная алгебра и численные методы\n",
        "## Число обусловленности. Погрешность решения СЛАУ. Погрешность обратной матрицы."
      ]
    },
    {
      "cell_type": "code",
      "metadata": {
        "id": "mGFcxneQVnu6"
      },
      "source": [
        "import numpy as np\n",
        "import sympy\n",
        "import scipy.linalg\n",
        "import numpy.linalg\n",
        "import pandas as pd\n",
        "from google.colab import files\n",
        "from IPython.display import Latex"
      ],
      "execution_count": 1,
      "outputs": []
    },
    {
      "cell_type": "markdown",
      "metadata": {
        "id": "focs6r2D_dit"
      },
      "source": [
        "## Число обусловленности\n",
        "$$\n",
        "\\chi = ||A||\\cdot ||A^{-1}||\n",
        "$$\n",
        "Число обусловленности вычисляется как произведение норм матрицы $A$ и обратной матрицы $A^{-1}$, число обусловленности зависит от того, какая норма используется.\n",
        "\n",
        "В numpy.linalg есть функция cond для вычисления числа обусловленности\n",
        "\n",
        "https://numpy.org/doc/stable/reference/generated/numpy.linalg.cond.html\n",
        "\n",
        "**linalg.cond(x, p=None)**\n",
        "\n",
        "Функция cond вычисляет число обусловленности матрицы x, параметр p отвечает за норму, это эквивалент ord в linalg.norm, значения те же самые.\n",
        "$$\n",
        "\\begin{matrix}\n",
        "p &\tnorm\\ for\\ matrices\\\\\n",
        "None &\t\tFrobenius\\ norm\\\\\n",
        "‘fro’\t &\tFrobenius\\ norm\\\\\n",
        "‘nuc’ &\t\tnuclear\\ norm\\\\\n",
        "inf &\t\tmax(sum(abs(x),\\ axis=1))\\\\\n",
        "-inf &\t\tmin(sum(abs(x),\\ axis=1))\\\\\n",
        "0\t &\t–\\\\\n",
        "1\t &\tmax(sum(abs(x),\\ axis=0))\\\\\n",
        "-1 &\t\tmin(sum(abs(x),\\ axis=0))\\\\\n",
        "2\t &\t2-norm\\ (largest\\ singular\\ value)\\\\\n",
        "-2 &\t\tsmallest\\ singular\\ value\\\\\n",
        "other &\t\t–\n",
        "\\end{matrix}\n",
        "$$\n",
        "## Пример 1.\n",
        "Узнаем число обусловленности матрицы $M$ в соответствии с матричными нормами $||\\cdot||_1$, $||\\cdot||_2$, $||\\cdot||_\\infty$ и $||\\cdot||_F$.\n",
        "$$\n",
        "\\left(\n",
        "\\begin{matrix}\n",
        "1 & 3 & 5\\\\\n",
        "2 & 5 & 9\\\\\n",
        "3 & 7 & 11\n",
        "\\end{matrix}\n",
        "  \\right)\n",
        "$$"
      ]
    },
    {
      "cell_type": "code",
      "metadata": {
        "colab": {
          "base_uri": "https://localhost:8080/"
        },
        "id": "722533YfazJD",
        "outputId": "07f0267d-160e-427f-9507-48cf8224b7ca"
      },
      "source": [
        "M = [[1, 3, 5], [2, 5, 9], [3, 7, 11]]\n",
        "print(f'M = {M}', *[f'cond(M, {item})  = {round(np.linalg.cond(M, p=item), 2)}'\\\n",
        "                    for item in (1, 2, np.inf, 'fro')], sep='\\n')"
      ],
      "execution_count": null,
      "outputs": [
        {
          "output_type": "stream",
          "name": "stdout",
          "text": [
            "M = [[1, 3, 5], [2, 5, 9], [3, 7, 11]]\n",
            "cond(M, 1)  = 175.0\n",
            "cond(M, 2)  = 93.48\n",
            "cond(M, inf)  = 126.0\n",
            "cond(M, fro)  = 98.59\n"
          ]
        }
      ]
    },
    {
      "cell_type": "markdown",
      "metadata": {
        "id": "o2U0tG78BYjg"
      },
      "source": [
        "## Число обусловленности в Sympy\n",
        "https://docs.sympy.org/latest/modules/matrices/matrices.html#sympy.matrices.matrices.MatrixBase.condition_number\n",
        "\n",
        "condition_number()\n",
        "\n",
        "В sympy реализовано минимально возможное число обусловленности, т.е. отношение максимального собственного значения к минимальному, это метод класса матриц Matrix.\n",
        "## Пример 2\n",
        "Узнаем число обусловленности матриц $D_2$ и $M_2$ с помощью sympy, сравним с числами обусловленности из numpy.\n",
        "$$\n",
        "D_2 = \n",
        "\\left(\n",
        "\\begin{matrix}\n",
        "1 & 9\\\\\n",
        "-2 & 10\n",
        "\\end{matrix}\n",
        "  \\right),\\quad\n",
        "M_2 = \\left(\n",
        "\\begin{matrix}\n",
        "1 & 9 & 5\\\\\n",
        "-2 & 10 & 7\\\\\n",
        "-1 & 5 & 4\n",
        "\\end{matrix}\n",
        "  \\right)\n",
        "$$"
      ]
    },
    {
      "cell_type": "code",
      "metadata": {
        "colab": {
          "base_uri": "https://localhost:8080/",
          "height": 283
        },
        "id": "OztbjFvbMmPm",
        "outputId": "e1489f5a-1c3e-40d8-c2e7-61102f3ea7c8"
      },
      "source": [
        "D2 = [[1, 9], [-2, 10]]\n",
        "M2 = np.asfarray([[1, 9, 5], [-2, 10, 7], [-1, 5, 4]])\n",
        "for name, matr in zip(('D2', 'M2'), (D2, M2)):\n",
        "  print(f'{name} = {matr}', *[f'cond(M, {item})  =\\\n",
        "   {round(np.linalg.cond(matr, p=item), 2)}' for item in (1, 2, np.inf, 'fro')],\n",
        "   sep='\\n')\n",
        "  display(Latex(f'cond\\_sympy = \\\n",
        "  {sympy.latex(sympy.Matrix(matr).condition_number().simplify())}'))"
      ],
      "execution_count": null,
      "outputs": [
        {
          "output_type": "stream",
          "name": "stdout",
          "text": [
            "D2 = [[1, 9], [-2, 10]]\n",
            "cond(M, 1)  =   8.14\n",
            "cond(M, 2)  =   6.49\n",
            "cond(M, inf)  =   8.14\n",
            "cond(M, fro)  =   6.64\n"
          ]
        },
        {
          "output_type": "display_data",
          "data": {
            "text/plain": [
              "<IPython.core.display.Latex object>"
            ],
            "text/latex": "cond\\_sympy =   \\frac{\\sqrt{11 \\sqrt{65} + 93}}{\\sqrt{93 - 11 \\sqrt{65}}}"
          },
          "metadata": {}
        },
        {
          "output_type": "stream",
          "name": "stdout",
          "text": [
            "M2 = [[ 1.  9.  5.]\n",
            " [-2. 10.  7.]\n",
            " [-1.  5.  4.]]\n",
            "cond(M, 1)  =   99.43\n",
            "cond(M, 2)  =   49.64\n",
            "cond(M, inf)  =   57.0\n",
            "cond(M, fro)  =   50.67\n"
          ]
        },
        {
          "output_type": "display_data",
          "data": {
            "text/plain": [
              "<IPython.core.display.Latex object>"
            ],
            "text/latex": "cond\\_sympy =   49.6421039590328"
          },
          "metadata": {}
        }
      ]
    },
    {
      "cell_type": "markdown",
      "metadata": {
        "id": "kETpkwmANiFs"
      },
      "source": [
        "Не стоит использовать для вычисления числа обусловленности произвольной матрицы  condition_number из sympy, если нет уверенности, что все собственные числа матрицы и обратной матрицы - вещественные числа, лучше - целые.\n",
        "\n",
        "Матрица M2 была создана на основе farray (np.asfarray([])) для того, чтобы вычисления в sympy проводились приближенные, иначе не удается получить число обусловленности.\n",
        "\n",
        "Для матрицы $D_2$ удалось получить аналитическое выражение для числа обусловленности (np.asfarray([]) не использовали!).\n",
        "\n",
        "## Оценка погрешности СЛАУ\n",
        "## Пример 3\n",
        "Рассмотрим пример вырожденной СЛАУ $AX = b$ с матрицей $A$ и вектором правой части $b$ такого вида:\n",
        "$$\n",
        "A = \n",
        "\\left(\n",
        "\\begin{matrix}\n",
        "1 & 2 & 3 & ... & 10\\\\\n",
        "1 & 2 & 3 & ... & 10\\\\\n",
        "&&&...&\\\\\n",
        "1 & 2 & 3 & ... & 10\\\\\n",
        "\\end{matrix}\n",
        "  \\right), \\quad\n",
        "b = \n",
        "\\left(\n",
        "\\begin{matrix}\n",
        "5\\\\\n",
        "5\\\\\n",
        "...\\\\\n",
        "5\\\\\n",
        "\\end{matrix}\n",
        "  \\right)\n",
        "$$\n",
        "Внесем искажения в каждый элемент матрицы $A$ и вектора $b$ в виде случайных чисел типа float (от 0 до 1), умноженных на 0.001.\n",
        "\n",
        "С помощью np.linalg.solve найдем решение искаженной СЛАУ. \n",
        "\n",
        "Очевидно, внося случайные искажения в те же самые исходную вырожденную матрицу $A$ и вектор $b$, в другой раз мы получим другое решение.\n",
        "Посмотрим, насколько близки решения искаженных СЛАУ, для этого сгенерируем 10 искаженных СЛАУ и сравним их решения. Близость решений будем оценивать с помощью евклидовой нормы разности решений $||X_n - X_m||$, также используем np.allclose. Для каждого случая вычислим также норму разности матриц $||A_n - A_m||$ и векторов правых частей $||b_n - b_m||$.\n"
      ]
    },
    {
      "cell_type": "code",
      "metadata": {
        "colab": {
          "base_uri": "https://localhost:8080/",
          "height": 324
        },
        "id": "530Ce0GmEt8t",
        "outputId": "bc7084d4-13f6-43fd-d084-ea87d35e2820"
      },
      "source": [
        "rng = np.random.default_rng(12345) # генератор псевдослучайных чисел типа float (от 0 до 1)\n",
        "\n",
        "X = []\n",
        "A = []\n",
        "b = []\n",
        "for k in range(10):\n",
        "  Ak = np.array([[i + 1 + 0.001*rng.random() for i in range(10)] for j in range(10)])\n",
        "  bk = np.array([[5 + 0.001*rng.random()] for i in range(10)])\n",
        "  X.append(np.round(np.linalg.solve(Ak, bk)[:, 0], 2))\n",
        "  A.append(Ak)\n",
        "  b.append(bk)\n",
        "display(Latex(f'\\\\text{{решения N 1, 2, 3: }}:\\\\\\\\\\\n",
        "{sympy.latex(sympy.Matrix(X[:3]))}'))\n",
        "\n",
        "for n in range(3):\n",
        "  for m in range(n + 1, 3):\n",
        "    print(f'решения {n + 1} и {m + 1} близки? {np.allclose(X[n], X[m])}')\n",
        "    for name, item in zip(('||Xn - Xm||', '||An - Am||', '||bn - bm||'),\n",
        "                          (X, A, b)):\n",
        "        print(f'{name} = {round(np.linalg.norm(item[n] - item[m], 2), 4)}')\n",
        "        \n",
        "num_almost_eq = sum([1  for i in range(10) for j in range(10) \\\n",
        "                     if i < j and np.allclose(X[i], X[j], atol=0.8, rtol=0.5)])    \n",
        "print(f'почти одинаковых решений среди пар из 10 решений: {num_almost_eq}') "
      ],
      "execution_count": null,
      "outputs": [
        {
          "output_type": "display_data",
          "data": {
            "text/plain": [
              "<IPython.core.display.Latex object>"
            ],
            "text/latex": "\\text{решения N 1, 2, 3: }:\\\\\\left[\\begin{matrix}-0.63 & 0.4 & -0.93 & 0.68 & 0.63 & 0.61 & -1.73 & -0.05 & 0.95 & 0.2\\\\0.49 & 0.09 & 0.65 & 0.42 & 1.72 & 1.25 & 0.61 & -0.4 & -0.79 & -0.93\\\\0.23 & 2.82 & -0.99 & 0.42 & 1.36 & 1.93 & -1.19 & 1.41 & -0.7 & -1.46\\end{matrix}\\right]"
          },
          "metadata": {}
        },
        {
          "output_type": "stream",
          "name": "stdout",
          "text": [
            "решения 1 и 2 близки? False\n",
            "||Xn - Xm|| = 3.9262\n",
            "||An - Am|| = 0.0026\n",
            "||bn - bm|| = 0.0009\n",
            "решения 1 и 3 близки? False\n",
            "||Xn - Xm|| = 4.1041\n",
            "||An - Am|| = 0.0021\n",
            "||bn - bm|| = 0.001\n",
            "решения 2 и 3 близки? False\n",
            "||Xn - Xm|| = 4.1961\n",
            "||An - Am|| = 0.0024\n",
            "||bn - bm|| = 0.0008\n",
            "почти одинаковых решений среди пар из 10 решений: 1\n"
          ]
        }
      ]
    },
    {
      "cell_type": "markdown",
      "metadata": {
        "id": "KycLY3cM9Elq"
      },
      "source": [
        "Получились разные решения. \n",
        "# Применение метода главных компонент PCA\n",
        "## Пример 2\n",
        "В файле записаны оценки студентов за лабораторные работы и коментарии к ним. Выделим 2 главные компоненты на основе оценок только за лабораторные работы и разобъем студентов на 4 группы в соответствии со знаком каждоый компоненты (++, +-, -+, --), запишем в один файл на отдельные листы с именами \"++\", \"+-\", \"-+\", \"--\" оценки по всем лабораторным работам, а также округленный накоп и итог. \n"
      ]
    },
    {
      "cell_type": "code",
      "source": [
        "uploaded1 = files.upload()\n",
        "for fn in uploaded1.keys():\n",
        "  print(f'User uploaded file \"{fn}\"')"
      ],
      "metadata": {
        "colab": {
          "base_uri": "https://localhost:8080/",
          "height": 90
        },
        "id": "rrPmcN-cO2Rk",
        "outputId": "ae85f8b4-4082-41cb-dc3a-960bff357552"
      },
      "execution_count": null,
      "outputs": [
        {
          "output_type": "display_data",
          "data": {
            "text/plain": [
              "<IPython.core.display.HTML object>"
            ],
            "text/html": [
              "\n",
              "     <input type=\"file\" id=\"files-94d8b658-f2f6-42f9-83b4-9c6569bf3cd9\" name=\"files[]\" multiple disabled\n",
              "        style=\"border:none\" />\n",
              "     <output id=\"result-94d8b658-f2f6-42f9-83b4-9c6569bf3cd9\">\n",
              "      Upload widget is only available when the cell has been executed in the\n",
              "      current browser session. Please rerun this cell to enable.\n",
              "      </output>\n",
              "      <script>// Copyright 2017 Google LLC\n",
              "//\n",
              "// Licensed under the Apache License, Version 2.0 (the \"License\");\n",
              "// you may not use this file except in compliance with the License.\n",
              "// You may obtain a copy of the License at\n",
              "//\n",
              "//      http://www.apache.org/licenses/LICENSE-2.0\n",
              "//\n",
              "// Unless required by applicable law or agreed to in writing, software\n",
              "// distributed under the License is distributed on an \"AS IS\" BASIS,\n",
              "// WITHOUT WARRANTIES OR CONDITIONS OF ANY KIND, either express or implied.\n",
              "// See the License for the specific language governing permissions and\n",
              "// limitations under the License.\n",
              "\n",
              "/**\n",
              " * @fileoverview Helpers for google.colab Python module.\n",
              " */\n",
              "(function(scope) {\n",
              "function span(text, styleAttributes = {}) {\n",
              "  const element = document.createElement('span');\n",
              "  element.textContent = text;\n",
              "  for (const key of Object.keys(styleAttributes)) {\n",
              "    element.style[key] = styleAttributes[key];\n",
              "  }\n",
              "  return element;\n",
              "}\n",
              "\n",
              "// Max number of bytes which will be uploaded at a time.\n",
              "const MAX_PAYLOAD_SIZE = 100 * 1024;\n",
              "\n",
              "function _uploadFiles(inputId, outputId) {\n",
              "  const steps = uploadFilesStep(inputId, outputId);\n",
              "  const outputElement = document.getElementById(outputId);\n",
              "  // Cache steps on the outputElement to make it available for the next call\n",
              "  // to uploadFilesContinue from Python.\n",
              "  outputElement.steps = steps;\n",
              "\n",
              "  return _uploadFilesContinue(outputId);\n",
              "}\n",
              "\n",
              "// This is roughly an async generator (not supported in the browser yet),\n",
              "// where there are multiple asynchronous steps and the Python side is going\n",
              "// to poll for completion of each step.\n",
              "// This uses a Promise to block the python side on completion of each step,\n",
              "// then passes the result of the previous step as the input to the next step.\n",
              "function _uploadFilesContinue(outputId) {\n",
              "  const outputElement = document.getElementById(outputId);\n",
              "  const steps = outputElement.steps;\n",
              "\n",
              "  const next = steps.next(outputElement.lastPromiseValue);\n",
              "  return Promise.resolve(next.value.promise).then((value) => {\n",
              "    // Cache the last promise value to make it available to the next\n",
              "    // step of the generator.\n",
              "    outputElement.lastPromiseValue = value;\n",
              "    return next.value.response;\n",
              "  });\n",
              "}\n",
              "\n",
              "/**\n",
              " * Generator function which is called between each async step of the upload\n",
              " * process.\n",
              " * @param {string} inputId Element ID of the input file picker element.\n",
              " * @param {string} outputId Element ID of the output display.\n",
              " * @return {!Iterable<!Object>} Iterable of next steps.\n",
              " */\n",
              "function* uploadFilesStep(inputId, outputId) {\n",
              "  const inputElement = document.getElementById(inputId);\n",
              "  inputElement.disabled = false;\n",
              "\n",
              "  const outputElement = document.getElementById(outputId);\n",
              "  outputElement.innerHTML = '';\n",
              "\n",
              "  const pickedPromise = new Promise((resolve) => {\n",
              "    inputElement.addEventListener('change', (e) => {\n",
              "      resolve(e.target.files);\n",
              "    });\n",
              "  });\n",
              "\n",
              "  const cancel = document.createElement('button');\n",
              "  inputElement.parentElement.appendChild(cancel);\n",
              "  cancel.textContent = 'Cancel upload';\n",
              "  const cancelPromise = new Promise((resolve) => {\n",
              "    cancel.onclick = () => {\n",
              "      resolve(null);\n",
              "    };\n",
              "  });\n",
              "\n",
              "  // Wait for the user to pick the files.\n",
              "  const files = yield {\n",
              "    promise: Promise.race([pickedPromise, cancelPromise]),\n",
              "    response: {\n",
              "      action: 'starting',\n",
              "    }\n",
              "  };\n",
              "\n",
              "  cancel.remove();\n",
              "\n",
              "  // Disable the input element since further picks are not allowed.\n",
              "  inputElement.disabled = true;\n",
              "\n",
              "  if (!files) {\n",
              "    return {\n",
              "      response: {\n",
              "        action: 'complete',\n",
              "      }\n",
              "    };\n",
              "  }\n",
              "\n",
              "  for (const file of files) {\n",
              "    const li = document.createElement('li');\n",
              "    li.append(span(file.name, {fontWeight: 'bold'}));\n",
              "    li.append(span(\n",
              "        `(${file.type || 'n/a'}) - ${file.size} bytes, ` +\n",
              "        `last modified: ${\n",
              "            file.lastModifiedDate ? file.lastModifiedDate.toLocaleDateString() :\n",
              "                                    'n/a'} - `));\n",
              "    const percent = span('0% done');\n",
              "    li.appendChild(percent);\n",
              "\n",
              "    outputElement.appendChild(li);\n",
              "\n",
              "    const fileDataPromise = new Promise((resolve) => {\n",
              "      const reader = new FileReader();\n",
              "      reader.onload = (e) => {\n",
              "        resolve(e.target.result);\n",
              "      };\n",
              "      reader.readAsArrayBuffer(file);\n",
              "    });\n",
              "    // Wait for the data to be ready.\n",
              "    let fileData = yield {\n",
              "      promise: fileDataPromise,\n",
              "      response: {\n",
              "        action: 'continue',\n",
              "      }\n",
              "    };\n",
              "\n",
              "    // Use a chunked sending to avoid message size limits. See b/62115660.\n",
              "    let position = 0;\n",
              "    do {\n",
              "      const length = Math.min(fileData.byteLength - position, MAX_PAYLOAD_SIZE);\n",
              "      const chunk = new Uint8Array(fileData, position, length);\n",
              "      position += length;\n",
              "\n",
              "      const base64 = btoa(String.fromCharCode.apply(null, chunk));\n",
              "      yield {\n",
              "        response: {\n",
              "          action: 'append',\n",
              "          file: file.name,\n",
              "          data: base64,\n",
              "        },\n",
              "      };\n",
              "\n",
              "      let percentDone = fileData.byteLength === 0 ?\n",
              "          100 :\n",
              "          Math.round((position / fileData.byteLength) * 100);\n",
              "      percent.textContent = `${percentDone}% done`;\n",
              "\n",
              "    } while (position < fileData.byteLength);\n",
              "  }\n",
              "\n",
              "  // All done.\n",
              "  yield {\n",
              "    response: {\n",
              "      action: 'complete',\n",
              "    }\n",
              "  };\n",
              "}\n",
              "\n",
              "scope.google = scope.google || {};\n",
              "scope.google.colab = scope.google.colab || {};\n",
              "scope.google.colab._files = {\n",
              "  _uploadFiles,\n",
              "  _uploadFilesContinue,\n",
              "};\n",
              "})(self);\n",
              "</script> "
            ]
          },
          "metadata": {}
        },
        {
          "output_type": "stream",
          "name": "stdout",
          "text": [
            "Saving Ведомость2021_22.xlsx to Ведомость2021_22.xlsx\n",
            "User uploaded file \"Ведомость2021_22.xlsx\"\n"
          ]
        }
      ]
    },
    {
      "cell_type": "code",
      "source": [
        "from sklearn.decomposition import PCA"
      ],
      "metadata": {
        "id": "sdsAGVK3Yw2S"
      },
      "execution_count": null,
      "outputs": []
    },
    {
      "cell_type": "code",
      "source": [
        "n_tests = 18\n",
        "col_names = [f'ЛР {i + 1} оценка' for i in range(n_tests)] + ['Накоп',\n",
        "                                                       'итог'] \n",
        "df2 = pd.read_excel(fn, sheet_name='алгебра', usecols=col_names)\n",
        "# заполняем пропуски нулями\n",
        "marks = set(range(11))\n",
        "A2 = df2.to_numpy()\n",
        "n, m = A2.shape\n",
        "for i in range(n):\n",
        "    for j in range(m - 2):\n",
        "        if A2[i, j] not in marks:\n",
        "            A2[i, j] = 0\n",
        "# Выделяем 2 главных компоненты\n",
        "pca_2 = PCA(n_components=2)\n",
        "pca_2_fit = pca_2.fit_transform(A2[:, :-2])\n",
        "pca_2_principal_components=pca_2.components_\n",
        "print(f\"\"\"pca_k.explained_variance_ratio_={pca_2.explained_variance_ratio_}\n",
        "pca_k.mean_={pca_2.mean_}\n",
        "pca_k.singular_values_={pca_2.singular_values_}\"\"\")\n",
        "# Записываем в отдельные вложенные списки оценки студентов каждой из 4 групп\n",
        "res_plus_plus = []\n",
        "res_plus_minus = []\n",
        "res_minus_plus = []\n",
        "res_minus_minus = []\n",
        "for i in range(n):\n",
        "    first, second = pca_2_fit[i, :]\n",
        "    if first >= 0 and second >= 0:\n",
        "        res_plus_plus.append(A2[i, :])\n",
        "    elif first >= 0 and second < 0:\n",
        "        res_plus_minus.append(A2[i, :])\n",
        "    elif first < 0 and second >= 0:\n",
        "        res_minus_plus.append(A2[i, :])\n",
        "    else:\n",
        "        res_minus_minus.append(A2[i, :])    "
      ],
      "metadata": {
        "colab": {
          "base_uri": "https://localhost:8080/"
        },
        "id": "aeGApSb1Oxym",
        "outputId": "0e2303c3-300a-42c5-90e4-625b97b569c3"
      },
      "execution_count": null,
      "outputs": [
        {
          "output_type": "stream",
          "name": "stdout",
          "text": [
            "pca_k.explained_variance_ratio_=[0.50512539 0.07435876]\n",
            "pca_k.mean_=[5.77777778 5.30409357 4.85964912 5.19883041 4.12865497 1.83625731\n",
            " 3.30409357 4.61988304 4.66666667 4.4619883  5.30994152 4.54385965\n",
            " 4.61988304 4.93567251 4.57309942 2.50292398 4.71345029 5.05263158]\n",
            "pca_k.singular_values_=[144.76205057  55.54196037]\n"
          ]
        }
      ]
    },
    {
      "cell_type": "code",
      "source": [
        "fname = 'PCA_2.xlsx'\n",
        "with pd.ExcelWriter(fname) as writer:\n",
        "    for name, data in zip((\"++\", \"+-\", \"-+\", \"--\"),\n",
        "                          (res_plus_plus, res_plus_minus,\n",
        "                           res_minus_plus, res_minus_minus)):\n",
        "        df = pd.DataFrame(data, columns=col_names)\n",
        "        df.to_excel(writer, sheet_name=name, index=True)\n",
        "        \n",
        "files.download(fname)"
      ],
      "metadata": {
        "colab": {
          "base_uri": "https://localhost:8080/",
          "height": 17
        },
        "id": "RwPCDKRznLQ9",
        "outputId": "21623177-f49b-470a-a102-81a5d1daed2a"
      },
      "execution_count": null,
      "outputs": [
        {
          "output_type": "display_data",
          "data": {
            "text/plain": [
              "<IPython.core.display.Javascript object>"
            ],
            "application/javascript": [
              "\n",
              "    async function download(id, filename, size) {\n",
              "      if (!google.colab.kernel.accessAllowed) {\n",
              "        return;\n",
              "      }\n",
              "      const div = document.createElement('div');\n",
              "      const label = document.createElement('label');\n",
              "      label.textContent = `Downloading \"${filename}\": `;\n",
              "      div.appendChild(label);\n",
              "      const progress = document.createElement('progress');\n",
              "      progress.max = size;\n",
              "      div.appendChild(progress);\n",
              "      document.body.appendChild(div);\n",
              "\n",
              "      const buffers = [];\n",
              "      let downloaded = 0;\n",
              "\n",
              "      const channel = await google.colab.kernel.comms.open(id);\n",
              "      // Send a message to notify the kernel that we're ready.\n",
              "      channel.send({})\n",
              "\n",
              "      for await (const message of channel.messages) {\n",
              "        // Send a message to notify the kernel that we're ready.\n",
              "        channel.send({})\n",
              "        if (message.buffers) {\n",
              "          for (const buffer of message.buffers) {\n",
              "            buffers.push(buffer);\n",
              "            downloaded += buffer.byteLength;\n",
              "            progress.value = downloaded;\n",
              "          }\n",
              "        }\n",
              "      }\n",
              "      const blob = new Blob(buffers, {type: 'application/binary'});\n",
              "      const a = document.createElement('a');\n",
              "      a.href = window.URL.createObjectURL(blob);\n",
              "      a.download = filename;\n",
              "      div.appendChild(a);\n",
              "      a.click();\n",
              "      div.remove();\n",
              "    }\n",
              "  "
            ]
          },
          "metadata": {}
        },
        {
          "output_type": "display_data",
          "data": {
            "text/plain": [
              "<IPython.core.display.Javascript object>"
            ],
            "application/javascript": [
              "download(\"download_7be30a5a-52b6-47ae-bf2c-98b827c92cc8\", \"PCA_2.xlsx\", 18494)"
            ]
          },
          "metadata": {}
        }
      ]
    }
  ]
}