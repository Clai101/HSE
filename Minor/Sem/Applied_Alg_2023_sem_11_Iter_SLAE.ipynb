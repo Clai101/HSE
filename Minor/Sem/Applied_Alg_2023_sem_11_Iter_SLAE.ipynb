{
  "nbformat": 4,
  "nbformat_minor": 0,
  "metadata": {
    "kernelspec": {
      "display_name": "Python 3",
      "language": "python",
      "name": "python3"
    },
    "colab": {
      "provenance": []
    }
  },
  "cells": [
    {
      "cell_type": "markdown",
      "metadata": {
        "id": "fis1w-TTVnuw"
      },
      "source": [
        "# Занятие 11\n",
        "# Прикладная алгебра и численные методы\n",
        "## Итерационные методы решения СЛАУ"
      ]
    },
    {
      "cell_type": "code",
      "metadata": {
        "id": "mGFcxneQVnu6"
      },
      "source": [
        "import numpy as np\n",
        "import numpy.linalg\n",
        "import scipy.linalg"
      ],
      "execution_count": 1,
      "outputs": []
    },
    {
      "cell_type": "markdown",
      "metadata": {
        "id": "RXx3Ii9XrTLH"
      },
      "source": [
        "## Метод простой итерации\n",
        "Приведем систему уравнений\n",
        "\\begin{align*}\n",
        "A x = b, \\quad \\det A\\neq 0,\n",
        "\\end{align*}\n",
        "к виду\n",
        "\\begin{align*}\n",
        "x=P x + b,\\quad(1)%\\label{sys3}\n",
        "\\end{align*}\n",
        "положив, например, $P = E - A$.\n",
        "\n",
        "Выберем произвольный вектор начального приближения $x^0$ и\n",
        "построим итерационную последовательность по схеме\n",
        "\\begin{align*}\n",
        " x^{k + 1} = P x^k + b, \\quad k = 1, 2, \\ldots\\quad(2)%\\label{sys_seq}\n",
        "\\end{align*}\n",
        "\n",
        "Достаточные условия сходимости итерационной последовательности дают\n",
        "следующие теоремы.\n",
        "\n",
        "\n",
        "### Теорема  1.\n",
        "Если $||P||<1$, то система уравнений (1) имеет\n",
        "единственное решение $ x^*$ и итерационная последовательность\n",
        "(2) сходится к  $ x^*$, причем\n",
        "\\begin{align*}\n",
        "|x^k - x^*|\\le\\frac{|x^{k + 1}- x^k|}{1-||P||}.\n",
        "\\end{align*}\n",
        "### Следствие 1 из Теоремы 1.\n",
        "Если $||P||<1$, то \n",
        "\\begin{align*}\n",
        "|x^k - x^*|\\le\\frac{||P||^k}{1-||P||}|x^1 - x^0|.\n",
        "\\end{align*}\n",
        "### Следствие 2 из Теоремы 1.\n",
        "Если $||P||<1$, то $|x^k - x^*|\\le\\varepsilon$, если\n",
        "\\begin{align*}\n",
        "k\\ge\\log_{||P||}\\left(\\varepsilon\\frac{1-||P||}{|x^1 - x^0|}\\right).\n",
        "\\end{align*}\n",
        "### Следствие 3 из Теоремы 1.\n",
        "Если $||P||<1$, и $x^0 = b$, то $|x^k - x^*|\\le\\varepsilon$, если\n",
        "\\begin{align*}\n",
        "k\\ge\\log_{||P||}\\left(\\varepsilon\\frac{1-||P||}{|b|}\\right).\n",
        "\\end{align*}\n",
        "### Теорема 2.\n",
        "Пусть система уравнений (1) имеет единственное решение\n",
        "$ x^*$, в этом случае итерационная последовательность\n",
        "(2) сходится к $ x^*$ при любом начальном приближении\n",
        "$ x^0$, тогда и только тогда, когда все собственные значения\n",
        "матрицы $P$ по модулю меньше 1 (т.е. спектральный радиус меньше 1).\n",
        "\n",
        "Теорема 2 дает более общие условия сходимости метода простой\n",
        "итерации.\n",
        "\n",
        "## Пример 1\n",
        "Решим СЛАУ $AX = b$, где\n",
        "$$\n",
        "A = 0.05\n",
        "\\left(\n",
        "\\begin{matrix}\n",
        "10 & 2 & 0 & 0 & 0\\\\\n",
        "3 & 10 & 2 & 0 & 0 \\\\\n",
        "0 & 3 & 12 & 2 & 0\\\\\n",
        "0 & 0 & 3 & 15 & 2 \\\\\n",
        "0 &0 & 0 & 3 & 11\n",
        "\\end{matrix}\n",
        "\\right),\n",
        "\\quad\n",
        "b = 0.1\n",
        "\\left(\n",
        "\\begin{matrix}\n",
        "14\\\\\n",
        "25\\\\\n",
        "20\\\\\n",
        "18 \\\\\n",
        "3\n",
        "\\end{matrix}\n",
        "\\right), \\mbox{ точное решение }\n",
        "x = \\left(\n",
        "\\begin{matrix}\n",
        "2\\\\\n",
        "4\\\\\n",
        "2\\\\\n",
        "2 \\\\\n",
        "0\n",
        "\\end{matrix}\n",
        "\\right).\n",
        "$$"
      ]
    },
    {
      "cell_type": "code",
      "metadata": {
        "colab": {
          "base_uri": "https://localhost:8080/"
        },
        "id": "m7CuP_GVQeoN",
        "outputId": "4d486bf9-cc8f-480c-c91f-aa083da41014"
      },
      "source": [
        "A1 = 0.05 * np.array([[10, 2, 0, 0, 0],\n",
        "                      [3, 10, 2, 0, 0],\n",
        "                      [0, 3, 12, 2, 0],\n",
        "                      [0, 0, 3, 15, 2],\n",
        "                      [0, 0, 0, 3, 11]])\n",
        "b1 = 0.1 * np.array([[14], [25], [20], [18], [3]])\n",
        "x1 = np.linalg.solve(A1, b1)\n",
        "print(f'np.linalg.solve: x = {np.round(x1.T, 5)}')\n",
        "x1_exact = np.array([[2], [4], [2], [2], [0]])\n",
        "x1_exact = np.array([2, 4, 2, 2, 0])\n",
        "b1 = A1 @ x1_exact\n",
        "P1 = np.eye(A1.shape[0]) - A1\n",
        "print(f\"\"\"b = {b1.T},\n",
        "Точное решение {x1_exact.T}\n",
        "Норма матрицы P = E - A равна {np.linalg.norm(P1, ord=2).round(2)}\"\"\")"
      ],
      "execution_count": 14,
      "outputs": [
        {
          "output_type": "stream",
          "name": "stdout",
          "text": [
            "np.linalg.solve: x = [[ 2.  4.  2.  2. -0.]]\n",
            "b = [1.4 2.5 2.  1.8 0.3],\n",
            "Точное решение [2 4 2 2 0]\n",
            "Норма матрицы P = E - A равна 0.67\n"
          ]
        }
      ]
    },
    {
      "cell_type": "code",
      "metadata": {
        "colab": {
          "base_uri": "https://localhost:8080/"
        },
        "id": "NUaH5iHI7y-y",
        "outputId": "c33964fb-92ec-4f4f-ef60-d7c2e93827ab"
      },
      "source": [
        "def iteration_simple(A, b, x0, eps=0.001):\n",
        "    P = np.eye(A.shape[0]) - A\n",
        "    normP = np.linalg.norm(P, ord=2)\n",
        "    x_prev = x0\n",
        "    x_next = P @ x0 + b\n",
        "    while np.linalg.norm(x_prev - x_next, ord=2) / (1 - normP) >= eps:\n",
        "        x_prev = x_next\n",
        "        x_next = P @ x_prev + b\n",
        "    return  x_next\n",
        "\n",
        "x_next = iteration_simple(A1, b1, b1, eps=0.01)\n",
        "print(f\"\"\"Решение x = {np.round(x_next, 3).T},\n",
        "AX - b = {np.round(A1 @ x_next - b1, 3).T}\n",
        "|xk - x*| = {np.linalg.norm(x_next - x1_exact, ord=2).round(3)}\"\"\")    "
      ],
      "execution_count": 21,
      "outputs": [
        {
          "output_type": "stream",
          "name": "stdout",
          "text": [
            "Решение x = [2.002e+00 3.996e+00 2.003e+00 1.999e+00 1.000e-03],\n",
            "AX - b = [ 0.001 -0.001  0.001 -0.     0.   ]\n",
            "|xk - x*| = 0.005\n"
          ]
        }
      ]
    },
    {
      "cell_type": "markdown",
      "metadata": {
        "id": "8MiLiwIQCahy"
      },
      "source": [
        "Модифицированный код того же самого, норма другая:"
      ]
    },
    {
      "cell_type": "code",
      "metadata": {
        "colab": {
          "base_uri": "https://localhost:8080/"
        },
        "id": "n8DvaRhXCfQB",
        "outputId": "995bdda9-b0c7-4609-ad7c-69f331be6f8e"
      },
      "source": [
        "def iteration_simple1(A, b, x0, eps=0.001):\n",
        "    P = np.eye(A.shape[0]) - A\n",
        "    eps1 = eps * (1 - np.linalg.norm(P, ord=np.inf))\n",
        "    x_prev = x0\n",
        "    x_next = x0 + np.ones(x0.shape[0])\n",
        "    while np.linalg.norm(x_prev - x_next, ord=np.inf) >= eps1:\n",
        "        x_prev = x_next  \n",
        "        x_next = P @ x_prev + b\n",
        "    return  x_next\n",
        "\n",
        "x_next = iteration_simple(A1, b1, b1, eps=0.01)\n",
        "print(f\"\"\"Решение x = {np.round(x_next, 3).T},\n",
        "AX - b = {np.round(A1 @ x_next - b1, 3).T}\n",
        "|xk - x*| = {np.linalg.norm(x_next - x1_exact, ord=np.inf).round(3)}\"\"\")"
      ],
      "execution_count": 22,
      "outputs": [
        {
          "output_type": "stream",
          "name": "stdout",
          "text": [
            "Решение x = [2.002e+00 3.996e+00 2.003e+00 1.999e+00 1.000e-03],\n",
            "AX - b = [ 0.001 -0.001  0.001 -0.     0.   ]\n",
            "|xk - x*| = 0.004\n"
          ]
        }
      ]
    },
    {
      "cell_type": "markdown",
      "metadata": {
        "id": "AQSRcW_DQfH8"
      },
      "source": [
        "## Итерационные методы решения СЛАУ\n",
        "\n",
        "Рассматриваем решение СЛАУ\n",
        "$$\n",
        "Ax = b, \\quad A = L + D + R,\n",
        "$$\n",
        "где $L$ - левая (нижняя) треугольная матрица, состоящая из элементов матрицы $A$, находящихся под главной диагональю  $A$, \n",
        "\n",
        "$D$ - диагональная матрица, на диагонали - диагональные элементы $A$,\n",
        "\n",
        "$R$  - правая (верхняя) треугольная матрица, состоящая из элементов $A$, находящихся над главной диагональю матрицы $A$.\n",
        "## Метод Якоби\n",
        "$$\n",
        "D(x^{k + 1} - x^k) + Ax^k = b,\\quad x^{k + 1} = (E - D^{-1}A) x^k + \\hat b,\\quad \\hat b = D^{-1}b \n",
        "$$\n",
        "## Метод Гаусса-Зейделя\n",
        "$$\n",
        "(D + L)(x^{k + 1} - x^k) + Ax^k = b\n",
        "$$\n",
        "## Метод верхней релаксации\n",
        "$$\n",
        "(D + \\tau L)\\frac{x^{k + 1} - x^k}{\\tau} + Ax^k = b\n",
        "$$\n",
        "### Утверждение\n",
        "Если $A = A^* > 0$, то метод Зейделя сходится.\n",
        "### Утверждение\n",
        "Если все собственные числа матрицы $A$ положительны, то оптимальное значения $\\tau$ равно\n",
        "$$\n",
        "\\tau = \\frac{2}{\\lambda_{min} + \\lambda_{max}}\n",
        "$$\n",
        "## Пример 2\n",
        "Представим матрицу $A$ в виде суммы $A = L + D + R$.\n",
        "\n",
        "scipy.linalg.tril(matr, k) возвращает нижнюю треугольную матрицу, у которой все элементы над $k$-й диагональю равны 0.\n",
        "\n",
        "scipy.linalg.triu(matr, k) возвращает верхнюю треугольную матрицу, у которой все элементы над $k$-й диагональю равны 0.\n",
        "\n",
        "Нумерация диагоналей такая: главная диагональ номер 0, диагонали, расположенные выше главной имеют положительные номера, ниже - отрицательные.\n",
        "\n",
        "\n",
        "\n",
        "Воспользуемся обеими этими функциями для построения матрицы $L$ с ненулевыми элементами ниже диагонали и диагональной матрицы $D$."
      ]
    },
    {
      "cell_type": "code",
      "metadata": {
        "colab": {
          "base_uri": "https://localhost:8080/"
        },
        "id": "lJ3Kvb6EIvAy",
        "outputId": "73a63fff-db0e-4743-a4c3-0f001cd268e2"
      },
      "source": [
        "L = scipy.linalg.tril(A1, -1)\n",
        "D = scipy.linalg.triu(scipy.linalg.tril(A1, 0), 0)\n",
        "print(f'A1 = \\n{A1}\\nL = \\n{L}\\nD = \\n{D}')"
      ],
      "execution_count": null,
      "outputs": [
        {
          "output_type": "stream",
          "name": "stdout",
          "text": [
            "A1 = \n",
            "[[0.5  0.1  0.   0.   0.  ]\n",
            " [0.15 0.5  0.1  0.   0.  ]\n",
            " [0.   0.15 0.6  0.1  0.  ]\n",
            " [0.   0.   0.15 0.75 0.1 ]\n",
            " [0.   0.   0.   0.15 0.55]]\n",
            "L = \n",
            "[[0.   0.   0.   0.   0.  ]\n",
            " [0.15 0.   0.   0.   0.  ]\n",
            " [0.   0.15 0.   0.   0.  ]\n",
            " [0.   0.   0.15 0.   0.  ]\n",
            " [0.   0.   0.   0.15 0.  ]]\n",
            "D = \n",
            "[[0.5  0.   0.   0.   0.  ]\n",
            " [0.   0.5  0.   0.   0.  ]\n",
            " [0.   0.   0.6  0.   0.  ]\n",
            " [0.   0.   0.   0.75 0.  ]\n",
            " [0.   0.   0.   0.   0.55]]\n"
          ]
        }
      ]
    },
    {
      "cell_type": "markdown",
      "metadata": {
        "id": "Hz8m1nLwCd46"
      },
      "source": [
        "Вычислим собственные значения матрицы $A_1$ и найдем оптимальное значение $\\tau$."
      ]
    },
    {
      "cell_type": "code",
      "metadata": {
        "colab": {
          "base_uri": "https://localhost:8080/"
        },
        "id": "kZG59y6_B8OE",
        "outputId": "90a1d71b-7834-4143-ee31-6ed154d2baae"
      },
      "source": [
        "eigvalsA1 = scipy.linalg.eigvals(A1)\n",
        "tau = (2 / (min(eigvalsA1) + max(eigvalsA1)))\n",
        "print(f'tau = {tau} = {tau.real}')"
      ],
      "execution_count": null,
      "outputs": [
        {
          "output_type": "stream",
          "name": "stdout",
          "text": [
            "tau = (1.6609704854120044+0j) = 1.6609704854120044\n"
          ]
        }
      ]
    },
    {
      "cell_type": "markdown",
      "metadata": {
        "id": "y-u7M_RqDDv6"
      },
      "source": [
        "В роли матрицы $P$ метода простой итерации в методе Якоби выступает матрица $(E - D^{-1}A)$, вычислим ее норму для проверки условия сходимости итерационного процесса."
      ]
    },
    {
      "cell_type": "code",
      "metadata": {
        "colab": {
          "base_uri": "https://localhost:8080/"
        },
        "id": "sT2AhR8FNmiy",
        "outputId": "e01ea8a5-374d-4d4e-ed97-43427bf7d2d8"
      },
      "source": [
        "P2 = (np.eye(A1.shape[0]) - np.linalg.inv(D) @ A1)\n",
        "np.linalg.norm(P2, ord=np.inf)"
      ],
      "execution_count": null,
      "outputs": [
        {
          "output_type": "execute_result",
          "data": {
            "text/plain": [
              "0.5"
            ]
          },
          "metadata": {},
          "execution_count": 9
        }
      ]
    },
    {
      "cell_type": "markdown",
      "metadata": {
        "id": "7oZrfbNfAFSD"
      },
      "source": [
        "Норма меньше 1, итерационный процесс сходится.\n",
        "## Пример 3\n",
        "Решим СЛАУ Примера 1 методом Якоби.\n"
      ]
    },
    {
      "cell_type": "code",
      "metadata": {
        "colab": {
          "base_uri": "https://localhost:8080/"
        },
        "id": "fxy-auWGOfxw",
        "outputId": "2fa05323-f0e6-4a67-a332-9c7939c76405"
      },
      "source": [
        "def iteration_Jacobi(A, b, x0, eps=0.001):\n",
        "    D = scipy.linalg.triu(scipy.linalg.tril(A, 0), 0)\n",
        "    Dinv = np.linalg.inv(D)\n",
        "    hatb = Dinv @ b\n",
        "    P = Dinv @ (D - A)\n",
        "    P = (np.eye(A1.shape[0]) - Dinv @ A)\n",
        "    eps1 = eps*(1 - np.linalg.norm(P, ord=np.inf))\n",
        "    x_prev = x0\n",
        "    x_next = x0 + np.ones(x0.shape[0])\n",
        "    while np.linalg.norm(x_prev - x_next, ord=np.inf) >= eps1:\n",
        "        x_prev = x_next  \n",
        "        x_next = P @ x_prev + hatb\n",
        "    return  x_next\n",
        "x2_k = iteration_Jacobi(A1, b1, b1, eps=0.01)\n",
        "print(f\"\"\"Решение x = {np.round(x2_k, 3).T},\n",
        "AX - b = {np.round(A1 @ x2_k - b1, 3).T}\n",
        "|xk - x*| = {np.linalg.norm(x2_k - x1_exact, ord=np.inf).round(3)}\"\"\")"
      ],
      "execution_count": 23,
      "outputs": [
        {
          "output_type": "stream",
          "name": "stdout",
          "text": [
            "Решение x = [2.    3.999 2.    1.999 0.   ],\n",
            "AX - b = [-0.    -0.    -0.    -0.001 -0.   ]\n",
            "|xk - x*| = 0.001\n"
          ]
        }
      ]
    },
    {
      "cell_type": "markdown",
      "metadata": {
        "id": "GzN7WuBj_i-c"
      },
      "source": [
        "## Пример 4\n",
        "Проверим выполнение условия симметричности и положительной определенности матрицы $A_1$ и единичной матрицы 5 порядка.\n",
        "\n",
        "Если все собственные значения матрицы положительны, то она положительно определена."
      ]
    },
    {
      "cell_type": "code",
      "metadata": {
        "colab": {
          "base_uri": "https://localhost:8080/"
        },
        "id": "dphjwnT1DuBq",
        "outputId": "ec5a8d36-c2b9-49a2-df1f-b0eee96ea068"
      },
      "source": [
        "for matr in (A1, np.eye(5)):\n",
        "    spectr = scipy.linalg.eigvals(matr)\n",
        "    print(f\"\"\"matrix\n",
        "{matr}\n",
        "spectr = {np.round(spectr, 2)}\n",
        "Все с. з. > 0? {np.all(spectr > 0)}\n",
        "Матрица симметрична? {np.allclose(matr, matr.T)}\"\"\")"
      ],
      "execution_count": 24,
      "outputs": [
        {
          "output_type": "stream",
          "name": "stdout",
          "text": [
            "matrix\n",
            "[[0.5  0.1  0.   0.   0.  ]\n",
            " [0.15 0.5  0.1  0.   0.  ]\n",
            " [0.   0.15 0.6  0.1  0.  ]\n",
            " [0.   0.   0.15 0.75 0.1 ]\n",
            " [0.   0.   0.   0.15 0.55]]\n",
            "spectr = [0.87+0.j 0.34+0.j 0.68+0.j 0.55+0.j 0.47+0.j]\n",
            "Все с. з. > 0? True\n",
            "Матрица симметрична? False\n",
            "matrix\n",
            "[[1. 0. 0. 0. 0.]\n",
            " [0. 1. 0. 0. 0.]\n",
            " [0. 0. 1. 0. 0.]\n",
            " [0. 0. 0. 1. 0.]\n",
            " [0. 0. 0. 0. 1.]]\n",
            "spectr = [1.+0.j 1.+0.j 1.+0.j 1.+0.j 1.+0.j]\n",
            "Все с. з. > 0? True\n",
            "Матрица симметрична? True\n"
          ]
        }
      ]
    },
    {
      "cell_type": "markdown",
      "metadata": {
        "id": "YFxXtKXcWmue"
      },
      "source": [
        "## Также понадобится:\n",
        "\n",
        "находить оптимальное значение $\\tau$ можно, например, так: "
      ]
    },
    {
      "cell_type": "code",
      "metadata": {
        "colab": {
          "base_uri": "https://localhost:8080/"
        },
        "id": "-lw5qfAIW0js",
        "outputId": "d2a8d78e-b8c8-471e-befc-95f08660db32"
      },
      "source": [
        "tau = 2 / (sum([item(scipy.linalg.eigh(A1, eigvals_only=True)) for item in (min, max)]))\n",
        "tau"
      ],
      "execution_count": null,
      "outputs": [
        {
          "output_type": "execute_result",
          "data": {
            "text/plain": [
              "1.6630712616119498"
            ]
          },
          "metadata": {},
          "execution_count": 12
        }
      ]
    },
    {
      "cell_type": "markdown",
      "metadata": {
        "id": "I1eow2g2XhBX"
      },
      "source": [
        "Пусть описана функция с именем f_name. Как вывести на экран ее имя?"
      ]
    },
    {
      "cell_type": "code",
      "metadata": {
        "colab": {
          "base_uri": "https://localhost:8080/"
        },
        "id": "2jamQ009XvZP",
        "outputId": "0c0c74ff-b152-48fb-c4e7-b7ae73a88116"
      },
      "source": [
        "def f_name():\n",
        "  return True\n",
        "print(f'Имя функции {f_name.__name__}')  "
      ],
      "execution_count": null,
      "outputs": [
        {
          "output_type": "stream",
          "name": "stdout",
          "text": [
            "Имя функции f_name\n"
          ]
        }
      ]
    }
  ]
}