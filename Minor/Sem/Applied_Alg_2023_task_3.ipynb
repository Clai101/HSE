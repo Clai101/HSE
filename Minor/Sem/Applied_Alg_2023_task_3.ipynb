{
  "cells": [
    {
      "cell_type": "markdown",
      "metadata": {
        "id": "57XWyOq-3XW1"
      },
      "source": [
        "# Занятие 3\n",
        "# Прикладная алгебра и численные методы\n",
        "## Сингулярное разложение (SVD), линейная регрессия\n",
        "https://numpy.org/doc/stable/reference/generated/numpy.linalg.svd.html#numpy.linalg.svd"
      ]
    },
    {
      "cell_type": "code",
      "execution_count": null,
      "metadata": {
        "id": "9zuF-hVV3XW9"
      },
      "outputs": [],
      "source": [
        "import numpy as np\n",
        "import scipy.linalg\n",
        "import sympy\n",
        "from copy import deepcopy\n",
        "import pandas as pd"
      ]
    },
    {
      "cell_type": "markdown",
      "metadata": {
        "id": "7LrcBN853XW_"
      },
      "source": [
        "## Сингулярное разложение (SVD)\n",
        "$$\n",
        "A = Q\\Sigma P^*, \\quad A_{m\\times n},\\ Q_{m\\times m}, \\ \\Sigma_{m\\times n}, \\ P_{n\\times n},\n",
        "$$\n",
        "$Q$, $P$ - ортогональные матрицы, $\\Sigma$ - диагональная, на диагонали сингулярные числа.\n",
        "\n",
        "\n",
        "## Задача 1\n",
        "Найти SVD c sympy и numpy\n",
        "$$\n",
        "\\left(\n",
        "\\begin{matrix}\n",
        "1 & 0 & 0 & -2\\\\\n",
        "0 & 1 & 0 & 1\\\\\n",
        "0 & 0 & 3 & 1\n",
        "\\end{matrix}\n",
        "\\right)\n",
        "$$\n",
        "Вначале вычислим $A^*A$:"
      ]
    },
    {
      "cell_type": "code",
      "source": [],
      "metadata": {
        "id": "t01wpw8X38Pt"
      },
      "execution_count": null,
      "outputs": []
    },
    {
      "cell_type": "markdown",
      "metadata": {
        "id": "wwpT9CUF3XXA"
      },
      "source": [
        "Получим собственные числа и собственные векторы с помощью eigenvects(), нормализуем векторы (чтобы норма была равна единице) методом normalized()"
      ]
    },
    {
      "cell_type": "code",
      "source": [],
      "metadata": {
        "id": "jjsAZoPf398r"
      },
      "execution_count": null,
      "outputs": []
    },
    {
      "cell_type": "markdown",
      "metadata": {
        "id": "ax565mU23XXC"
      },
      "source": [
        "Выделим собственные векторы"
      ]
    },
    {
      "cell_type": "code",
      "source": [],
      "metadata": {
        "id": "Ek-8Ip7t4CSM"
      },
      "execution_count": null,
      "outputs": []
    },
    {
      "cell_type": "markdown",
      "metadata": {
        "id": "F-2SHy1V3XXE"
      },
      "source": [
        "Построим векторы-столбцы матрицы $Q$ и проверим, что найдено разложение SVD для исходной матрицы:"
      ]
    },
    {
      "cell_type": "code",
      "source": [],
      "metadata": {
        "id": "dvhXj4Nv4D9L"
      },
      "execution_count": null,
      "outputs": []
    },
    {
      "cell_type": "markdown",
      "metadata": {
        "id": "ytjF-7BI3XXF"
      },
      "source": [
        "Теперь то же самое, но с numpy, вычислим $A^*A$:"
      ]
    },
    {
      "cell_type": "code",
      "source": [],
      "metadata": {
        "id": "k-bQRGaz4FFb"
      },
      "execution_count": null,
      "outputs": []
    },
    {
      "cell_type": "markdown",
      "metadata": {
        "id": "6MgPy_MN3XXG"
      },
      "source": [
        "Найдем собственные числа и собственные векторы полученной матрицы:"
      ]
    },
    {
      "cell_type": "code",
      "source": [],
      "metadata": {
        "id": "bOURO9Wb4Gfj"
      },
      "execution_count": null,
      "outputs": []
    },
    {
      "cell_type": "markdown",
      "metadata": {
        "id": "GvmVQ8rL3XXH"
      },
      "source": [
        "Расположим сингуляные числа (квадратные корни из полученных собственных чисел) по убыванию, для этого сначала отсортируем их с помощью sort() по возрастанию, а затем запишем array в обратном порядке с помощью flip():"
      ]
    },
    {
      "cell_type": "code",
      "source": [],
      "metadata": {
        "id": "uD0K3wIx4IBr"
      },
      "execution_count": null,
      "outputs": []
    },
    {
      "cell_type": "markdown",
      "metadata": {
        "id": "JgQozoZk3XXI"
      },
      "source": [
        "Поскольку нам достаточно работать с A_star_A_eigen_vals_reversed, не будем делать deepcopy(), чтобы сохратить в неприкосновенности A_star_A_eigen_vals.\n",
        "\n",
        "Осталось извлечь квадратные корни из положительных элементов A_star_A_eigen_vals_reversed, и получим невозрастающую последовательность сингулярных значений."
      ]
    },
    {
      "cell_type": "code",
      "source": [],
      "metadata": {
        "id": "GVBn8pIo4JeL"
      },
      "execution_count": null,
      "outputs": []
    },
    {
      "cell_type": "markdown",
      "metadata": {
        "id": "h1lqGj_u3XXJ"
      },
      "source": [
        "Составим матрицу $\\Sigma$:"
      ]
    },
    {
      "cell_type": "code",
      "source": [],
      "metadata": {
        "id": "qfuGsHnW4Kpr"
      },
      "execution_count": null,
      "outputs": []
    },
    {
      "cell_type": "markdown",
      "metadata": {
        "id": "2oBWlboM3XXJ"
      },
      "source": [
        "Обратимся к полученным вместе с собственными числами собственным векторам:"
      ]
    },
    {
      "cell_type": "code",
      "source": [],
      "metadata": {
        "id": "ieg0_OTu4L0r"
      },
      "execution_count": null,
      "outputs": []
    },
    {
      "cell_type": "markdown",
      "metadata": {
        "id": "BfERNekT3XXK"
      },
      "source": [
        "Составим матрицу $Q$:"
      ]
    },
    {
      "cell_type": "code",
      "source": [],
      "metadata": {
        "id": "fW7uY7rH4NWj"
      },
      "execution_count": null,
      "outputs": []
    },
    {
      "cell_type": "markdown",
      "metadata": {
        "id": "TSMWmgeV3XXL"
      },
      "source": [
        "## Построение псевдообратной матрицы при помощи SVD\n",
        "$$\n",
        "A^+ = P\\Sigma^+Q^*,\\quad \n",
        "\\Sigma^+ =\n",
        "\\left(\n",
        "\\begin{matrix}\n",
        "\\sigma_1^{-1} & ... & ... & ... & ... & 0\\\\\n",
        "0 & \\sigma_1^{-1} & ... & ... & ... & 0\\\\\n",
        "0 & ... & ... & ... & ... & 0\\\\\n",
        "0 & ... & ... & \\sigma_r^{-1}  & ... & 0\\\\\n",
        "0 & ... & ... & ... & ... & 0\\\\\n",
        "\\end{matrix}\n",
        "\\right)\n",
        "$$\n",
        "## Задача 2\n",
        "Построить с помощью найденного SVD псевдообратную матрицу к А из Задачи 1."
      ]
    },
    {
      "cell_type": "code",
      "source": [],
      "metadata": {
        "id": "DkQnWiMy4Osz"
      },
      "execution_count": null,
      "outputs": []
    },
    {
      "cell_type": "markdown",
      "metadata": {
        "id": "i7JmjSrt3XXL"
      },
      "source": [
        "## Задача 3\n",
        "Построить с помощью  SVD из numpy.linalg псевдообратную матрицу к А из Задачи 1. Вывести на экран $P^T$, $\\Sigma$, $Q$, $Q\\Sigma P^T$."
      ]
    },
    {
      "cell_type": "code",
      "source": [],
      "metadata": {
        "id": "kt0WW6rn4QGi"
      },
      "execution_count": null,
      "outputs": []
    },
    {
      "cell_type": "markdown",
      "metadata": {
        "id": "GJrz5kre3XXM"
      },
      "source": [
        "## Линейная регрессия\n",
        "Составим матрицу $A$ столбцы которой образуют значения $X_1$, $X_2$, ... , $X_n$.\n",
        "Также составим матрицу-столбец $Y$ из значений $y$,\n",
        "тогда\n",
        "$$\n",
        "Y = a_1X_1 + a_2X_2 + ... + a_nX_n,\\qquad\n",
        "\\left[\\begin{matrix}a_1\\\\a_2\\\\...\\\\a_n\\end{matrix}\\right] = A^+Y_1\n",
        "$$\n",
        "## Задача 4\n",
        "http://archive.ics.uci.edu/ml/machine-learning-databases/00242/\n",
        "\n",
        "В датасете, записанном в файле xlsx\n",
        "\n",
        "$X_1$\tОтносительная компактность\t\n",
        "$X_2$\tПлощадь\t\n",
        "$X_3$\tПлощадь стены\t\n",
        "$X_4$\tПлощадь потолка\t\n",
        "$X_5$\tОбщая высота\t\n",
        "$X_6$\tОриентация\t\n",
        "$X_7$\tПлощадь остекления\t\n",
        "$X_8$\tРаспределенная площадь остекления\t\n",
        "$y_1$\tНагрузка при обогреве\t\n",
        "$y_2$\tНагрузка при охлаждении\n",
        "\n",
        "Построить линейную модель зависимости нагрузки (при обогреве и при охлаждении)\n",
        "от $X_1$, $X_2$, $X_4$, $X_7$.\n",
        "\n",
        "С помощью псевдообратной матрицы найти коэффициенты линейной модели, вычислить средние отклонения экспериментальных данных от модельных значений."
      ]
    },
    {
      "cell_type": "markdown",
      "metadata": {
        "id": "5dQr7nRl3XXM"
      },
      "source": [
        "Составим матрицу $A$ столбцы которой образуют значения $X_1$, $X_2$, $X_4$, $X_7$.\n",
        "Также составим матрицу-столбец $Y_1$ из значений $y_1$, матрицу-столбец $Y_2$ из значений $y_2$,\n",
        "тогда\n",
        "$$\n",
        "\\left[\\begin{matrix}a\\\\b\\\\c\\\\d\\end{matrix}\\right] = A^+Y_1\n",
        "$$"
      ]
    },
    {
      "cell_type": "code",
      "source": [],
      "metadata": {
        "id": "YbKzGsY54SpD"
      },
      "execution_count": null,
      "outputs": []
    },
    {
      "cell_type": "markdown",
      "metadata": {
        "id": "z-dzhkpx3XXO"
      },
      "source": [
        "Вычислим относительные отклонения экспериментальных данных от функции $Y = aX_1 + bX_2 + cX_4 + dX_7$, $Y= Y_1, Y_2$:"
      ]
    },
    {
      "cell_type": "code",
      "source": [],
      "metadata": {
        "id": "AR3B16TW4V9D"
      },
      "execution_count": null,
      "outputs": []
    }
  ],
  "metadata": {
    "kernelspec": {
      "display_name": "Python 3",
      "language": "python",
      "name": "python3"
    },
    "language_info": {
      "codemirror_mode": {
        "name": "ipython",
        "version": 3
      },
      "file_extension": ".py",
      "mimetype": "text/x-python",
      "name": "python",
      "nbconvert_exporter": "python",
      "pygments_lexer": "ipython3",
      "version": "3.7.3"
    },
    "colab": {
      "provenance": []
    }
  },
  "nbformat": 4,
  "nbformat_minor": 0
}