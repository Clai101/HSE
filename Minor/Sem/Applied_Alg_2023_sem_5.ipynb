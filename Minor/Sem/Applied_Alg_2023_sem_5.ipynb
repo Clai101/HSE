{
  "cells": [
    {
      "cell_type": "markdown",
      "metadata": {
        "id": "fis1w-TTVnuw"
      },
      "source": [
        "# Занятие 5\n",
        "# Прикладная алгебра и численные методы\n",
        "## Интерполяция: оценка близости функций, нормы"
      ]
    },
    {
      "cell_type": "code",
      "execution_count": 1,
      "metadata": {
        "id": "mGFcxneQVnu6"
      },
      "outputs": [],
      "source": [
        "import numpy as np\n",
        "import matplotlib.pyplot as plt\n",
        "import pandas as pd\n",
        "import scipy.linalg\n",
        "import sympy\n",
        "from sympy import S, interpolating_spline, latex\n",
        "from sympy.polys.specialpolys import interpolating_poly\n",
        "from scipy.interpolate import lagrange, interp1d, splrep, splev\n",
        "from scipy.interpolate import InterpolatedUnivariateSpline, BPoly, CubicSpline\n",
        "from scipy.linalg import norm\n",
        "from google.colab import files\n",
        "from IPython.display import Latex"
      ]
    },
    {
      "cell_type": "markdown",
      "metadata": {
        "id": "jxu6pmTL3B7K"
      },
      "source": [
        "https://docs.scipy.org/doc/scipy/reference/generated/scipy.linalg.norm.html\n",
        "\n",
        "https://numpy.org/doc/stable/reference/generated/numpy.linalg.norm.html\n"
      ]
    },
    {
      "cell_type": "markdown",
      "metadata": {
        "id": "XMPgEBNnVnu8"
      },
      "source": [
        "## Многочлен Лагранжа\n",
        "$$\n",
        "f(x) = L(x) = \\sum_{i=1}^n y_i \n",
        "\\frac{(x - x_0)(x - x_1)...(x - x_{i-1})(x - x_{i+1})...(x - x_n)}{(x_i - x_0)(x_i - x_1)...(x_i - x_{i-1})(x_i - x_{i+1})...(x_i - x_n)}, \n",
        "\\quad y_i = f(x_i), \\quad i = 0, ..., n.\n",
        "$$\n",
        "## Пример 1\n",
        "Построим полином Лагранжа для данных \n",
        "\n",
        "https://showdata.gks.ru/report/278934/\n",
        "\n",
        "файл 6_population.xlsx\n",
        "\n",
        "Из файла считать данные общего прироста населения РФ в 2015-2021 гг., построить полином Лагранжа в помощью scipy.interpolate\n",
        "\n",
        "Построить график полученного полинома, отметить соответствующие данным точками.\n",
        "\n",
        "Для чтения из файла будем пользоваться read_excel\n",
        "\n",
        "https://pandas.pydata.org/pandas-docs/stable/reference/api/pandas.read_excel.html\n",
        "\n",
        "Для загрузки файла с компьютера используем средства colab:\n",
        "\n",
        "\n",
        "\n",
        "```\n",
        "from google.colab import files\n",
        "for fn in uploaded.keys():\n",
        "    print('User uploaded file \"{name}\" with length {length} bytes'.format(name=fn, length=len(uploaded[fn])))\n",
        "```"
      ]
    },
    {
      "cell_type": "code",
      "execution_count": 4,
      "metadata": {
        "colab": {
          "base_uri": "https://localhost:8080/",
          "height": 107
        },
        "id": "f8OrXx_7hXf2",
        "outputId": "83606239-fdd2-47f5-bcd6-8c737adb3ed9"
      },
      "outputs": [
        {
          "data": {
            "text/html": [
              "\n",
              "     <input type=\"file\" id=\"files-4da3e3c2-a3da-42b4-a616-8d7f5d4ecbd9\" name=\"files[]\" multiple disabled\n",
              "        style=\"border:none\" />\n",
              "     <output id=\"result-4da3e3c2-a3da-42b4-a616-8d7f5d4ecbd9\">\n",
              "      Upload widget is only available when the cell has been executed in the\n",
              "      current browser session. Please rerun this cell to enable.\n",
              "      </output>\n",
              "      <script>// Copyright 2017 Google LLC\n",
              "//\n",
              "// Licensed under the Apache License, Version 2.0 (the \"License\");\n",
              "// you may not use this file except in compliance with the License.\n",
              "// You may obtain a copy of the License at\n",
              "//\n",
              "//      http://www.apache.org/licenses/LICENSE-2.0\n",
              "//\n",
              "// Unless required by applicable law or agreed to in writing, software\n",
              "// distributed under the License is distributed on an \"AS IS\" BASIS,\n",
              "// WITHOUT WARRANTIES OR CONDITIONS OF ANY KIND, either express or implied.\n",
              "// See the License for the specific language governing permissions and\n",
              "// limitations under the License.\n",
              "\n",
              "/**\n",
              " * @fileoverview Helpers for google.colab Python module.\n",
              " */\n",
              "(function(scope) {\n",
              "function span(text, styleAttributes = {}) {\n",
              "  const element = document.createElement('span');\n",
              "  element.textContent = text;\n",
              "  for (const key of Object.keys(styleAttributes)) {\n",
              "    element.style[key] = styleAttributes[key];\n",
              "  }\n",
              "  return element;\n",
              "}\n",
              "\n",
              "// Max number of bytes which will be uploaded at a time.\n",
              "const MAX_PAYLOAD_SIZE = 100 * 1024;\n",
              "\n",
              "function _uploadFiles(inputId, outputId) {\n",
              "  const steps = uploadFilesStep(inputId, outputId);\n",
              "  const outputElement = document.getElementById(outputId);\n",
              "  // Cache steps on the outputElement to make it available for the next call\n",
              "  // to uploadFilesContinue from Python.\n",
              "  outputElement.steps = steps;\n",
              "\n",
              "  return _uploadFilesContinue(outputId);\n",
              "}\n",
              "\n",
              "// This is roughly an async generator (not supported in the browser yet),\n",
              "// where there are multiple asynchronous steps and the Python side is going\n",
              "// to poll for completion of each step.\n",
              "// This uses a Promise to block the python side on completion of each step,\n",
              "// then passes the result of the previous step as the input to the next step.\n",
              "function _uploadFilesContinue(outputId) {\n",
              "  const outputElement = document.getElementById(outputId);\n",
              "  const steps = outputElement.steps;\n",
              "\n",
              "  const next = steps.next(outputElement.lastPromiseValue);\n",
              "  return Promise.resolve(next.value.promise).then((value) => {\n",
              "    // Cache the last promise value to make it available to the next\n",
              "    // step of the generator.\n",
              "    outputElement.lastPromiseValue = value;\n",
              "    return next.value.response;\n",
              "  });\n",
              "}\n",
              "\n",
              "/**\n",
              " * Generator function which is called between each async step of the upload\n",
              " * process.\n",
              " * @param {string} inputId Element ID of the input file picker element.\n",
              " * @param {string} outputId Element ID of the output display.\n",
              " * @return {!Iterable<!Object>} Iterable of next steps.\n",
              " */\n",
              "function* uploadFilesStep(inputId, outputId) {\n",
              "  const inputElement = document.getElementById(inputId);\n",
              "  inputElement.disabled = false;\n",
              "\n",
              "  const outputElement = document.getElementById(outputId);\n",
              "  outputElement.innerHTML = '';\n",
              "\n",
              "  const pickedPromise = new Promise((resolve) => {\n",
              "    inputElement.addEventListener('change', (e) => {\n",
              "      resolve(e.target.files);\n",
              "    });\n",
              "  });\n",
              "\n",
              "  const cancel = document.createElement('button');\n",
              "  inputElement.parentElement.appendChild(cancel);\n",
              "  cancel.textContent = 'Cancel upload';\n",
              "  const cancelPromise = new Promise((resolve) => {\n",
              "    cancel.onclick = () => {\n",
              "      resolve(null);\n",
              "    };\n",
              "  });\n",
              "\n",
              "  // Wait for the user to pick the files.\n",
              "  const files = yield {\n",
              "    promise: Promise.race([pickedPromise, cancelPromise]),\n",
              "    response: {\n",
              "      action: 'starting',\n",
              "    }\n",
              "  };\n",
              "\n",
              "  cancel.remove();\n",
              "\n",
              "  // Disable the input element since further picks are not allowed.\n",
              "  inputElement.disabled = true;\n",
              "\n",
              "  if (!files) {\n",
              "    return {\n",
              "      response: {\n",
              "        action: 'complete',\n",
              "      }\n",
              "    };\n",
              "  }\n",
              "\n",
              "  for (const file of files) {\n",
              "    const li = document.createElement('li');\n",
              "    li.append(span(file.name, {fontWeight: 'bold'}));\n",
              "    li.append(span(\n",
              "        `(${file.type || 'n/a'}) - ${file.size} bytes, ` +\n",
              "        `last modified: ${\n",
              "            file.lastModifiedDate ? file.lastModifiedDate.toLocaleDateString() :\n",
              "                                    'n/a'} - `));\n",
              "    const percent = span('0% done');\n",
              "    li.appendChild(percent);\n",
              "\n",
              "    outputElement.appendChild(li);\n",
              "\n",
              "    const fileDataPromise = new Promise((resolve) => {\n",
              "      const reader = new FileReader();\n",
              "      reader.onload = (e) => {\n",
              "        resolve(e.target.result);\n",
              "      };\n",
              "      reader.readAsArrayBuffer(file);\n",
              "    });\n",
              "    // Wait for the data to be ready.\n",
              "    let fileData = yield {\n",
              "      promise: fileDataPromise,\n",
              "      response: {\n",
              "        action: 'continue',\n",
              "      }\n",
              "    };\n",
              "\n",
              "    // Use a chunked sending to avoid message size limits. See b/62115660.\n",
              "    let position = 0;\n",
              "    do {\n",
              "      const length = Math.min(fileData.byteLength - position, MAX_PAYLOAD_SIZE);\n",
              "      const chunk = new Uint8Array(fileData, position, length);\n",
              "      position += length;\n",
              "\n",
              "      const base64 = btoa(String.fromCharCode.apply(null, chunk));\n",
              "      yield {\n",
              "        response: {\n",
              "          action: 'append',\n",
              "          file: file.name,\n",
              "          data: base64,\n",
              "        },\n",
              "      };\n",
              "\n",
              "      let percentDone = fileData.byteLength === 0 ?\n",
              "          100 :\n",
              "          Math.round((position / fileData.byteLength) * 100);\n",
              "      percent.textContent = `${percentDone}% done`;\n",
              "\n",
              "    } while (position < fileData.byteLength);\n",
              "  }\n",
              "\n",
              "  // All done.\n",
              "  yield {\n",
              "    response: {\n",
              "      action: 'complete',\n",
              "    }\n",
              "  };\n",
              "}\n",
              "\n",
              "scope.google = scope.google || {};\n",
              "scope.google.colab = scope.google.colab || {};\n",
              "scope.google.colab._files = {\n",
              "  _uploadFiles,\n",
              "  _uploadFilesContinue,\n",
              "};\n",
              "})(self);\n",
              "</script> "
            ],
            "text/plain": [
              "<IPython.core.display.HTML object>"
            ]
          },
          "metadata": {},
          "output_type": "display_data"
        },
        {
          "name": "stdout",
          "output_type": "stream",
          "text": [
            "Saving 23110000100100200001_Общий_прирост_постоянного_населения (2).xlsx to 23110000100100200001_Общий_прирост_постоянного_населения (2).xlsx\n",
            "User uploaded file \"23110000100100200001_Общий_прирост_постоянного_населения (2).xlsx\" with length 14834 bytes\n"
          ]
        }
      ],
      "source": [
        "uploaded = files.upload()\n",
        "\n",
        "for fn in uploaded.keys():\n",
        "  print('User uploaded file \"{name}\" with length {length} bytes'.format(name=fn, length=len(uploaded[fn])))"
      ]
    },
    {
      "cell_type": "markdown",
      "metadata": {
        "id": "GnOKua2HLSv7"
      },
      "source": [
        "После успешной загрузки файла считаем из него данные. \n",
        "\n",
        "Выведем на экран основные атрибуты полученных данных:"
      ]
    },
    {
      "cell_type": "code",
      "execution_count": 5,
      "metadata": {
        "colab": {
          "base_uri": "https://localhost:8080/"
        },
        "id": "0FR1V12BVnvF",
        "outputId": "60169bf6-7a8e-41b4-bf5e-93193f97e94b"
      },
      "outputs": [
        {
          "name": "stdout",
          "output_type": "stream",
          "text": [
            "index: Index(['Российская Федерация', 'Центральный федеральный округ',\n",
            "       'Белгородская область', 'Брянская область', 'Владимирская область',\n",
            "       'Воронежская область', 'Ивановская область', 'Калужская область',\n",
            "       'Костромская область', 'Курская область'],\n",
            "      dtype='object', name='все население'),\n",
            "columns: Index(['w2:p_mest:11', 'Unnamed: 2', 'Unnamed: 3', 'Unnamed: 4', 'Unnamed: 5',\n",
            "       'Unnamed: 6', 'Unnamed: 7', 'Unnamed: 8'],\n",
            "      dtype='object'),\n",
            "values: [[ 6.43000e+02  2.77422e+05  2.59662e+05  7.60600e+04 -9.97120e+04\n",
            "  -3.21300e+04 -5.77575e+05 -6.13439e+05]\n",
            " [ 3.00000e+01  1.52840e+05  1.05263e+05  1.01831e+05  6.66460e+04\n",
            "   5.54970e+04 -1.82596e+05 -1.46560e+05]\n",
            " [ 1.40000e+10  2.20100e+03  2.72800e+03 -2.98900e+03 -2.45800e+03\n",
            "   1.73300e+03 -7.89200e+03 -9.34200e+03]],\n",
            "axes: [Index(['Российская Федерация', 'Центральный федеральный округ',\n",
            "       'Белгородская область', 'Брянская область', 'Владимирская область',\n",
            "       'Воронежская область', 'Ивановская область', 'Калужская область',\n",
            "       'Костромская область', 'Курская область'],\n",
            "      dtype='object', name='все население'), Index(['w2:p_mest:11', 'Unnamed: 2', 'Unnamed: 3', 'Unnamed: 4', 'Unnamed: 5',\n",
            "       'Unnamed: 6', 'Unnamed: 7', 'Unnamed: 8'],\n",
            "      dtype='object')],\n",
            "ndim: 2, size: 800, shape: (100, 8), empty: False\n"
          ]
        }
      ],
      "source": [
        "rexcel = pd.read_excel(fn, index_col=0, skiprows=[0, 1])\n",
        "print(f\"\"\"index: {rexcel[:10].index},\\ncolumns: {rexcel[:10].columns},\\nvalues: {rexcel[:3].values},\\naxes: {rexcel[:10].axes},\n",
        "ndim: {rexcel.ndim}, size: {rexcel.size}, shape: {rexcel.shape}, empty: {rexcel.empty}\"\"\")"
      ]
    },
    {
      "cell_type": "markdown",
      "metadata": {
        "id": "6NBNgKnpLjQH"
      },
      "source": [
        "Выделим данные о приросте численности населения РФ с 2015 по 2021:"
      ]
    },
    {
      "cell_type": "code",
      "execution_count": 6,
      "metadata": {
        "colab": {
          "base_uri": "https://localhost:8080/",
          "height": 345
        },
        "id": "qnkcmBqkqR8M",
        "outputId": "bc89ee91-0508-48f0-d85b-328d66ecdf20"
      },
      "outputs": [
        {
          "data": {
            "text/plain": [
              "array([ 277422.,  259662.,   76060.,  -99712.,  -32130., -577575.,\n",
              "       -613439.])"
            ]
          },
          "metadata": {},
          "output_type": "display_data"
        },
        {
          "data": {
            "text/plain": [
              "[<matplotlib.lines.Line2D at 0x7f2d2f411100>,\n",
              " <matplotlib.lines.Line2D at 0x7f2d2f4111f0>]"
            ]
          },
          "execution_count": 6,
          "metadata": {},
          "output_type": "execute_result"
        },
        {
          "data": {
            "image/png": "[encoded data removed]",
            "text/plain": [
              "<Figure size 432x288 with 1 Axes>"
            ]
          },
          "metadata": {
            "needs_background": "light"
          },
          "output_type": "display_data"
        }
      ],
      "source": [
        "Y1 = rexcel.values[0, 1:]\n",
        "display(Y1)\n",
        "X1 = np.array([15 + k for k in range(len(Y1))])\n",
        "poly1 = lagrange(X1, Y1)\n",
        "X1ls = np.linspace(X1[0], X1[-1])\n",
        "plt.plot(X1, Y1, 'ro', X1ls, poly1(X1ls), 'g--')"
      ]
    },
    {
      "cell_type": "markdown",
      "metadata": {
        "id": "HrdNLlBB71PG"
      },
      "source": [
        "## Нормы\n",
        "\n",
        "Действительное или комплексное пространство $V$ называется **нормированным**, если на нем задана **норма**, т.е. функция $\\nu$: $V\\to R$ такая, что\n",
        "\n",
        "1) $\\nu(\\bar x) > 0$ для любого $\\bar x \\ne \\bar 0$,\n",
        "\n",
        "2) $\\nu(\\alpha\\bar x) = |\\alpha| \\nu(\\bar x)$ для любого $\\bar x$ из $V$,\n",
        "\n",
        "3) $\\nu(\\bar x + \\bar y) \\le \\nu(\\bar x) + \\nu(\\bar y)$, для любых $\\bar x$ и $\\bar y$ из $V$ - неравенство треугольника.\n",
        "\n",
        "**Примеры норм:**\n",
        "\n",
        "1) Длина - евклидова норма $|\\bar x|_2 = \\sqrt{x_1^2 + x_2^2 + ... + x_n^2}$.\n",
        "\n",
        "2) Манхэттенская норма $|\\bar x|_1 = |x_1| + |x_2| + ... + |x_n|$.\n",
        "\n",
        "3) Норма максимума $|\\bar x|_\\infty = \\max\\{|x_1|, |x_2|, ..., |x_n|\\}$.\n",
        "\n",
        "4) $p$-норма, норма Минковского $|\\bar x|_p = \\sqrt[p]{|x_1|^p + |x_2|^p + ... + |x_n|^p}$.\n",
        "\n",
        "**Нормы в scipy.linalg** и **numpy.linalg**\n",
        "\n",
        "https://docs.scipy.org/doc/scipy/reference/generated/scipy.linalg.norm.html\n",
        "\n",
        "**scipy.linalg.norm(a, ord=None, axis=None, keepdims=False, check_finite=True)**\n",
        "\n",
        "https://numpy.org/doc/stable/reference/generated/numpy.linalg.norm.html\n",
        "\n",
        "**linalg.norm(a, ord=None, axis=None, keepdims=False)**\n",
        "\n",
        "a - матрица или вектор\n",
        "\n",
        "ord - вид нормы, для векторных норм\n",
        "\n",
        "None -  $2$-норма (евклидова)\n",
        "\n",
        "inf (np.inf) - норма максимума\n",
        "\n",
        "-inf (np.inf) - \"норма\" минимума $|\\bar x|_\\infty = \\min\\{|x_1|, |x_2|, ..., |x_n|\\}$\n",
        "\n",
        "1 - Манхэттенская норма,\n",
        "\n",
        "0 - количество ненулевых координат вектора $\\bar x$."
      ]
    },
    {
      "cell_type": "markdown",
      "metadata": {
        "id": "Lg-M6tXP_MtJ"
      },
      "source": [
        "## Пример 2.\n",
        "Построим кубический сплайн для данных из Примера 1.\n",
        "\n",
        "Построим на одном графике сплайн и полином Лагранжа Примера 1, отметим на нем  точки данных. \n",
        "\n",
        "Вычислим значения сплайна и полинома Лагранжа в серединах отрезков между соседними точками данных (т.е. в 0.5, 1.5, 2.5 и т.п.), найдем нормы разности полученных векторов."
      ]
    },
    {
      "cell_type": "code",
      "execution_count": 7,
      "metadata": {
        "colab": {
          "base_uri": "https://localhost:8080/",
          "height": 415
        },
        "id": "7VJa_093SJTx",
        "outputId": "5d839094-fd2b-48b6-a749-7a0e512ea732"
      },
      "outputs": [
        {
          "name": "stdout",
          "output_type": "stream",
          "text": [
            "Нормы:\n",
            "-1: 6695.3661\n",
            "0: 6.0\n",
            "1: 580945.8578\n",
            "2: 330543.9426\n",
            "3: 300115.2898\n",
            "inf: 290717.8348\n",
            "-inf: 19656.4415\n"
          ]
        },
        {
          "data": {
            "image/png": "[encoded data removed]",
            "text/plain": [
              "<Figure size 432x288 with 1 Axes>"
            ]
          },
          "metadata": {
            "needs_background": "light"
          },
          "output_type": "display_data"
        }
      ],
      "source": [
        "spl2_cubic = interp1d(X1, Y1, kind='quadratic')\n",
        "xs = np.linspace(X1[0], X1[-1], 1000)\n",
        "plt.plot(X1, Y1, 'ro', xs, poly1(xs), 'c-', xs, spl2_cubic(xs), 'm--', lw=3)\n",
        "X2 = np.arange(X1[0] + 0.5, X1[-1], 1)\n",
        "difference2 = poly1(X2) - spl2_cubic(X2)\n",
        "print('Нормы:', *[f'{item}: {round(norm(difference2, item), 4)}' for item in list(range(-1, 4)) + [np.inf, -np.inf]], sep='\\n')"
      ]
    },
    {
      "cell_type": "markdown",
      "metadata": {
        "id": "jZzLATmH8FnM"
      },
      "source": [
        "# Рисование шаров в нормах\n",
        "# Пример 3\n",
        "$V = R^2$, $\\nu(x)=|x|_p$, $p \\ge 1$.\n",
        "$B = B_1^\\nu(O)$ - единичный шар с ценром $\\bar O$.\n",
        "\n",
        "Нарисуем шары при $p = 1$, $\\sqrt{2}$, $3$, $\\infty$.\n",
        "\n",
        "Поскольку пространство $V = R^2$ - вещественная плоскость, то\n",
        "$|\\bar x|_p = \\sqrt[p]{|x_1|^p + |x_2|^p}$. Т.к. для всех точек шара $B = B_1^\\nu(O)$ выполняется $|\\bar x|_p = 1$, то $x_2 = \\pm\\sqrt[p]{1 - |x_1|^p}$.\n",
        "\n",
        "Для бесконечной нормы при $-1 \\le x_1 \\le 1$ получим $x_2 = \\pm 1$, а при $x_1 = \\pm 1$  получим $-1 \\le x_2 \\le 1$.\n"
      ]
    },
    {
      "cell_type": "code",
      "execution_count": 8,
      "metadata": {
        "colab": {
          "base_uri": "https://localhost:8080/",
          "height": 282
        },
        "id": "7dnjKsJH8Iec",
        "outputId": "0c2e6444-c8ed-4b2e-e6ef-26b3441a20c8"
      },
      "outputs": [
        {
          "data": {
            "text/plain": [
              "<matplotlib.legend.Legend at 0x7f2d2ef1bee0>"
            ]
          },
          "execution_count": 8,
          "metadata": {},
          "output_type": "execute_result"
        },
        {
          "data": {
            "image/png": "[encoded data removed]",
            "text/plain": [
              "<Figure size 432x288 with 1 Axes>"
            ]
          },
          "metadata": {
            "needs_background": "light"
          },
          "output_type": "display_data"
        }
      ],
      "source": [
        "def Y(X, p):\n",
        "    Y1 = (1 - abs(X) ** p) ** (1 / p)\n",
        "    return (-Y1, Y1)\n",
        "\n",
        "X = np.linspace(-1, 1)\n",
        "plt.axis('equal')\n",
        "for p, label, color in zip((1, np.sqrt(2), 2, 3, 100),\n",
        "                    (1, '\\\\sqrt{2}', 2, 3, '\\\\infty'),\n",
        "                    ('r-', 'g--', 'b:', 'm-', 'c--')):\n",
        "    Y1, Y2 = Y(X, p)\n",
        "    plt.plot(X, Y1, color)\n",
        "    plt.plot(X, Y2, color, label=f'$p = {label}$')\n",
        "plt.annotate('A(1, 0)', xy=(1, 0), xytext=(1.03, 0.03), fontsize=16)\n",
        "plt.legend()      "
      ]
    },
    {
      "cell_type": "markdown",
      "metadata": {
        "id": "xufZRQ238QY0"
      },
      "source": [
        "# Сохранение рисунка в файл в matplotlib.\n",
        "https://matplotlib.org/stable/api/_as_gen/matplotlib.pyplot.savefig.html?highlight=savefig#matplotlib.pyplot.savefig\n",
        "\n",
        "savefig(fname, *, dpi='figure', format=None, metadata=None,\n",
        "        bbox_inches=None, pad_inches=0.1,\n",
        "        facecolor='auto', edgecolor='auto',\n",
        "        backend=None, **kwargs\n",
        "       )"
      ]
    },
    {
      "cell_type": "code",
      "execution_count": 9,
      "metadata": {
        "colab": {
          "base_uri": "https://localhost:8080/",
          "height": 251
        },
        "id": "eOeO5X098SqV",
        "outputId": "c45770a5-a805-430e-b593-ac0d2b513edc"
      },
      "outputs": [
        {
          "data": {
            "application/javascript": "\n    async function download(id, filename, size) {\n      if (!google.colab.kernel.accessAllowed) {\n        return;\n      }\n      const div = document.createElement('div');\n      const label = document.createElement('label');\n      label.textContent = `Downloading \"${filename}\": `;\n      div.appendChild(label);\n      const progress = document.createElement('progress');\n      progress.max = size;\n      div.appendChild(progress);\n      document.body.appendChild(div);\n\n      const buffers = [];\n      let downloaded = 0;\n\n      const channel = await google.colab.kernel.comms.open(id);\n      // Send a message to notify the kernel that we're ready.\n      channel.send({})\n\n      for await (const message of channel.messages) {\n        // Send a message to notify the kernel that we're ready.\n        channel.send({})\n        if (message.buffers) {\n          for (const buffer of message.buffers) {\n            buffers.push(buffer);\n            downloaded += buffer.byteLength;\n            progress.value = downloaded;\n          }\n        }\n      }\n      const blob = new Blob(buffers, {type: 'application/binary'});\n      const a = document.createElement('a');\n      a.href = window.URL.createObjectURL(blob);\n      a.download = filename;\n      div.appendChild(a);\n      a.click();\n      div.remove();\n    }\n  ",
            "text/plain": [
              "<IPython.core.display.Javascript object>"
            ]
          },
          "metadata": {},
          "output_type": "display_data"
        },
        {
          "data": {
            "application/javascript": "download(\"download_1b17cb2c-818f-456c-9f34-73033a980060\", \"norm_5.jpg\", 18165)",
            "text/plain": [
              "<IPython.core.display.Javascript object>"
            ]
          },
          "metadata": {},
          "output_type": "display_data"
        },
        {
          "data": {
            "image/png": "[encoded data removed]",
            "text/plain": [
              "<Figure size 432x288 with 1 Axes>"
            ]
          },
          "metadata": {
            "needs_background": "light"
          },
          "output_type": "display_data"
        }
      ],
      "source": [
        "# gca - get current axis - получаем доступ к системе координат\n",
        "ax = plt.gca() \n",
        "# Устанавливаем оси координат \n",
        "ax.spines['right'].set_color('none')\n",
        "ax.spines['top'].set_color('none')\n",
        "ax.spines['bottom'].set_position(('data', 0))\n",
        "ax.spines['left'].set_position(('data', 0))\n",
        "# Стрелки на концах осей координат\n",
        "ax.plot(1, 0, '>k', transform=ax.get_yaxis_transform(), clip_on=False)\n",
        "ax.plot(0, 1, '^k', transform=ax.get_xaxis_transform(), clip_on=False)\n",
        "# Тики (зарубки) на осях\n",
        "# Позиции тиков (если не нужно изменять автоматические подписи к тикам)\n",
        "ax.set_xticks([-1, 0, 1, 2.27])\n",
        "ax.set_yticks([-1, 1, 1.47])\n",
        "# Установка подписей тиков\n",
        "ax.set_xticklabels([r'$-1$', '   $0$', r'$+1$', '$x$'])\n",
        "ax.set_yticklabels([r'$-1$', r'$+1$', '$y$'])\n",
        "# Одинаковый масштаб по осям\n",
        "ax.axis('equal')\n",
        "# устанавливаем пределы по осям \n",
        "ax.set_xlim(-1.5, 1.5)\n",
        "ax.set_ylim(-1.5, 1.5)\n",
        "# Рисуем вертикальные и горизонтальные прямые\n",
        "ax.axvline(x=-1, color='red', linestyle='--')\n",
        "ax.axvline(x=1, color='red', linestyle='--')\n",
        "ax.axhline(y=-1, color='red', linestyle='--')\n",
        "ax.axhline(y=1, color='red', linestyle='--')\n",
        "# шар по норме 5\n",
        "X = np.linspace(-1, 1)\n",
        "Y1, Y2 = Y(X, 5)\n",
        "ax.plot(X, Y1, color='cyan')\n",
        "ax.plot(X, Y2, color='cyan')\n",
        "ax.scatter([0], [0], color='green')\n",
        "#  подпись к точке на графике\n",
        "ax.annotate('O(0, 0)', xy=(0, 0), xytext=(0.2, 0.2), fontsize=16,\n",
        "             arrowprops=dict(arrowstyle=\"->\", connectionstyle=\"arc3\"))\n",
        "\n",
        "# Сохранение рисунка в файл\n",
        "plt.savefig('norm_5.jpg', format='jpg')\n",
        "# Скачивание файла с рисунком\n",
        "files.download('norm_5.jpg')"
      ]
    },
    {
      "cell_type": "markdown",
      "metadata": {
        "id": "nWVGdlq6VnvO"
      },
      "source": [
        "## Кривые Безье\n",
        "\n",
        "https://bezier.readthedocs.io/en/stable/python/reference/bezier.curve.html\n",
        "\n",
        "## Пример 4\n",
        "Построим кривую Безье с помощью модуля bezier:\n",
        "\n",
        "https://bezier.readthedocs.io/en/stable/python/reference/bezier.curve.html\n",
        "\n",
        "Кривая должна аппроксимировать $f(x) = \\sin(x/3)$, проходя через точки $\\pi/2$ и $3\\pi/2$, при этом в этих точках касательная кривой Безье должна совпадать с касательной $f(x)$.\n",
        "\n",
        "Построим на общем графике $f(x)$ и кривую Безье, отметим узловые точки.\n",
        "\n",
        "Вначале определим функцию $f4(x)$, затем составим список точек $x_1, x_2, x_3, x_4$ для построения кривой Безье. Концы $x_1, x_4$ берем из условия, это $\\pi/2$ и $3\\pi/2$, $\\pi$ берем из sympy. Промежуточные точки $x_2, x_3$ определим из условия на производные: прямая, соединяющая первую точку со второй должна быть касательной к $f(x)$. Выберем значения $x_2$ и $x_3$, так чтобы они делили отрезок $[x_1, x_4]$ на одинаковые части, т.е. $x_i = x_1 + i \\Delta x$, $\\Delta x = (x_4 - x_1) / 3$, $i = 2, 3$.  Вертикальные координаты промежуточных точек такие: $y_2 = y_1 + f'(x_1)\\Delta x$, $y_3 = y_4 - f'(x_4)\\Delta x$.\n"
      ]
    },
    {
      "cell_type": "code",
      "execution_count": 13,
      "metadata": {
        "colab": {
          "base_uri": "https://localhost:8080/"
        },
        "id": "5wMJxdWWjQWc",
        "outputId": "03ee7b28-061b-4829-d094-b31868361f86"
      },
      "outputs": [
        {
          "name": "stdout",
          "output_type": "stream",
          "text": [
            "Looking in indexes: https://pypi.org/simple, https://us-python.pkg.dev/colab-wheels/public/simple/\n",
            "Collecting bezier\n",
            "  Downloading bezier-2021.2.12-cp38-cp38-manylinux2010_x86_64.whl (1.4 MB)\n",
            "\u001b[2K     \u001b[90m━━━━━━━━━━━━━━━━━━━━━━━━━━━━━━━━━━━━━━━━\u001b[0m \u001b[32m1.4/1.4 MB\u001b[0m \u001b[31m14.9 MB/s\u001b[0m eta \u001b[36m0:00:00\u001b[0m\n",
            "\u001b[?25hRequirement already satisfied: numpy>=1.20.1 in /usr/local/lib/python3.8/dist-packages (from bezier) (1.21.6)\n",
            "Installing collected packages: bezier\n",
            "Successfully installed bezier-2021.2.12\n"
          ]
        }
      ],
      "source": [
        "!pip install bezier --user"
      ]
    },
    {
      "cell_type": "code",
      "execution_count": 15,
      "metadata": {
        "id": "j28uXkeJjXR6"
      },
      "outputs": [],
      "source": [
        "import bezier\n",
        "import sympy\n",
        "import numpy as np\n",
        "import matplotlib.pyplot as plt\n",
        "from IPython.display import Latex"
      ]
    },
    {
      "cell_type": "code",
      "execution_count": 12,
      "metadata": {
        "colab": {
          "base_uri": "https://localhost:8080/",
          "height": 38
        },
        "id": "Wyt5Yi4qenLZ",
        "outputId": "02c099e5-8cf9-4cfc-ca9d-d67e178d2e55"
      },
      "outputs": [
        {
          "data": {
            "text/latex": [
              "\\left[ \\frac{\\pi}{2}, \\  \\frac{5 \\pi}{6}, \\  \\frac{7 \\pi}{6}, \\  \\frac{3 \\pi}{2}\\right]"
            ],
            "text/plain": [
              "<IPython.core.display.Latex object>"
            ]
          },
          "metadata": {},
          "output_type": "display_data"
        }
      ],
      "source": [
        "def f4(x):  \n",
        "  return sympy.sin(x / 3)\n",
        "  \n",
        "x = sympy.Symbol('x')\n",
        "x1 = sympy.pi / 2\n",
        "x4 = 3 * sympy.pi / 2\n",
        "delta_x = (x4 - x1) / 3\n",
        "X4 = [x1 + delta_x * i for i in range(4)]\n",
        "display(Latex(sympy.latex(X4)))"
      ]
    },
    {
      "cell_type": "markdown",
      "metadata": {
        "id": "79VscbOIgu6P"
      },
      "source": [
        "Нужно вычислить производную $f(x)$ в произвольной точке и в точках $x_1, x_4$. "
      ]
    },
    {
      "cell_type": "code",
      "execution_count": 13,
      "metadata": {
        "id": "NHS3bl9Phs75"
      },
      "outputs": [],
      "source": [
        "df4 = f4(x).diff(x)\n",
        "Y4 = [f4(X4[0]), f4(X4[0]) + df4.subs(x, X4[0]) * delta_x,\n",
        "      f4(X4[-1]) - df4.subs(x, X4[-1]) * delta_x, f4(X4[-1])]\n",
        "nodes = np.asfarray([X4, Y4])\n",
        "curve4 = bezier.Curve(nodes, degree=3)"
      ]
    },
    {
      "cell_type": "markdown",
      "metadata": {
        "id": "9s67l-n-hx8V"
      },
      "source": [
        "Теперь осталось построить график. Для того, чтобы кривая Безье попала на один график с f4, нужно применить метод plot из matplotlib.pyplot к системе координат, записанной в переменной ax и передать ax как аргумент методу plot класса кривых Безье. Доступ к системе координат обеспечивается subplots. "
      ]
    },
    {
      "cell_type": "code",
      "execution_count": 17,
      "metadata": {
        "colab": {
          "base_uri": "https://localhost:8080/",
          "height": 282
        },
        "id": "f1zVmJjWiFfm",
        "outputId": "6315f9bf-fd0a-49b5-c630-b2e8c78e8660"
      },
      "outputs": [
        {
          "data": {
            "text/plain": [
              "<matplotlib.axes._subplots.AxesSubplot at 0x7f8035abe310>"
            ]
          },
          "execution_count": 17,
          "metadata": {},
          "output_type": "execute_result"
        },
        {
          "data": {
            "image/png": "[encoded data removed]",
            "text/plain": [
              "<Figure size 432x288 with 1 Axes>"
            ]
          },
          "metadata": {
            "needs_background": "light"
          },
          "output_type": "display_data"
        }
      ],
      "source": [
        "X4plt = np.linspace(*np.asfarray([X4[0], X4[-1]]), 1000)\n",
        "npf4 = sympy.lambdify(x, f4(x))\n",
        "fig, ax = plt.subplots()\n",
        "ax.plot(X4, Y4, 'r--o', X4plt, npf4(X4plt), 'k:', lw=3)\n",
        "curve4.plot(100, color='green', ax=ax)"
      ]
    },
    {
      "cell_type": "markdown",
      "metadata": {
        "id": "qnbqP7NWwT_D"
      },
      "source": [
        "# Рисование кривыми Безье"
      ]
    },
    {
      "cell_type": "code",
      "execution_count": null,
      "metadata": {
        "colab": {
          "base_uri": "https://localhost:8080/",
          "height": 283
        },
        "id": "D_2hL61AwX1R",
        "outputId": "53d8cd96-c133-44d6-9d94-ea6a5bd7d367"
      },
      "outputs": [
        {
          "data": {
            "text/plain": [
              "[<matplotlib.lines.Line2D at 0x7f8abd4ba090>]"
            ]
          },
          "execution_count": 41,
          "metadata": {},
          "output_type": "execute_result"
        },
        {
          "data": {
            "image/png": "[encoded data removed]",
            "text/plain": [
              "<Figure size 432x288 with 1 Axes>"
            ]
          },
          "metadata": {
            "needs_background": "light"
          },
          "output_type": "display_data"
        }
      ],
      "source": [
        "X5 = [1, 3, 5, 7]\n",
        "Y5 =  [2, 5, 5, 1]\n",
        "nodes = np.array([X5, Y5])\n",
        "curve5 = bezier.Curve(nodes, degree=3)\n",
        "curve5.plot(num_pts=100)\n",
        "plt.scatter(X5, Y5)\n",
        "plt.plot(X5, Y5, 'm--')"
      ]
    },
    {
      "cell_type": "code",
      "execution_count": null,
      "metadata": {
        "colab": {
          "base_uri": "https://localhost:8080/",
          "height": 274
        },
        "id": "MMFIEK14IF_c",
        "outputId": "1522bec6-5e8d-4345-c5e1-32f6f21199fc"
      },
      "outputs": [
        {
          "data": {
            "image/png": "[encoded data removed]",
            "text/plain": [
              "<Figure size 432x288 with 1 Axes>"
            ]
          },
          "metadata": {
            "needs_background": "light"
          },
          "output_type": "display_data"
        }
      ],
      "source": [
        "nodes_arr = [np.array([[4, 4, 6], [4, 7, 7]]),\n",
        "             np.array([[6, 8, 8], [7, 7, 4]]),\n",
        "             np.array([[8, 7, 4], [4, 1, -2]]),\n",
        "             np.array([[4, 0, 0], [-2, 3, 4]]),\n",
        "             np.array([[0, 0, 2], [4, 7, 7]]),\n",
        "             np.array([[2, 4, 4], [7, 7, 4]])]\n",
        "\n",
        "curved_poly = bezier.CurvedPolygon(*[bezier.Curve(nodes, degree=2) for nodes in nodes_arr])\n",
        "\n",
        "curved_poly.plot(pts_per_edge=10)  \n",
        "plt.axis('equal')\n",
        "\n",
        "for P, coords in zip(('A', 'B', 'C', 'D', 'E', 'F'),\n",
        "                     ((4, 4), (6, 7), (8, 4), (4, -2), (0, 4), (2, 7))):\n",
        "    plt.annotate('({}, {})'.format(*coords), xy=coords, xytext=(coords[0] + 1.2, coords[1] - 0.3), \n",
        "                 fontsize=12, color='m', arrowprops=dict(arrowstyle=\"->\", connectionstyle=\"arc3\")) \n",
        "    plt.annotate(P, xy=coords, fontsize=24, color='g')"
      ]
    },
    {
      "cell_type": "markdown",
      "metadata": {
        "id": "rVnA4V4n130d"
      },
      "source": [
        "# Кривые Безье в matplotlib\n",
        "\n",
        "https://matplotlib.org/stable/api/path_api.html#matplotlib.path.Path\n",
        "\n",
        "Класс Path(vertices, codes=None, _interpolation_steps=1, closed=False, readonly=False)\n",
        "\n",
        "предназначен для рисования серии не обязательно замкнутых или соединенных друг с другом линий.\n",
        "\n",
        "vertices и codes - сооответствующие друг другу **numpy arrays**:\n",
        "\n",
        "vertices: массив размерности Nx2 из чисел float - координаты опорных точек\n",
        "\n",
        "codes: массив размерности  N из кодов линий, uint8, или None\n",
        "\n",
        "\n",
        "Типы кодов (codes):\n",
        "\n",
        "MOVETO: 1 точка - переместить карандаш в точку.\n",
        "\n",
        "Pick up the pen and move to the given vertex.\n",
        "\n",
        "LINETO: 1 точка - провести линию из текущей точки в заданную точку.\n",
        "\n",
        "Draw a line from the current position to the given vertex.\n",
        "\n",
        "CURVE3: 1 опорная точка, 1 конечная точка - квадратичная кривая Безье, соединяющая текущую позицию с конечной точкой, имеющая заданную опорную точку.\n",
        "\n",
        "Draw a quadratic Bezier curve from the current position, with the given control point, to the given end point.\n",
        "\n",
        "CURVE4: 2 опорных точки, 1 конечная точка - кубическая кривая Безье, соединяющая текущую позицию с конечной точкой, имеющая заданные две опорные точки.\n",
        "\n",
        "Draw a cubic Bezier curve from the current position, with the given control points, to the given end point.\n",
        "\n",
        "CLOSEPOLY: 1 точка (игнорируется) - рисуется отрезок от текущей позации к началу текущей линии.\n",
        "\n",
        "Draw a line segment to the start point of the current polyline.\n"
      ]
    },
    {
      "cell_type": "code",
      "execution_count": null,
      "metadata": {
        "colab": {
          "base_uri": "https://localhost:8080/",
          "height": 300
        },
        "id": "vVZl4iaEYN_v",
        "outputId": "66598e72-bde8-4e7e-ab3b-305b0d09a29b"
      },
      "outputs": [
        {
          "data": {
            "text/plain": [
              "Text(0.5, 1.0, 'The red point should be on the path')"
            ]
          },
          "execution_count": 52,
          "metadata": {},
          "output_type": "execute_result"
        },
        {
          "data": {
            "image/png": "[encoded data removed]",
            "text/plain": [
              "<Figure size 432x288 with 1 Axes>"
            ]
          },
          "metadata": {
            "needs_background": "light"
          },
          "output_type": "display_data"
        }
      ],
      "source": [
        "import matplotlib.path as mpath\n",
        "import matplotlib.patches as mpatches\n",
        "\n",
        "Path = mpath.Path\n",
        "vertices = [(0, 0), (1, 0), (1, 1), (0.5, 2), (0, 0)]\n",
        "np_vert = np.array(vertices)\n",
        "\n",
        "fig, ax = plt.subplots()\n",
        "ax.plot(np_vert[:, 0], np_vert[:, 1], 'g--o')\n",
        "pp1 = mpatches.PathPatch(\n",
        "    Path(vertices,\n",
        "         [Path.MOVETO, Path.CURVE3, Path.CURVE3, Path.CURVE3, Path.LINETO]),\n",
        "    fc=\"none\", transform=ax.transData)\n",
        "ax.add_patch(pp1)\n",
        "\n",
        "vertices = [(2, 2), (1, 3), (1, 2), (2, 1), (2, 0)]\n",
        "np_vert = np.array(vertices)\n",
        "ax.plot(np_vert[:, 0], np_vert[:, 1], 'm--o')\n",
        "pp2 = mpatches.PathPatch(\n",
        "    Path(vertices,\n",
        "         [Path.MOVETO, Path.CURVE4, Path.CURVE4, Path.CURVE4, Path.CLOSEPOLY]),\n",
        "    fc=\"none\", transform=ax.transData)\n",
        "ax.add_patch(pp2)\n",
        "\n",
        "vertices = [(2, 1), (1.5, 1), (1.5, 0.5), (2, 0), (2, 0)]\n",
        "np_vert = np.array(vertices)\n",
        "ax.plot(np_vert[:, 0], np_vert[:, 1], 'm--o')\n",
        "pp2 = mpatches.PathPatch(\n",
        "    Path(vertices,\n",
        "         [Path.MOVETO, Path.CURVE4, Path.CURVE4, Path.CURVE4, Path.CLOSEPOLY]),\n",
        "    fc=\"none\", transform=ax.transData)\n",
        "ax.add_patch(pp2)"
      ]
    }
  ],
  "metadata": {
    "colab": {
      "provenance": []
    },
    "kernelspec": {
      "display_name": "Python 3",
      "language": "python",
      "name": "python3"
    },
    "language_info": {
      "name": "python",
      "version": "3.9.7"
    }
  },
  "nbformat": 4,
  "nbformat_minor": 0
}
