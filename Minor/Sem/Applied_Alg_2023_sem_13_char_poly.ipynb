{
  "nbformat": 4,
  "nbformat_minor": 0,
  "metadata": {
    "kernelspec": {
      "display_name": "Python 3",
      "language": "python",
      "name": "python3"
    },
    "colab": {
      "provenance": []
    }
  },
  "cells": [
    {
      "cell_type": "markdown",
      "metadata": {
        "id": "fis1w-TTVnuw"
      },
      "source": [
        "# Занятие 13\n",
        "# Прикладная алгебра и численные методы\n",
        "## Характеристический многочлен и собственные числа матриц. QR-разложение."
      ]
    },
    {
      "cell_type": "code",
      "metadata": {
        "id": "mGFcxneQVnu6"
      },
      "source": [
        "import numpy as np\n",
        "import sympy\n",
        "import scipy.linalg\n",
        "import numpy.linalg\n",
        "from numpy import random\n",
        "from sympy import Matrix, S, Symbol, symbols, I, zeros, eye\n",
        "from sympy import simplify, expand, expand_complex, latex\n",
        "import pandas as pd\n",
        "from google.colab import files\n",
        "from IPython.display import Latex"
      ],
      "execution_count": 2,
      "outputs": []
    },
    {
      "cell_type": "markdown",
      "metadata": {
        "id": "TzHcEhNXUDLN"
      },
      "source": [
        "## Характеристический многочлен.\n",
        "$$\n",
        "\\chi_A(\\lambda) = \\det(A - \\lambda E),\n",
        "$$\n",
        "$\\lambda_1$, $\\lambda_2$, ..., $\\lambda_n$ - корни характеристического многочлена, собственные числа  матрицы $A$.\n",
        "\n",
        "Разложение комплексного многочлена от одной переменной на линейные множители:\n",
        "$$\n",
        "f(x) = a_0 + a_1 x + ... + a_{n - 1} x^{n - 1} + x^n = (x - x_1)...(x - x_n).\n",
        "$$\n",
        "Формулы Виета:\n",
        "\\begin{align*}\n",
        "&a_{n - 1} = -(x_1 + x_2 + ... + x_n)\\\\\n",
        "&a_{n - 2} = (x_1x_2 + x_1x_3 + ... + x_{n - 1}x_n)\\\\\n",
        "&a_{n - 3} = -(x_1x_2x_3 + x_1x_2x_4 + ... + x_{n - 2}x_{n - 1}x_n)\\\\\n",
        "&...\\\\\n",
        "&a_{n - k} = (-1)^k\\sum_{1\\le i_1<..<i_k\\le n}x_{i_1} ... x_{i_k}\\\\\n",
        "&...\\\\\n",
        "&a_0 = (-1)^n x_1 ... x_n.\n",
        "\\end{align*}\n",
        "Элементарный симметрический многочлен от $x_1$, ... $x_n$:\n",
        "$$\n",
        "s_k = s_k(x_1 ... x_n) = \\sum_{1\\le i_1<..<i_k\\le n}x_{i_1} ... x_{i_k}, \\quad k = 1,...,n.\n",
        "$$\n",
        "Выражение для коэффициентов многочлена $f(x)$:\n",
        "$$\n",
        "a_{n - k} = (-1)^ks_k, \\quad k = 1,...,n,\n",
        "$$\n",
        "где $x_1$, ... $x_n$ - корни $f(x)$.\n",
        "## Пример 1.\n",
        "Составим многочлен, корнями которого являются числа $2 - i$, $-1 + 2i$, $-2$, $5$.\n",
        "Вычислим коэффициенты многочлена по корням.\n",
        "\n",
        "Составим выражение в sympy, затем на основе этого выражения получим функцию, которую можно использовать в numpy.\n"
      ]
    },
    {
      "cell_type": "code",
      "metadata": {
        "colab": {
          "base_uri": "https://localhost:8080/",
          "height": 124
        },
        "id": "kSHHb3Lff-MD",
        "outputId": "35ef3298-7ef6-48e8-eabb-eeb3187c257c"
      },
      "source": [
        "from sympy.abc import x\n",
        "\n",
        "roots = [2 - sympy.I, -1 + 2 * sympy.I, -2, 5]\n",
        "roots_np = np.array(roots, dtype=complex)\n",
        "coeffs = [-sum(roots),\n",
        "           sum([roots[i] * roots[j] for i in range(4) for j in range(i + 1, 4)]),\n",
        "          -sum([roots[i] * roots[j]*roots[k] for i in range(4) for j in range(i + 1, 4) for k in range(j + 1, 4)]),\n",
        "         (-1) ** 4 * roots[0] * roots[1] * roots[2] * roots[3]]\n",
        "coeffs = [1] + [item.simplify() for item in coeffs]        \n",
        "my_poly = sum([coeffs[k] * x ** (4 - k) for k in range(5)])   \n",
        "display(my_poly)\n",
        "\n",
        "numpy_poly = sympy.lambdify(x, my_poly, 'numpy')\n",
        "display(*[Latex(f\"\"\"f(x_{k}) = {my_poly.subs(x, root).simplify()} =\n",
        " {numpy_poly(root_np)}\"\"\") for k, root, root_np in zip(range(len(roots)),\n",
        "                                                       roots, roots_np)])"
      ],
      "execution_count": 3,
      "outputs": [
        {
          "output_type": "display_data",
          "data": {
            "text/plain": [
              "x**4 + x**3*(-4 - I) + x**2*(-7 + 8*I) + x*(10 - 5*I) - 50*I"
            ],
            "text/latex": "$\\displaystyle x^{4} + x^{3} \\left(-4 - i\\right) + x^{2} \\left(-7 + 8 i\\right) + x \\left(10 - 5 i\\right) - 50 i$"
          },
          "metadata": {}
        },
        {
          "output_type": "display_data",
          "data": {
            "text/plain": [
              "<IPython.core.display.Latex object>"
            ],
            "text/latex": "f(x_0) = 0 =\n 0j"
          },
          "metadata": {}
        },
        {
          "output_type": "display_data",
          "data": {
            "text/plain": [
              "<IPython.core.display.Latex object>"
            ],
            "text/latex": "f(x_1) = 0 =\n 0j"
          },
          "metadata": {}
        },
        {
          "output_type": "display_data",
          "data": {
            "text/plain": [
              "<IPython.core.display.Latex object>"
            ],
            "text/latex": "f(x_2) = 0 =\n 0j"
          },
          "metadata": {}
        },
        {
          "output_type": "display_data",
          "data": {
            "text/plain": [
              "<IPython.core.display.Latex object>"
            ],
            "text/latex": "f(x_3) = 0 =\n 0j"
          },
          "metadata": {}
        }
      ]
    },
    {
      "cell_type": "markdown",
      "metadata": {
        "id": "wYr1LI4_7LcP"
      },
      "source": [
        "То же самое, но средствами sympy:"
      ]
    },
    {
      "cell_type": "code",
      "metadata": {
        "colab": {
          "base_uri": "https://localhost:8080/",
          "height": 38
        },
        "id": "kiqzLkry6aWW",
        "outputId": "9dc606d8-001e-464f-e22e-592d3c1d83cd"
      },
      "source": [
        "display(sum([(-1) ** k * x ** (4 - k) * (sympy.polys.specialpolys.symmetric_poly(k, roots).simplify().expand()) for k in range(5)]))"
      ],
      "execution_count": 4,
      "outputs": [
        {
          "output_type": "display_data",
          "data": {
            "text/plain": [
              "x**4 - x**3*(4 + I) + x**2*(-7 + 8*I) - x*(-10 + 5*I) - 50*I"
            ],
            "text/latex": "$\\displaystyle x^{4} - x^{3} \\cdot \\left(4 + i\\right) + x^{2} \\left(-7 + 8 i\\right) - x \\left(-10 + 5 i\\right) - 50 i$"
          },
          "metadata": {}
        }
      ]
    },
    {
      "cell_type": "markdown",
      "metadata": {
        "id": "vzCWrpTK89ke"
      },
      "source": [
        " Теперь numpy:"
      ]
    },
    {
      "cell_type": "code",
      "metadata": {
        "colab": {
          "base_uri": "https://localhost:8080/",
          "height": 38
        },
        "id": "RBCxJD3T8T3d",
        "outputId": "45e1a6e6-b939-43db-b6b7-75c943ec0c48"
      },
      "source": [
        "display(Latex(latex(np.polynomial.polynomial.polyfromroots(roots_np))))"
      ],
      "execution_count": 5,
      "outputs": [
        {
          "output_type": "display_data",
          "data": {
            "text/plain": [
              "<IPython.core.display.Latex object>"
            ],
            "text/latex": "\\mathtt{\\text{[ 0.-50.j 10. -5.j -7. +8.j -4. -1.j  1. +0.j]}}"
          },
          "metadata": {}
        }
      ]
    },
    {
      "cell_type": "markdown",
      "metadata": {
        "id": "hpszvpqmewRu"
      },
      "source": [
        "## Формулы Ньютона\n",
        "Пусть задан многочлен $f(\\lambda) = (-1)^n( \\lambda^n + b_1 \\lambda^{n - 1}  + b_2 \\lambda^{n - 2} + ... +  b_{n - 1} \\lambda+ b_n)$, причем $\\lambda_1$, ... $\\lambda_n$ - все корни $f(\\lambda)$ с учетом кратностей.\n",
        "### Ньютоновы суммы для $f(\\lambda)$ - выражения\n",
        "$$\n",
        "p_k = \\lambda_1^k + \\lambda_2^k +...+\\lambda_n^k,\\quad k = 1, 2, ....\n",
        "$$\n",
        "### Формулы Ньютона\n",
        "\\begin{align*}\n",
        "&p_1 = s_1\\\\\n",
        "&p_2 = s_1^2 - 2s_2\\\\\n",
        "&....\\\\\n",
        "&k s_k = \\sum_{i = 1}^k (-1)^{i - 1} s_{k - i} p_i\\\\\n",
        "&b_k = \\frac{-1}{k}(p_k + b_1 p_{k - 1} + ... + b_{k - 1} p_1)\n",
        "\\end{align*}\n",
        "Значения $p_k$ находятся так:  $p_k = tr A^k$.\n",
        "\n",
        "\n",
        "Если $|x_1| > |x_2| \\ge ... \\ge |x_n|$, то\n",
        "$$\n",
        "\\frac{s_{k + 1}}{s_k}\\to x_{\\max},\n",
        "$$\n",
        "где $x_{\\max}$ - наибольший по модулю корень $f(x)$ кратности 1.\n",
        "## Пример 2.\n",
        "Для корней Примера 1 вычислим коэффициенты многочлена по методу Ньютона."
      ]
    },
    {
      "cell_type": "code",
      "metadata": {
        "colab": {
          "base_uri": "https://localhost:8080/",
          "height": 145
        },
        "id": "xGr2NEVsnyOd",
        "outputId": "9a551af0-d200-439a-f5f7-c666df960a23"
      },
      "source": [
        "p_k = [sum([item ** k for item in roots]).simplify() for k in range(1, 5)]\n",
        "b1 = -p_k[0]\n",
        "b2 = -((p_k[1] + b1 * p_k[0]) / 2).simplify()\n",
        "b3 = -((p_k[2] + b1 * p_k[1] + b2 * p_k[0]) / 3).simplify()\n",
        "b4 = -((p_k[3] + b1 * p_k[2] + b2 * p_k[1] + b3 * p_k[0]) / 4).simplify()\n",
        "my_poly2 = sum([item * x ** (4 - k) for k, item in enumerate([1, b1, b2, b3, b4])])   \n",
        "display(my_poly, my_poly2, *p_k)\n"
      ],
      "execution_count": 6,
      "outputs": [
        {
          "output_type": "display_data",
          "data": {
            "text/plain": [
              "x**4 + x**3*(-4 - I) + x**2*(-7 + 8*I) + x*(10 - 5*I) - 50*I"
            ],
            "text/latex": "$\\displaystyle x^{4} + x^{3} \\left(-4 - i\\right) + x^{2} \\left(-7 + 8 i\\right) + x \\left(10 - 5 i\\right) - 50 i$"
          },
          "metadata": {}
        },
        {
          "output_type": "display_data",
          "data": {
            "text/plain": [
              "x**4 + x**3*(-4 - I) + x**2*(-7 + 8*I) + x*(10 - 5*I) - 50*I"
            ],
            "text/latex": "$\\displaystyle x^{4} + x^{3} \\left(-4 - i\\right) + x^{2} \\left(-7 + 8 i\\right) + x \\left(10 - 5 i\\right) - 50 i$"
          },
          "metadata": {}
        },
        {
          "output_type": "display_data",
          "data": {
            "text/plain": [
              "4 + I"
            ],
            "text/latex": "$\\displaystyle 4 + i$"
          },
          "metadata": {}
        },
        {
          "output_type": "display_data",
          "data": {
            "text/plain": [
              "29 - 8*I"
            ],
            "text/latex": "$\\displaystyle 29 - 8 i$"
          },
          "metadata": {}
        },
        {
          "output_type": "display_data",
          "data": {
            "text/plain": [
              "130 - 13*I"
            ],
            "text/latex": "$\\displaystyle 130 - 13 i$"
          },
          "metadata": {}
        },
        {
          "output_type": "display_data",
          "data": {
            "text/plain": [
              "627"
            ],
            "text/latex": "$\\displaystyle 627$"
          },
          "metadata": {}
        }
      ]
    },
    {
      "cell_type": "markdown",
      "metadata": {
        "id": "BCNaiwnvtb8G"
      },
      "source": [
        "## Пример 3.\n",
        "По формулам Ньютона найдем характеристический многочлен матрицы из файла Problem_3_13.xlsx."
      ]
    },
    {
      "cell_type": "code",
      "metadata": {
        "colab": {
          "base_uri": "https://localhost:8080/",
          "height": 108
        },
        "id": "czdjx1aGF-DW",
        "outputId": "e638b285-da18-4a78-aa14-8ba05134496e"
      },
      "source": [
        "uploaded = files.upload()\n",
        "for fn3 in uploaded.keys():\n",
        "  print(f'User uploaded file \"{fn3}\" with length {len(uploaded[fn3])} bytes')"
      ],
      "execution_count": 4,
      "outputs": [
        {
          "output_type": "display_data",
          "data": {
            "text/plain": [
              "<IPython.core.display.HTML object>"
            ],
            "text/html": [
              "\n",
              "     <input type=\"file\" id=\"files-7c366411-e339-4526-82b7-3ab6d743496c\" name=\"files[]\" multiple disabled\n",
              "        style=\"border:none\" />\n",
              "     <output id=\"result-7c366411-e339-4526-82b7-3ab6d743496c\">\n",
              "      Upload widget is only available when the cell has been executed in the\n",
              "      current browser session. Please rerun this cell to enable.\n",
              "      </output>\n",
              "      <script>// Copyright 2017 Google LLC\n",
              "//\n",
              "// Licensed under the Apache License, Version 2.0 (the \"License\");\n",
              "// you may not use this file except in compliance with the License.\n",
              "// You may obtain a copy of the License at\n",
              "//\n",
              "//      http://www.apache.org/licenses/LICENSE-2.0\n",
              "//\n",
              "// Unless required by applicable law or agreed to in writing, software\n",
              "// distributed under the License is distributed on an \"AS IS\" BASIS,\n",
              "// WITHOUT WARRANTIES OR CONDITIONS OF ANY KIND, either express or implied.\n",
              "// See the License for the specific language governing permissions and\n",
              "// limitations under the License.\n",
              "\n",
              "/**\n",
              " * @fileoverview Helpers for google.colab Python module.\n",
              " */\n",
              "(function(scope) {\n",
              "function span(text, styleAttributes = {}) {\n",
              "  const element = document.createElement('span');\n",
              "  element.textContent = text;\n",
              "  for (const key of Object.keys(styleAttributes)) {\n",
              "    element.style[key] = styleAttributes[key];\n",
              "  }\n",
              "  return element;\n",
              "}\n",
              "\n",
              "// Max number of bytes which will be uploaded at a time.\n",
              "const MAX_PAYLOAD_SIZE = 100 * 1024;\n",
              "\n",
              "function _uploadFiles(inputId, outputId) {\n",
              "  const steps = uploadFilesStep(inputId, outputId);\n",
              "  const outputElement = document.getElementById(outputId);\n",
              "  // Cache steps on the outputElement to make it available for the next call\n",
              "  // to uploadFilesContinue from Python.\n",
              "  outputElement.steps = steps;\n",
              "\n",
              "  return _uploadFilesContinue(outputId);\n",
              "}\n",
              "\n",
              "// This is roughly an async generator (not supported in the browser yet),\n",
              "// where there are multiple asynchronous steps and the Python side is going\n",
              "// to poll for completion of each step.\n",
              "// This uses a Promise to block the python side on completion of each step,\n",
              "// then passes the result of the previous step as the input to the next step.\n",
              "function _uploadFilesContinue(outputId) {\n",
              "  const outputElement = document.getElementById(outputId);\n",
              "  const steps = outputElement.steps;\n",
              "\n",
              "  const next = steps.next(outputElement.lastPromiseValue);\n",
              "  return Promise.resolve(next.value.promise).then((value) => {\n",
              "    // Cache the last promise value to make it available to the next\n",
              "    // step of the generator.\n",
              "    outputElement.lastPromiseValue = value;\n",
              "    return next.value.response;\n",
              "  });\n",
              "}\n",
              "\n",
              "/**\n",
              " * Generator function which is called between each async step of the upload\n",
              " * process.\n",
              " * @param {string} inputId Element ID of the input file picker element.\n",
              " * @param {string} outputId Element ID of the output display.\n",
              " * @return {!Iterable<!Object>} Iterable of next steps.\n",
              " */\n",
              "function* uploadFilesStep(inputId, outputId) {\n",
              "  const inputElement = document.getElementById(inputId);\n",
              "  inputElement.disabled = false;\n",
              "\n",
              "  const outputElement = document.getElementById(outputId);\n",
              "  outputElement.innerHTML = '';\n",
              "\n",
              "  const pickedPromise = new Promise((resolve) => {\n",
              "    inputElement.addEventListener('change', (e) => {\n",
              "      resolve(e.target.files);\n",
              "    });\n",
              "  });\n",
              "\n",
              "  const cancel = document.createElement('button');\n",
              "  inputElement.parentElement.appendChild(cancel);\n",
              "  cancel.textContent = 'Cancel upload';\n",
              "  const cancelPromise = new Promise((resolve) => {\n",
              "    cancel.onclick = () => {\n",
              "      resolve(null);\n",
              "    };\n",
              "  });\n",
              "\n",
              "  // Wait for the user to pick the files.\n",
              "  const files = yield {\n",
              "    promise: Promise.race([pickedPromise, cancelPromise]),\n",
              "    response: {\n",
              "      action: 'starting',\n",
              "    }\n",
              "  };\n",
              "\n",
              "  cancel.remove();\n",
              "\n",
              "  // Disable the input element since further picks are not allowed.\n",
              "  inputElement.disabled = true;\n",
              "\n",
              "  if (!files) {\n",
              "    return {\n",
              "      response: {\n",
              "        action: 'complete',\n",
              "      }\n",
              "    };\n",
              "  }\n",
              "\n",
              "  for (const file of files) {\n",
              "    const li = document.createElement('li');\n",
              "    li.append(span(file.name, {fontWeight: 'bold'}));\n",
              "    li.append(span(\n",
              "        `(${file.type || 'n/a'}) - ${file.size} bytes, ` +\n",
              "        `last modified: ${\n",
              "            file.lastModifiedDate ? file.lastModifiedDate.toLocaleDateString() :\n",
              "                                    'n/a'} - `));\n",
              "    const percent = span('0% done');\n",
              "    li.appendChild(percent);\n",
              "\n",
              "    outputElement.appendChild(li);\n",
              "\n",
              "    const fileDataPromise = new Promise((resolve) => {\n",
              "      const reader = new FileReader();\n",
              "      reader.onload = (e) => {\n",
              "        resolve(e.target.result);\n",
              "      };\n",
              "      reader.readAsArrayBuffer(file);\n",
              "    });\n",
              "    // Wait for the data to be ready.\n",
              "    let fileData = yield {\n",
              "      promise: fileDataPromise,\n",
              "      response: {\n",
              "        action: 'continue',\n",
              "      }\n",
              "    };\n",
              "\n",
              "    // Use a chunked sending to avoid message size limits. See b/62115660.\n",
              "    let position = 0;\n",
              "    do {\n",
              "      const length = Math.min(fileData.byteLength - position, MAX_PAYLOAD_SIZE);\n",
              "      const chunk = new Uint8Array(fileData, position, length);\n",
              "      position += length;\n",
              "\n",
              "      const base64 = btoa(String.fromCharCode.apply(null, chunk));\n",
              "      yield {\n",
              "        response: {\n",
              "          action: 'append',\n",
              "          file: file.name,\n",
              "          data: base64,\n",
              "        },\n",
              "      };\n",
              "\n",
              "      let percentDone = fileData.byteLength === 0 ?\n",
              "          100 :\n",
              "          Math.round((position / fileData.byteLength) * 100);\n",
              "      percent.textContent = `${percentDone}% done`;\n",
              "\n",
              "    } while (position < fileData.byteLength);\n",
              "  }\n",
              "\n",
              "  // All done.\n",
              "  yield {\n",
              "    response: {\n",
              "      action: 'complete',\n",
              "    }\n",
              "  };\n",
              "}\n",
              "\n",
              "scope.google = scope.google || {};\n",
              "scope.google.colab = scope.google.colab || {};\n",
              "scope.google.colab._files = {\n",
              "  _uploadFiles,\n",
              "  _uploadFilesContinue,\n",
              "};\n",
              "})(self);\n",
              "</script> "
            ]
          },
          "metadata": {}
        },
        {
          "output_type": "stream",
          "name": "stdout",
          "text": [
            "Saving Problem3_13.xlsx to Problem3_13.xlsx\n",
            "User uploaded file \"Problem3_13.xlsx\" with length 7961 bytes\n"
          ]
        }
      ]
    },
    {
      "cell_type": "code",
      "metadata": {
        "colab": {
          "base_uri": "https://localhost:8080/",
          "height": 38
        },
        "id": "ns-2Jt_8JzDu",
        "outputId": "97ab6339-07f2-4e2a-fec6-53d76bcece4a"
      },
      "source": [
        "n = pd.read_excel(fn3, index_col=None, header=None).to_numpy().shape[1]\n",
        "A3 = pd.read_excel(fn3, index_col=None, header=None, \n",
        "                   converters={i: complex for i in range(n)}).to_numpy()\n",
        "p_k = [np.trace(np.linalg.matrix_power(A3, k)) for k in range(1, n + 1)]\n",
        "b1 = -p_k[0]\n",
        "b2 = -((p_k[1] + b1 * p_k[0]) / 2)\n",
        "b3 = -((p_k[2] + b1 * p_k[1] + b2 * p_k[0])/3)\n",
        "b4 = -((p_k[3] + b1 * p_k[2] + b2 * p_k[1] + b3 * p_k[0]) / 4)\n",
        "my_poly3 = sum([item * x ** (4 - k) for k, item in enumerate([1, b1, b2,\n",
        "                                                              b3, b4])])   \n",
        "display(my_poly3)"
      ],
      "execution_count": 5,
      "outputs": [
        {
          "output_type": "display_data",
          "data": {
            "text/plain": [
              "x**4 - 24.0*x**3 + 75.0*x**2 + 222.0*x - 20.0"
            ],
            "text/latex": "$\\displaystyle x^{4} - 24.0 x^{3} + 75.0 x^{2} + 222.0 x - 20.0$"
          },
          "metadata": {}
        }
      ]
    },
    {
      "cell_type": "markdown",
      "source": [
        "## Собственные значения неотрицательной неразложимой матрицы.\n",
        "Собственное значение $\\lambda$ матрицы $A$ - такое число, что существует ненулевой вектор $x$, для которого $Ax = \\lambda x$, что эквивалентно $(A - \\lambda E) x = 0$ ($0$ - нулевой вектор!).\n",
        "\n",
        "Если матрица  $A \\ge 0$ неразложима, то по теореме Фробениуса-Перрона\n",
        "$$\n",
        "\\hat\\lambda = |\\lambda_{\\max}| = \\rho(A),\n",
        "$$\n",
        "В этом случае для любого начального приближения $x^0$ последовательность\n",
        "$$\n",
        "x^{n + 1} = \\frac{1}{|Ax^{n}|_1}Ax^n \\qquad(1)\n",
        "$$\n",
        "сходится к собственному вектору $\\hat x$, соответствующему собственному значению $\\hat\\lambda$.\n",
        "\n",
        "Если при этом $\\hat x_i > 0$, то $\\hat\\lambda \\approx \\frac{(x^{n + 1})_i}{(x^n)_i}$.\n",
        "\n",
        "## Пример 4.\n",
        "Составим матрицу из положительных чисел от 1 до 10 размерности 10 и будем вычислять элементы итерационной последовательности по формуле (1), пока последовательные векторы $x^k$ и $x^{k + 1}$ не будут отличаться менее чем на $\\varepsilon = 0.001$ по норме 1.\n"
      ],
      "metadata": {
        "id": "XT38CMvYCxhA"
      }
    },
    {
      "cell_type": "code",
      "source": [
        "n = 10\n",
        "eps = 0.001\n",
        "A1 = np.array([[random.randint(1, 10) for _ in range(n)] for _ in range(n)])\n",
        "x1 = A1[:, 0]\n",
        "x0 = x1 + np.ones((n, 1))\n",
        "while np.linalg.norm(x1 - x0, ord=1) >= eps:\n",
        "  x0 = x1\n",
        "  Ax0 = A1 @ x0\n",
        "  x1 = Ax0 / np.linalg.norm(Ax0, ord=1)\n",
        "  print(f'x = {x1.T.round(3)}')\n",
        "lambdaA1 = (A1 @ x1)[0] / x1[0]\n",
        "print(f'с.в. {x1.T.round(3)}\\nс.з. {lambdaA1.round(3)}\\nAx = lambda x {np.allclose(A1 @ x1, lambdaA1 * x1, atol=eps, rtol=eps)}')   "
      ],
      "metadata": {
        "colab": {
          "base_uri": "https://localhost:8080/"
        },
        "id": "XigLcCp7C25e",
        "outputId": "68115a18-a014-454e-d3ad-ad064c2fa386"
      },
      "execution_count": 9,
      "outputs": [
        {
          "output_type": "stream",
          "name": "stdout",
          "text": [
            "x = [0.112 0.083 0.08  0.086 0.101 0.114 0.099 0.123 0.096 0.107]\n",
            "x = [0.092 0.084 0.094 0.076 0.109 0.124 0.091 0.119 0.105 0.106]\n",
            "x = [0.088 0.084 0.097 0.074 0.112 0.124 0.09  0.119 0.106 0.106]\n",
            "x = [0.088 0.084 0.097 0.074 0.112 0.124 0.09  0.119 0.106 0.106]\n",
            "x = [0.088 0.084 0.097 0.074 0.112 0.124 0.09  0.119 0.106 0.106]\n",
            "с.в. [0.088 0.084 0.097 0.074 0.112 0.124 0.09  0.119 0.106 0.106]\n",
            "с.з. 47.208\n",
            "Ax = lambda x True\n"
          ]
        }
      ]
    },
    {
      "cell_type": "markdown",
      "source": [
        "Вариант без риска зацикливания:"
      ],
      "metadata": {
        "id": "VKlwyX_ZC6jz"
      }
    },
    {
      "cell_type": "code",
      "source": [
        "max_iter_num = 10**5\n",
        "x1 = A1[:, 0]\n",
        "x0 = x1 + np.ones((n, 1))\n",
        "for i in range(max_iter_num):\n",
        "  x0 = x1\n",
        "  Ax0 = A1 @ x0\n",
        "  x1 = Ax0 / np.linalg.norm(Ax0, ord=1)\n",
        "  if np.linalg.norm(x1 - x0, ord=1) < eps:\n",
        "    break\n",
        "  \n",
        "print(f'итерация {i}: x{i} = {x1.T.round(3)}')\n",
        "lambdaA1 = (A1 @ x1)[0] / x1[0]\n",
        "print(f\"\"\"с.в. {x1.T.round(3)}\\nс.з. {lambdaA1.round(3)}\\n\n",
        "Ax = lambda x {np.allclose(A1 @ x1, lambdaA1 * x1, atol=eps, rtol=eps)}\"\"\")    "
      ],
      "metadata": {
        "colab": {
          "base_uri": "https://localhost:8080/"
        },
        "id": "bjVjRfFCC7U6",
        "outputId": "12d60eea-ac69-48f1-bc48-fae9274bdd1e"
      },
      "execution_count": 10,
      "outputs": [
        {
          "output_type": "stream",
          "name": "stdout",
          "text": [
            "итерация 4: x4 = [0.088 0.084 0.097 0.074 0.112 0.124 0.09  0.119 0.106 0.106]\n",
            "с.в. [0.088 0.084 0.097 0.074 0.112 0.124 0.09  0.119 0.106 0.106]\n",
            "с.з. 47.208\n",
            "\n",
            "Ax = lambda x True\n"
          ]
        }
      ]
    },
    {
      "cell_type": "markdown",
      "source": [
        "Проверим, что получилось собственное значение, равное спектральному радиусу. Также проверим, что собственный вектор, соответствующий спектральному радиусу, имеет координаты, пропорциональные координатам полученного нами вектора."
      ],
      "metadata": {
        "id": "OQ9kFMZGC_fq"
      }
    },
    {
      "cell_type": "code",
      "source": [
        "spectrA1, eigvectorsA1 = np.linalg.eig(A1)\n",
        "spectrA1 = np.round(spectrA1)\n",
        "max_ev = eigvectorsA1[:, 0]\n",
        "print(f\"\"\"спектральный радиус {abs(spectrA1[0])}\n",
        "соответствующий собственный вектор {max_ev.T.real.round(3)}\n",
        "пропорцинален вектору {x1.T.round(3)}? \n",
        "{np.allclose(x1 / x1[0], max_ev / max_ev[0], atol=10 ** (-3))}\"\"\")"
      ],
      "metadata": {
        "colab": {
          "base_uri": "https://localhost:8080/"
        },
        "id": "GUvctA2tDCJ6",
        "outputId": "ca56a820-581d-4401-e081-4aed58cb7d42"
      },
      "execution_count": 11,
      "outputs": [
        {
          "output_type": "stream",
          "name": "stdout",
          "text": [
            "спектральный радиус 47.0\n",
            "соответствующий собственный вектор [-0.274 -0.262 -0.305 -0.231 -0.35  -0.389 -0.28  -0.373 -0.331 -0.33 ]\n",
            "пропорцинален вектору [0.088 0.084 0.097 0.074 0.112 0.124 0.09  0.119 0.106 0.106]? \n",
            "True\n"
          ]
        }
      ]
    },
    {
      "cell_type": "markdown",
      "source": [
        "Можно сравнить собственные векторы и иначе - нормировав кажый из них по одной и той же норме, например, 1.\n",
        "\n",
        "!!! Важно: все координаты max_ev отрицательные, поэтому для корректного сравнения умножим $x_1$ на $-1$."
      ],
      "metadata": {
        "id": "tncpmQbODV-W"
      }
    },
    {
      "cell_type": "code",
      "source": [
        "np.allclose(*[item / np.linalg.norm(item, ord=1) for item in (-x1, max_ev)], atol=10**(-2))"
      ],
      "metadata": {
        "colab": {
          "base_uri": "https://localhost:8080/"
        },
        "id": "ohrXvyU9DIYz",
        "outputId": "158fde1a-91e8-48b5-d16f-666ae6e19d3c"
      },
      "execution_count": 12,
      "outputs": [
        {
          "output_type": "execute_result",
          "data": {
            "text/plain": [
              "True"
            ]
          },
          "metadata": {},
          "execution_count": 12
        }
      ]
    },
    {
      "cell_type": "markdown",
      "source": [
        "## Круги Гершгорина\n",
        "#### Первая теорема Гершгорина\n",
        "\n",
        "Все собственные значения матрицы $A_{n\\times n} = (a_{ij})$ содержатся в объединении кругов на комплексной плоскости\n",
        "$$\n",
        "|\\lambda - a_{ii}| \\le \\sum_{k = 1, k \\neq i}^n |a_{ik}|, \\quad i = 1, ..., n.\n",
        "$$\n",
        "\n",
        "## Вторая теорема Гершгорина\n",
        "\n",
        "Если объединение $U$ $r$ кругов Гершгорина не пересекается с остальными $n - r$ кругами, то $U$ содержит ровно $r$ собственных значений матрицы $A_{n\\times n} = (a_{ij})$ с учетом кратности.\n"
      ],
      "metadata": {
        "id": "J5WDwDmAGxhh"
      }
    },
    {
      "cell_type": "markdown",
      "source": [
        "### QR разложение\n",
        "$A = QR$ для симметричной вещественной матрицы $A$\n",
        "\n",
        "$Q$ - матрица из ортогональных столбцов, т.е. $Q^HQ = I$, $I$ - единичная матрица, причем может не выполняться $QQ^H = I$ (для ортогональной матрицы $Q^HQ = QQ^H = I$),\n",
        "$R$ - правая треугольная (трапециевидная) матрица.\n",
        "\n",
        "Ранг матрицы $A$ равен числу столбцов матрицы $Q$.\n",
        "### Пример 5.\n",
        "Построим  QR разложение для матрицы \n",
        "$$\n",
        "M=\\left(\n",
        "\\begin{matrix}\n",
        "0&3+ I&5 - 2I&1\\\\\n",
        " - I&2&1 - I&2\\\\\n",
        "5&-1 + 4I&-3&3\n",
        "\\end{matrix}\n",
        "\\right)\n",
        "$$"
      ],
      "metadata": {
        "id": "27-dUR3AUXLw"
      }
    },
    {
      "cell_type": "code",
      "source": [
        "M = Matrix([[0, 3 + I, 5 - 2 * I, 1], [-I, 2, 1 - I, 2], [5, -1 + 4 * I, -3, 3]])\n",
        "Q, R = M.QRdecomposition()\n",
        "MQR = Q * R\n",
        "Q, R, MQR = [simplify(expand(item)) for item in (Q, R, MQR)]\n",
        "display(Latex(\"\"\"M = {}\\\\\\\\Q = {}, R = {}\\\\\\\\\n",
        "QR = {}\\\\\\\\M = QR\\ {}\"\"\".format(*map(latex, (M, Q, R, MQR, M == MQR))))) "
      ],
      "metadata": {
        "colab": {
          "base_uri": "https://localhost:8080/",
          "height": 236
        },
        "id": "ZYkSo4mMU3VE",
        "outputId": "86b6c3e6-3b33-4b0b-931d-033df88bbfb5"
      },
      "execution_count": 14,
      "outputs": [
        {
          "output_type": "display_data",
          "data": {
            "text/plain": [
              "<IPython.core.display.Latex object>"
            ],
            "text/latex": "M = \\left[\\begin{matrix}0 & 3 + i & 5 - 2 i & 1\\\\- i & 2 & 1 - i & 2\\\\5 & -1 + 4 i & -3 & 3\\end{matrix}\\right]\\\\Q = \\left[\\begin{matrix}0 & \\frac{\\sqrt{858} \\cdot \\left(3 + i\\right)}{99} & \\frac{\\sqrt{957} \\cdot \\left(28 + 17 i\\right)}{2871}\\\\- \\frac{\\sqrt{26} i}{26} & \\frac{5 \\sqrt{858} \\cdot \\left(6 - i\\right)}{2574} & \\frac{5 \\sqrt{957} \\left(-17 - i\\right)}{2871}\\\\\\frac{5 \\sqrt{26}}{26} & \\frac{\\sqrt{858} \\left(-1 - 6 i\\right)}{2574} & \\frac{\\sqrt{957} \\left(-1 + 17 i\\right)}{2871}\\end{matrix}\\right], R = \\left[\\begin{matrix}\\sqrt{26} & \\frac{\\sqrt{26} \\left(-5 + 22 i\\right)}{26} & \\frac{\\sqrt{26} \\left(-14 + i\\right)}{26} & \\frac{\\sqrt{26} \\cdot \\left(15 + 2 i\\right)}{26}\\\\0 & \\frac{3 \\sqrt{858}}{26} & \\frac{\\sqrt{858} \\cdot \\left(376 - 329 i\\right)}{2574} & \\frac{\\sqrt{858} \\cdot \\left(135 + 2 i\\right)}{2574}\\\\0 & 0 & \\frac{\\sqrt{957}}{99} & \\frac{\\sqrt{957} \\left(-5 - 2 i\\right)}{99}\\end{matrix}\\right]\\\\\nQR = \\left[\\begin{matrix}0 & 3 + i & 5 - 2 i & 1\\\\- i & 2 & 1 - i & 2\\\\5 & -1 + 4 i & -3 & 3\\end{matrix}\\right]\\\\M = QR\\ \\text{True}"
          },
          "metadata": {}
        }
      ]
    },
    {
      "cell_type": "markdown",
      "source": [
        "## Решение систем линейных уравнений с помощью разложений.\n",
        "### Пример 6.\n",
        "Решим с помощью  QR разложения матрицы\n",
        "$$\n",
        "B=\\left(\n",
        "\\begin{matrix}\n",
        "1 &  2 & 3\\\\\n",
        "4 & 5 &  6\\\\\n",
        "7 &  8 & 9\n",
        "\\end{matrix}\n",
        "\\right)\n",
        "$$\n",
        "систему линейных уравнений\n",
        "$$\n",
        "BX = b,\n",
        "\\quad\n",
        "b = \\left(\n",
        "\\begin{matrix}6\\\\12\\\\24\\end{matrix}\n",
        "\\right).\n",
        "$$\n",
        "Проверим совместность СЛАУ:"
      ],
      "metadata": {
        "id": "_ALOKwiVU9cj"
      }
    },
    {
      "cell_type": "code",
      "source": [
        "B = Matrix([[1, 2, 3], [4, 5, 6], [7, 8, 9]])\n",
        "b = Matrix([6, 12, 24])\n",
        "Bb = B.row_join(b)\n",
        "print(f\"\"\"B.rank = {B.rank()}, Bb.rank = {Bb.rank()},\n",
        "B.rank == Bb.rank(): {B.rank() == Bb.rank()}\"\"\")"
      ],
      "metadata": {
        "colab": {
          "base_uri": "https://localhost:8080/"
        },
        "id": "AZioywGXU_7b",
        "outputId": "ec0c7a51-330b-40ad-9856-c6ef6038b6eb"
      },
      "execution_count": 15,
      "outputs": [
        {
          "output_type": "stream",
          "name": "stdout",
          "text": [
            "B.rank = 2, Bb.rank = 3,\n",
            "B.rank == Bb.rank(): False\n"
          ]
        }
      ]
    },
    {
      "cell_type": "markdown",
      "source": [
        "СЛАУ несовместна, в обычном смысле решения нет, но с помощью QR разложения можно найти псевдорешение, т.е. такую матрицу- столбец, что при подстановке в СЛАУ вместо $X$ даст минимальную возможную норму разности левой и правой частей СЛАУ (невязки)."
      ],
      "metadata": {
        "id": "9hvg3ywiVCZL"
      }
    },
    {
      "cell_type": "code",
      "source": [
        "X = B.QRsolve(b)\n",
        "display(X)"
      ],
      "metadata": {
        "colab": {
          "base_uri": "https://localhost:8080/",
          "height": 58
        },
        "id": "4FOFZgh0VDZb",
        "outputId": "c3ef41de-47bb-4207-ca69-ba54d3536ef1"
      },
      "execution_count": 16,
      "outputs": [
        {
          "output_type": "display_data",
          "data": {
            "text/plain": [
              "Matrix([\n",
              "[1],\n",
              "[2]])"
            ],
            "text/latex": "$\\displaystyle \\left[\\begin{matrix}1\\\\2\\end{matrix}\\right]$"
          },
          "metadata": {}
        }
      ]
    },
    {
      "cell_type": "markdown",
      "source": [
        "Для сокращения объема используемой памяти используется сокращенная форма QR разложения, при которой прямоугольная часть матрицы Q, состоящая из одних нулей, не хранится. Для восстановления полного решения в нашем случае достаточно добавить один ноль к получившемуся столбцу (поскольку столбце X должен состоять из трех элементов):"
      ],
      "metadata": {
        "id": "cUnyncQsVFKS"
      }
    },
    {
      "cell_type": "code",
      "source": [
        "X = X.col_join(Matrix([0]))\n",
        "delta = B * X - b\n",
        "display(Latex('X = {}, delta = {}, delta.norm(2) = {}'.format(*map(latex, (X, delta, delta.norm(2))))))"
      ],
      "metadata": {
        "colab": {
          "base_uri": "https://localhost:8080/",
          "height": 78
        },
        "id": "3omb9jYJVICa",
        "outputId": "a79561a2-f1fd-4792-fb19-f502b143f087"
      },
      "execution_count": 17,
      "outputs": [
        {
          "output_type": "display_data",
          "data": {
            "text/plain": [
              "<IPython.core.display.Latex object>"
            ],
            "text/latex": "X = \\left[\\begin{matrix}1\\\\2\\\\0\\end{matrix}\\right], delta = \\left[\\begin{matrix}-1\\\\2\\\\-1\\end{matrix}\\right], delta.norm(2) = \\sqrt{6}"
          },
          "metadata": {}
        }
      ]
    },
    {
      "cell_type": "markdown",
      "source": [
        "Полученное псевдорешение не является нормальным псевдорешением, т.е. псевдорешением с минимальной нормой, но и нормальное псевдорешение проще получить, используя QR разложение.\n",
        "\n",
        "## Жорданова форма матрицы\n",
        "$A = PJP^{-1}$ для квадратной матрицы $A$\n",
        "\n",
        "$P$ - матрица перехода, $J$ - жорданова матрица.\n",
        "\n",
        "### Пример 7.\n",
        "Построим  жорданову форму для матриц\n",
        "$$\n",
        "B=\\left(\n",
        "\\begin{matrix}\n",
        "6 &  5 & -2\\\\\n",
        "-3 & -1 &  3\\\\\n",
        "2 &  1 & -2\n",
        "\\end{matrix}\n",
        "\\right)\n",
        "\\quad\n",
        "K=\\left(\n",
        "\\begin{matrix}\n",
        "6 &  5 & -2 & -3\\\\\n",
        "-3 & -1 &  3 &  3\\\\\n",
        "2 &  1 & -2 &  -3\\\\\n",
        "-1 & 1 & 5 & 5\n",
        "\\end{matrix}\n",
        "\\right)\n",
        "$$"
      ],
      "metadata": {
        "id": "4wBq-PbYVJ3L"
      }
    },
    {
      "cell_type": "code",
      "source": [
        "B = Matrix([[6,  5, -2], [-3, -1,  3], [2,  1, -2]])\n",
        "P, J = B.jordan_form()\n",
        "P, J = [simplify(expand(item)) for item in (P, J)]\n",
        "display(Latex('P = {}, J = {}\\\\\\\\PJP^{{-1}} = {}, B  = {}'.format(*map(latex, (P, J, P * J * P ** (-1), B)))))\n",
        "K = Matrix([[6,  5, -2, -3], [-3, -1,  3,  3], [2,  1, -2, -3], [-1,  1,  5,  5]])\n",
        "P, J = K.jordan_form()\n",
        "P, J = [simplify(expand(item)) for item in (P, J)]\n",
        "display(Latex('P = {}, J = {}\\\\\\\\PJP^{{-1}} = {}, K  = {}'.format(*map(latex, (P, J, P * J * P ** (-1), K)))))"
      ],
      "metadata": {
        "colab": {
          "base_uri": "https://localhost:8080/",
          "height": 302
        },
        "id": "imDvbpZoVRTK",
        "outputId": "baf73835-5b12-49ad-b1f6-3b22296c634f"
      },
      "execution_count": 18,
      "outputs": [
        {
          "output_type": "display_data",
          "data": {
            "text/plain": [
              "<IPython.core.display.Latex object>"
            ],
            "text/latex": "P = \\left[\\begin{matrix}1 & 9 & 1\\\\-1 & -6 & 1\\\\1 & 3 & 0\\end{matrix}\\right], J = \\left[\\begin{matrix}-1 & 0 & 0\\\\0 & 2 & 1\\\\0 & 0 & 2\\end{matrix}\\right]\\\\PJP^{-1} = \\left[\\begin{matrix}6 & 5 & -2\\\\-3 & -1 & 3\\\\2 & 1 & -2\\end{matrix}\\right], B  = \\left[\\begin{matrix}6 & 5 & -2\\\\-3 & -1 & 3\\\\2 & 1 & -2\\end{matrix}\\right]"
          },
          "metadata": {}
        },
        {
          "output_type": "display_data",
          "data": {
            "text/plain": [
              "<IPython.core.display.Latex object>"
            ],
            "text/latex": "P = \\left[\\begin{matrix}4 & 1 & 5 & 0\\\\-3 & 0 & -3 & 1\\\\2 & 0 & 1 & 0\\\\-1 & 0 & 1 & 0\\end{matrix}\\right], J = \\left[\\begin{matrix}2 & 1 & 0 & 0\\\\0 & 2 & 0 & 0\\\\0 & 0 & 2 & 1\\\\0 & 0 & 0 & 2\\end{matrix}\\right]\\\\PJP^{-1} = \\left[\\begin{matrix}6 & 5 & -2 & -3\\\\-3 & -1 & 3 & 3\\\\2 & 1 & -2 & -3\\\\-1 & 1 & 5 & 5\\end{matrix}\\right], K  = \\left[\\begin{matrix}6 & 5 & -2 & -3\\\\-3 & -1 & 3 & 3\\\\2 & 1 & -2 & -3\\\\-1 & 1 & 5 & 5\\end{matrix}\\right]"
          },
          "metadata": {}
        }
      ]
    }
  ]
}