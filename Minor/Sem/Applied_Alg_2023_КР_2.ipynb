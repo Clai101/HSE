{
  "cells": [
    {
      "cell_type": "markdown",
      "metadata": {
        "id": "fis1w-TTVnuw"
      },
      "source": [
        "# **Лабораторная работа 2**\n",
        "# **Прикладная алгебра и численные методы**\n",
        "## Число обусловленности, итерационные методы решения СЛАУ, теорема Фробениуса-Перрона, PageRank, собственные значения, характеристический многочлен."
      ]
    },
    {
      "cell_type": "code",
      "execution_count": 57,
      "metadata": {
        "id": "mGFcxneQVnu6"
      },
      "outputs": [],
      "source": [
        "import numpy as np\n",
        "import pandas as pd\n",
        "import matplotlib.pyplot as plt\n",
        "import scipy\n",
        "import scipy.linalg\n",
        "import sympy\n",
        "from sympy import Matrix, simplify, expand\n",
        "from IPython.display import Latex, Math"
      ]
    },
    {
      "cell_type": "markdown",
      "metadata": {
        "id": "HyZqTI_Dlle4"
      },
      "source": [
        "## Задание 1.\n",
        "Считать данные из файла \"Problem1lab2vxx.xlsx\", на листе \"A1\" матрица левой части СЛАУ $AX = b$, на листе \"b1\" - вектор правой части СЛАУ.\n",
        "\n",
        "Вычислить матричные нормы $||A_1||_1$, $||A_1||_2$, $||A_1||_\\infty$, $||A_1||_{nuc}$ и $||A_1||_F$  для матрицы $A_1$ и соответствующие подчиненные векторные нормы для вектора $b$. Вывести на экран на отдельных строках матричные и векторные нормы, в каждой строке одна матричная норма и соответствующая векторная."
      ]
    },
    {
      "cell_type": "code",
      "execution_count": 58,
      "metadata": {
        "id": "Kw3jUIs7TjkG"
      },
      "outputs": [
        {
          "name": "stdout",
          "output_type": "stream",
          "text": [
            "Матричные нормы:\n",
            "||A1||_1 = 139.0\n",
            "||A1||_2 = 50.15638021442877\n",
            "||A1||_inf = 145.0\n",
            "||A1||_nuc = 543.4091146809428\n",
            "||A1||_F = 133.08268106707197\n",
            "Векторные нормы:\n",
            "||b||_1 = 3018.0\n",
            "||b||_2 = 816.3099901385501\n",
            "||b||_inf = 369.0\n"
          ]
        }
      ],
      "source": [
        "A = pd.read_excel(\"Problem1lab2v15.xlsx\").to_numpy()\n",
        "deltaA = pd.read_excel(\"Problem1lab2v15.xlsx\", sheet_name='deltaA3').to_numpy()\n",
        "deltab = pd.read_excel(\"Problem1lab2v15.xlsx\", sheet_name='deltab3').to_numpy()\n",
        "b = pd.read_excel(\"Problem1lab2v15.xlsx\", sheet_name='b3').to_numpy()\n",
        "\n",
        "norm_1 = np.linalg.norm(A, ord=1)\n",
        "norm_2 = np.linalg.norm(A, ord=2)\n",
        "norm_inf = np.linalg.norm(A, ord=np.inf)\n",
        "norm_nuc = np.linalg.norm(A, ord='nuc') \n",
        "norm_fro = np.linalg.norm(A, ord='fro')\n",
        "\n",
        "norm_1_vec = np.linalg.norm(b, ord=1)\n",
        "norm_2_vec = np.linalg.norm(b, ord=2)\n",
        "norm_inf_vec = np.linalg.norm(b, ord=np.inf)\n",
        "\n",
        "print(\"Матричные нормы:\")\n",
        "print(\"||A1||_1 =\", norm_1)\n",
        "print(\"||A1||_2 =\", norm_2)\n",
        "print(\"||A1||_inf =\", norm_inf)\n",
        "print(\"||A1||_nuc =\", norm_nuc)\n",
        "print(\"||A1||_F =\", norm_fro)\n",
        "\n",
        "print(\"Векторные нормы:\")\n",
        "print(\"||b||_1 =\", norm_1_vec)\n",
        "print(\"||b||_2 =\", norm_2_vec)\n",
        "print(\"||b||_inf =\", norm_inf_vec)\n"
      ]
    },
    {
      "cell_type": "markdown",
      "metadata": {
        "id": "_y38fB3BOqNU"
      },
      "source": [
        "## Задание 2. Число обусловленности. Погрешность решения СЛАУ. \n",
        "\n",
        "Найти число обусловленности матрицы $A_1$ Задания 1 в нормах 1, 2, inf. \n",
        "Вывести на экран найденные значения числа обусловленности.\n",
        "\n",
        "К матрице  $A_1$ прибавить матрицу искажений с листа  \"deltaA\" файла \"Problem1lab2vxx.xlsx\",\n",
        "к $b_1$ Задания 1  прибавить столбец искажений с листа  \"deltab\" файла \"Problem1lab2vxx.xlsx\". \n",
        "\n",
        "Найти решения исходной и искаженной СЛАУ с помощью np.linalg.solve, вычислить норму (1, 2, inf) их разности, вывести на экран решения и нормы их разности."
      ]
    },
    {
      "cell_type": "code",
      "execution_count": 59,
      "metadata": {
        "id": "6k0X3cy3TkNl"
      },
      "outputs": [
        {
          "name": "stdout",
          "output_type": "stream",
          "text": [
            "Число обусловленности:\n",
            "cond_1 = 954.8747971909315\n",
            "cond_2 = 148.83266942342536\n",
            "cond_inf = 126.34020305701546\n",
            "\n",
            "Решение исходной СЛАУ:\n",
            "[[ 2.04476746]\n",
            " [ 1.57839   ]\n",
            " [ 3.06285554]\n",
            " [ 2.27251483]\n",
            " [-8.24314489]\n",
            " [-4.65121348]\n",
            " [ 1.26359458]\n",
            " [-8.17444777]\n",
            " [-8.64049837]\n",
            " [-9.59436576]\n",
            " [ 1.73844958]\n",
            " [ 5.91016577]\n",
            " [-9.11605811]\n",
            " [-1.98363715]\n",
            " [ 7.92802486]\n",
            " [ 6.23986864]\n",
            " [ 1.95589682]\n",
            " [-3.07418706]\n",
            " [ 6.15827292]\n",
            " [ 7.74827964]\n",
            " [ 3.62850142]\n",
            " [ 3.02346895]\n",
            " [-3.28759089]\n",
            " [ 0.68561842]]\n",
            "\n",
            "Решение искаженной СЛАУ:\n",
            "[[ 2.04924451]\n",
            " [ 1.58094047]\n",
            " [ 3.06548531]\n",
            " [ 2.27281198]\n",
            " [-8.2412327 ]\n",
            " [-4.65112227]\n",
            " [ 1.26009734]\n",
            " [-8.17509178]\n",
            " [-8.64108182]\n",
            " [-9.59058146]\n",
            " [ 1.73674434]\n",
            " [ 5.90859974]\n",
            " [-9.11586017]\n",
            " [-1.98481184]\n",
            " [ 7.93373595]\n",
            " [ 6.23502516]\n",
            " [ 1.95723867]\n",
            " [-3.07296513]\n",
            " [ 6.15843173]\n",
            " [ 7.74471789]\n",
            " [ 3.63101644]\n",
            " [ 3.02420626]\n",
            " [-3.28500584]\n",
            " [ 0.68479014]]\n",
            "\n",
            "Нормы разности решений:\n",
            "||x1 - x1_delta||_1 = 0.04861530857318397\n",
            "||x1 - x1_delta||_2 = 0.012554764335426998\n",
            "||x1 - x1_delta||_inf = 0.005711087892851907\n"
          ]
        }
      ],
      "source": [
        "_, singular_values, _ = np.linalg.svd(A)\n",
        "cond_1 = np.linalg.norm(singular_values, ord=1) * np.linalg.norm(np.linalg.pinv(A), ord=1)\n",
        "cond_2 = np.linalg.norm(singular_values, ord=2) * np.linalg.norm(np.linalg.pinv(A), ord=2)\n",
        "cond_inf = np.linalg.norm(singular_values, ord=np.inf) * np.linalg.norm(np.linalg.pinv(A), ord=np.inf)\n",
        "\n",
        "A1_delta = A + deltaA\n",
        "b1_delta = b + deltab\n",
        "\n",
        "x, _, _, _ = np.linalg.lstsq(A, b, rcond=None)\n",
        "x1_delta, _, _, _ = np.linalg.lstsq(A1_delta, b1_delta, rcond=None)\n",
        "\n",
        "norm_diff_1 = np.linalg.norm(x - x1_delta, ord=1)\n",
        "norm_diff_2 = np.linalg.norm(x - x1_delta, ord=2)\n",
        "norm_diff_inf = np.linalg.norm(x - x1_delta, ord=np.inf)\n",
        "\n",
        "print(\"Число обусловленности:\")\n",
        "print(\"cond_1 =\", cond_1)\n",
        "print(\"cond_2 =\", cond_2)\n",
        "print(\"cond_inf =\", cond_inf)\n",
        "\n",
        "print(\"\\nРешение исходной СЛАУ:\")\n",
        "print(x)\n",
        "\n",
        "print(\"\\nРешение искаженной СЛАУ:\")\n",
        "print(x1_delta)\n",
        "\n",
        "print(\"\\nНормы разности решений:\")\n",
        "print(\"||x1 - x1_delta||_1 =\", norm_diff_1)\n",
        "print(\"||x1 - x1_delta||_2 =\", norm_diff_2)\n",
        "print(\"||x1 - x1_delta||_inf =\", norm_diff_inf)\n"
      ]
    },
    {
      "cell_type": "markdown",
      "metadata": {
        "id": "J2hif_lE7iOB"
      },
      "source": [
        "## Задание 3 Погрешность решения СЛАУ. \n",
        "Проверить, что для СЛАУ Задания 1 выполняется неравенство:\n",
        "$$\n",
        "(1)\\qquad\\frac{\\delta b}{\\chi(A)}  \\le \\delta \n",
        "X \\le \\chi(A)\\delta b,\n",
        "$$\n",
        "где  $\\chi(A)$ число обусловленности,\n",
        "$\\delta X = \\frac{||\\Delta X||}{||X||}$, $\\delta b = \\frac{||\\Delta b||}{||b||}$, $\\Delta X = X - X^*$ - разность точного решения $X$ СЛАУ $A_1X = b$ и $X^*$ - решения искаженной СЛАУ $A_1X = b^*$, $b^* = b + \\Delta b$,\n",
        "$\\Delta b$ - столбец искажений с листа deltab.\n",
        "\n",
        "Внимание!!! $X^*$ не из Задания 1, $X^*$ - решение СЛАУ с неискаженной матрицей левой части $A_1$!\n",
        "\n",
        "Норма 2-norm, (т.е. для матрицы спектральная, для вектора - Евклидова).\n",
        "\n",
        "Вывести на экран значения  $\\delta X$, $\\delta b$, $\\frac{\\delta b}{\\chi(A)}$, $\\chi(A)\\delta b$ и результат проверки выполнения неравенств (текст \"Верно\" или \"Неверно\", он должен быть получен автоматически на основе вычислений).\n",
        "\n",
        "Показать, что для $X^*$ из Задания 1 неравенства (1) НЕ выполняются.\n",
        "\n",
        "Показать, что для $X^*$ из Задания 1 выполняется неравенство:\n",
        "$$\n",
        "(2)\\qquad\\frac{\\delta b + \\delta A}{\\chi(A)}  \\le \\delta \n",
        "X \\le \\chi(A)(\\delta b  + \\delta A).\n",
        "$$"
      ]
    },
    {
      "cell_type": "code",
      "execution_count": 60,
      "metadata": {
        "id": "AF2_KqPrTlRl"
      },
      "outputs": [
        {
          "name": "stdout",
          "output_type": "stream",
          "text": [
            "delta_X = 0.0004686928989414159\n",
            "delta_b / cond_2 = 1.928444003315773e-08\n",
            "cond_2 * delta_b = 0.0004271727839432741\n",
            "Неравенство 1: Неверно\n",
            "неравенство 2: Верно\n"
          ]
        }
      ],
      "source": [
        "delta_X = np.linalg.norm(x - x1_delta) / np.linalg.norm(x)\n",
        "delta_b = np.linalg.norm(deltab) / np.linalg.norm(b)\n",
        "left_side = delta_b / cond_2\n",
        "right_side = cond_2 * delta_b\n",
        "\n",
        "print(\"delta_X =\", delta_X)\n",
        "print(\"delta_b / cond_2 =\", left_side)\n",
        "print(\"cond_2 * delta_b =\", right_side)\n",
        "\n",
        "print(\"Неравенство 1:\", \"Верно\" if (left_side <= delta_X <= right_side) else \"Неверно\")\n",
        "\n",
        "\n",
        "\n",
        "delta_A = np.linalg.norm(deltaA) / np.linalg.norm(A)\n",
        "left_side = (delta_b + delta_A) / cond_2\n",
        "right_side = cond_2 * (delta_b + delta_A)\n",
        "\n",
        "print(\"неравенство 2:\", \"Верно\" if (left_side <= delta_X <= right_side) else \"Неверно\")\n"
      ]
    },
    {
      "cell_type": "markdown",
      "metadata": {
        "id": "Utp2ZmUUQ4fg"
      },
      "source": [
        "## Задание 4 Погрешность обратной матрицы. \n",
        "Для матрицы $A_1$ Задания 1 оценить сверху погрешность приближения обратной матрицы $\\hat A = A_1 + \\Delta A_1$ при условии, что $\\Delta A_1$ -  матрица  искажений с листа  \"deltaA\" файла \"Problem1lab2vxx.xlsx\". \n",
        "Для оценки использовать неравенство \n",
        "$$\n",
        "(3)\\qquad \\delta  A_1^{-1} \\le \\frac{\\chi(A_1)\\delta A_1}{1 - \\chi(A_1)\\delta A_1}, \\quad \n",
        "  \\delta  A_1^{-1} = \\frac{||{\\hat A_1}^{-1} - A_1^{-1}||}{||A_1^{-1}||},\\quad \n",
        " \\delta A_1 = \\frac{||\\Delta A_1||}{||A_1||}.\n",
        "$$\n",
        "\n",
        "Найти обратные матрицы для $A_1$ и $\\hat A_1$. Сравнить $\\delta  A_1^{-1} = \\frac{||{\\hat A_1}^{-1} - A_1^{-1}||}{||A_1^{-1}||}$ и правую часть неравенства, проверить выполнение неравенства.\n",
        "\n",
        "Вывести на экран значение левой и правой частей неравенства  и результат проверки выполнения неравенств (текст \"Верно\" или \"Неверно\", он должен быть получен автоматически на основе вычислений)."
      ]
    },
    {
      "cell_type": "code",
      "execution_count": 61,
      "metadata": {
        "id": "tQjpJEKTTmZE"
      },
      "outputs": [
        {
          "name": "stdout",
          "output_type": "stream",
          "text": [
            "Левая часть: 0.002658973317580886\n",
            "Правая часть: 0.015074319022901945\n",
            "Выполнение неравенства: Верно\n"
          ]
        }
      ],
      "source": [
        "delta_A = np.linalg.norm(deltaA) / np.linalg.norm(A)\n",
        "A_pinv = np.linalg.pinv(A)\n",
        "A_h = A + deltaA\n",
        "A_h_pinv = np.linalg.pinv(A_h)\n",
        "delta_A1_inv = np.linalg.norm(A_h_pinv - A_pinv) / np.linalg.norm(A_pinv)\n",
        "\n",
        "right_side = (cond_2 * delta_A) / (1 - cond_2 * delta_A)\n",
        "is_valid = delta_A1_inv <= right_side\n",
        "\n",
        "print(\"Левая часть:\", delta_A1_inv)\n",
        "print(\"Правая часть:\", right_side)\n",
        "print(\"Выполнение неравенства:\", \"Верно\" if is_valid else \"Неверно\")\n"
      ]
    },
    {
      "cell_type": "markdown",
      "metadata": {
        "id": "iXAMsPy2PdMF"
      },
      "source": [
        "## Задание 5 Итерационные методы решения СЛАУ.\n",
        "Написать функцию, решающую СЛАУ методом верхней релаксации (с выбором оптимального значения $\\tau$). По умолчанию точность 0.01. \n",
        "Решить с помощью этой функции СЛАУ из файла Problem5lab2vxx.xlsx (на листе matrix матрица левой части, на листе b - вектор правой части)."
      ]
    },
    {
      "cell_type": "code",
      "execution_count": 62,
      "metadata": {
        "id": "OlkxOQmlTnbN"
      },
      "outputs": [
        {
          "name": "stdout",
          "output_type": "stream",
          "text": [
            "[  174.           -28.0625        -2.75520833  -173.20543981\n",
            "   199.88015572  -348.45261644   565.93227998  -907.40915187\n",
            "   247.66664309   737.06571724   514.53434761 -2307.77693816\n",
            "  1672.43972558  -744.38122523   637.24927738   804.44625069\n",
            "   247.02748988  -464.24114644 -1108.17296638  -290.88847957]\n"
          ]
        }
      ],
      "source": [
        "def solve(A, b, tul=0.01, max_iterations=10000):\n",
        "    n = len(b); x = np.zeros(n); x_prev = np.zeros(n); k = 0; omega = 1\n",
        "    res = np.inf\n",
        "    while (res > tul) and (k < max_iterations):\n",
        "        x_prev = np.copy(x)\n",
        "        for i in range(n):\n",
        "            sigma = 0\n",
        "            for j in range(n):\n",
        "                if j != i:\n",
        "                    sigma += A[i][j] * x[j]\n",
        "            x[i] = (1 - omega) * x_prev[i] + (omega / A[i][i]) * (b[i] - sigma)\n",
        "        res = np.linalg.norm(x@A - b)\n",
        "        temp = 1 - (res / tul) ** (1 / (k + 1))\n",
        "        if temp < 0:\n",
        "            omega = 0\n",
        "        else:\n",
        "            omega = 2 / (1 + np.sqrt(temp))\n",
        "        k += 1    \n",
        "    return x\n",
        "\n",
        "A = pd.read_excel(\"Problem5lab2v15.xlsx\", sheet_name=\"A5\").to_numpy()\n",
        "b = pd.read_excel(\"Problem5lab2v15.xlsx\", sheet_name=\"b5\").to_numpy()\n",
        "\n",
        "solution = solve(A, b)\n",
        "\n",
        "print(solution)"
      ]
    },
    {
      "cell_type": "markdown",
      "metadata": {
        "id": "sbLXJaFN4oC1"
      },
      "source": [
        "## Задание 6 Теорема Фробениуса-Перрона.\n",
        "\n",
        "Для графа из файла Problem6lab2vxx.jpg построить и вывести на экран матрицу смежности. Найти и вывести на экран модули всех собственных значений матрицы смежности, максимальное по модулю собственное значение матрицы смежности и соответствующий (положительный!) единичный собственный вектор (норма 2).\n",
        "\n",
        "Проверить, что модули остальных собственных значений меньше."
      ]
    },
    {
      "cell_type": "code",
      "execution_count": 63,
      "metadata": {
        "id": "VQMZNF7lToqk"
      },
      "outputs": [
        {
          "name": "stdout",
          "output_type": "stream",
          "text": [
            "Модули собственных значений:\n",
            "22283282167.47199\n",
            "13604093365.630463\n",
            "1858853456.7813709\n",
            "17746228990.455246\n",
            "9999999998.175665\n",
            "10000000001.252903\n",
            "\n",
            "Максимальное по модулю собственное значение: 22283282167.47199\n",
            "\n",
            "Единичный собственный вектор:\n",
            "[0.09008014 0.59524854 0.20072813 0.48460056 0.357208   0.48460056]\n",
            "\n",
            "Проверка: True\n"
          ]
        }
      ],
      "source": [
        "A = np.array([[0, 3, np.inf, 2, 8, 3],\n",
        "              [3, 0, 6, np.inf, np.inf, np.inf],\n",
        "              [np.inf, 6, 0, 4, np.inf, 9],\n",
        "              [2, np.inf, 4, 0, 5, np.inf],\n",
        "              [8, np.inf, np.inf, 5, 0, 3],\n",
        "              [3, np.inf, 9, np.inf, 3, 0]])\n",
        "A[np.isinf(A)] = 1e10\n",
        "eigs, eigenvectors = np.linalg.eig(A)\n",
        "abs_eigs = np.abs(eigs)\n",
        "\n",
        "print(\"Модули собственных значений:\")\n",
        "for value in abs_eigs:\n",
        "    print(value)\n",
        "\n",
        "max_abs_eig = np.max(abs_eigs)\n",
        "print(\"\\nМаксимальное по модулю собственное значение:\", np.max(abs_eigs))\n",
        "\n",
        "max_eig_ind = np.argmax(abs_eigs)\n",
        "max_eigenvector = eigenvectors[:, max_eig_ind]\n",
        "positive_eigenvector = max_eigenvector / np.linalg.norm(max_eigenvector, 2)\n",
        "\n",
        "print(\"\\nЕдиничный собственный вектор:\")\n",
        "print(positive_eigenvector)\n",
        "\n",
        "other_eigs = np.delete(abs_eigs, max_eig_ind)\n",
        "print(\"\\nПроверка:\", np.all(other_eigs < max_abs_eig))\n",
        "\n"
      ]
    },
    {
      "cell_type": "markdown",
      "metadata": {
        "id": "NVfw1t_IP7Wx"
      },
      "source": [
        "## Задание 7.\n",
        "Найти самую влиятельную вершину в графе, заданном матрицей смежности из файла Problem7lab2vxx.xlsx"
      ]
    },
    {
      "cell_type": "code",
      "execution_count": 64,
      "metadata": {
        "id": "KLyez_T_Tqdc"
      },
      "outputs": [
        {
          "name": "stdout",
          "output_type": "stream",
          "text": [
            "3\n"
          ]
        }
      ],
      "source": [
        "A = pd.read_excel('Problem7lab2v15.xlsx').to_numpy()\n",
        "\n",
        "column_sums = np.sum(A, axis=0)\n",
        "most_influential_vertex = np.argmax(column_sums)\n",
        "\n",
        "print(most_influential_vertex)\n"
      ]
    },
    {
      "cell_type": "markdown",
      "metadata": {
        "id": "LaupEA3SPEKY"
      },
      "source": [
        "## Задание 8\n",
        "Описать функцию, которой в качестве обязательного аргумента передается двумерный np.array $A$ с числами  и число $t$ от 0 до 1. Функция возвращает кортеж ($k$, $\\delta$, $A_k$), где  $k$ - ранг $A_k$, $\\delta= ||A - A_k||_2$, $A_k$ - приближение $A$ ранга $k$. Ранг $k$ функция подбирает из условия $\\delta \\le t||A||_2$.\n",
        "\n",
        "Вызвать функцию с матрицами Заданий 1, 5, 6 и 7 при $t=0.25$, вывести на экран на отдельных строках  ранг $A_k$ и $\\delta$."
      ]
    },
    {
      "cell_type": "code",
      "execution_count": 65,
      "metadata": {
        "id": "8cHSsFfBTryE"
      },
      "outputs": [
        {
          "name": "stdout",
          "output_type": "stream",
          "text": [
            "Ранг A{i}: 5\n",
            "Дельта: 11.701859461456035\n",
            "Ранг A{i}: 0\n",
            "Дельта: inf\n",
            "Ранг A{i}: 1\n",
            "Дельта: 1858853456.7813716\n",
            "Ранг A{i}: 1\n",
            "Дельта: 0.15140555532261923\n"
          ]
        }
      ],
      "source": [
        "\n",
        "def rank_approximation(A, t):\n",
        "    U, S, V_ = np.linalg.svd(A);norm_A = np.linalg.norm(A, 2);k = 0\n",
        "    delta = np.inf; A_k = None\n",
        "    for i in range(len(S)):\n",
        "        current_delta = np.linalg.norm(S[i:])\n",
        "        if current_delta <= t * norm_A:\n",
        "            k = len(S[i:])\n",
        "            delta = current_delta\n",
        "            A_k = np.dot(U[:, :k] * S[:k], V_[:k, :])\n",
        "            break\n",
        "\n",
        "    return k, delta, A_k\n",
        "\n",
        "t = 0.25\n",
        "A1 = pd.read_excel(\"Problem1lab2v15.xlsx\").to_numpy()\n",
        "A5 = pd.read_excel(\"Problem5lab2v15.xlsx\", sheet_name=\"A5\").to_numpy()\n",
        "A6 = np.array([[0, 3, np.inf, 2, 8, 3],\n",
        "              [3, 0, 6, np.inf, np.inf, np.inf],\n",
        "              [np.inf, 6, 0, 4, np.inf, 9],\n",
        "              [2, np.inf, 4, 0, 5, np.inf],\n",
        "              [8, np.inf, np.inf, 5, 0, 3],\n",
        "              [3, np.inf, 9, np.inf, 3, 0]])\n",
        "A6[np.isinf(A6)] = 1e10\n",
        "A7 = pd.read_excel('Problem7lab2v15.xlsx').to_numpy()\n",
        "\n",
        "for i, A in enumerate([A1, A5, A6, A7], start=1):\n",
        "    k, delta, A_k = rank_approximation(A, t)\n",
        "    print(\"Ранг A{i}:\", k)\n",
        "    print(\"Дельта:\", delta)"
      ]
    },
    {
      "cell_type": "markdown",
      "metadata": {
        "id": "XsuPckmIQ5zQ"
      },
      "source": [
        "### Задание  9.\n",
        "Построить  QR разложение и жорданову форму для матрицы из файла \"Problem9lab2vxx.xlsx\",\n",
        "показать, что $A = QR$."
      ]
    },
    {
      "cell_type": "code",
      "execution_count": null,
      "metadata": {
        "id": "8sn4tN09TtO9"
      },
      "outputs": [],
      "source": []
    }
  ],
  "metadata": {
    "colab": {
      "provenance": []
    },
    "kernelspec": {
      "display_name": "Python 3",
      "language": "python",
      "name": "python3"
    },
    "language_info": {
      "codemirror_mode": {
        "name": "ipython",
        "version": 3
      },
      "file_extension": ".py",
      "mimetype": "text/x-python",
      "name": "python",
      "nbconvert_exporter": "python",
      "pygments_lexer": "ipython3",
      "version": "3.11.3"
    }
  },
  "nbformat": 4,
  "nbformat_minor": 0
}
