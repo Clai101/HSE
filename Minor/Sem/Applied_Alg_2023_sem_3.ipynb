{
  "cells": [
    {
      "cell_type": "markdown",
      "metadata": {
        "id": "uTLSJMWAIOlD"
      },
      "source": [
        "# Занятие 3\n",
        "# Прикладная алгебра и численные методы\n",
        "## Сингулярное разложение (SVD), линейная регрессия\n",
        "https://numpy.org/doc/stable/reference/generated/numpy.linalg.svd.html#numpy.linalg.svd"
      ]
    },
    {
      "cell_type": "code",
      "execution_count": 22,
      "metadata": {
        "id": "A5D7jjwQIOlL"
      },
      "outputs": [],
      "source": [
        "import numpy as np\n",
        "import scipy.linalg\n",
        "import sympy\n",
        "from sympy import latex\n",
        "import matplotlib.pyplot as plt\n",
        "from IPython.display import display, Latex"
      ]
    },
    {
      "cell_type": "markdown",
      "metadata": {
        "id": "a9jCEUNNIOlN"
      },
      "source": [
        "## Сингулярное разложение (SVD)\n",
        "$$\n",
        "A = Q\\Sigma P^*, \\quad A_{m\\times n},\\ Q_{m\\times m}, \\ \\Sigma_{m\\times n}, \\ P_{n\\times n},\n",
        "$$\n",
        "$Q$, $P$ - ортогональные матрицы, $\\Sigma$ - диагональная, на диагонали сингулярные числа.\n",
        "\n",
        "\n",
        "## Пример 1\n",
        "Найти SVD\n",
        "$$\n",
        "\\left(\n",
        "\\begin{matrix}\n",
        "1 & 0 & 0 & 1\\\\\n",
        "0 & 1 & 0 & 1\\\\\n",
        "0 & 0 & 1 & 1\n",
        "\\end{matrix}\n",
        "\\right)\n",
        "$$\n",
        "Вначале вычислим $A^*A$:"
      ]
    },
    {
      "cell_type": "code",
      "execution_count": 5,
      "metadata": {
        "colab": {
          "base_uri": "https://localhost:8080/",
          "height": 99
        },
        "id": "rgVQdP0VIOlO",
        "outputId": "05e8bf57-c905-4d12-f1fa-1cab44d4f0c1"
      },
      "outputs": [
        {
          "output_type": "display_data",
          "data": {
            "text/plain": [
              "<IPython.core.display.Latex object>"
            ],
            "text/latex": "A^*A = \\left[\\begin{matrix}1 & 0 & 0 & 1\\\\0 & 1 & 0 & 1\\\\0 & 0 & 1 & 1\\\\1 & 1 & 1 & 3\\end{matrix}\\right]"
          },
          "metadata": {}
        }
      ],
      "source": [
        "A = sympy.Matrix([[1, 0, 0, 1],\n",
        "                  [0, 1, 0, 1],\n",
        "                  [0, 0, 1, 1]])\n",
        "A_star_A = A.T * A\n",
        "display(Latex(f'A^*A = {latex(A_star_A)}'))"
      ]
    },
    {
      "cell_type": "markdown",
      "metadata": {
        "id": "jsChlR0TIOlO"
      },
      "source": [
        "Получим собственные числа и собственные векторы с помощью eigenvects(), нормализуем векторы (чтобы норма была равна единице) методом normalized()"
      ]
    },
    {
      "cell_type": "code",
      "source": [
        "A_star_A_sympy_ev = A_star_A.eigenvects()\n",
        "display(Latex(f'Собственные\\ векторы\\ с\\ \\\n",
        "собственными\\ числами\\ {latex(A_star_A_sympy_ev)}'))\n",
        "A_star_A_sympy_eigenvalues = [num for num, mult, vectors in A_star_A_sympy_ev]\n",
        "A_star_A_sympy_eigenvectors = [[vector.normalized() for vector in vectors]\\\n",
        "                               for num, mult, vectors in A_star_A_sympy_ev]\n",
        "display(Latex(f'Собственные\\ числа\\ {latex(A_star_A_sympy_eigenvalues)}'),\n",
        "        Latex(f'Нормализованные\\ собственные\\ \\\n",
        "        векторы\\ {latex(A_star_A_sympy_eigenvectors)}'))"
      ],
      "metadata": {
        "colab": {
          "base_uri": "https://localhost:8080/",
          "height": 214
        },
        "id": "f9BlKf01rM2y",
        "outputId": "0213175f-4a12-4b77-d586-ff78aa317d40"
      },
      "execution_count": 31,
      "outputs": [
        {
          "output_type": "display_data",
          "data": {
            "text/plain": [
              "<IPython.core.display.Latex object>"
            ],
            "text/latex": "Собственные\\ векторы\\ с\\ собственными\\ числами\\ \\left[ \\left( 0, \\  1, \\  \\left[ \\left[\\begin{matrix}-1\\\\-1\\\\-1\\\\1\\end{matrix}\\right]\\right]\\right), \\  \\left( 1, \\  2, \\  \\left[ \\left[\\begin{matrix}-1\\\\1\\\\0\\\\0\\end{matrix}\\right], \\  \\left[\\begin{matrix}-1\\\\0\\\\1\\\\0\\end{matrix}\\right]\\right]\\right), \\  \\left( 4, \\  1, \\  \\left[ \\left[\\begin{matrix}\\frac{1}{3}\\\\\\frac{1}{3}\\\\\\frac{1}{3}\\\\1\\end{matrix}\\right]\\right]\\right)\\right]"
          },
          "metadata": {}
        },
        {
          "output_type": "display_data",
          "data": {
            "text/plain": [
              "<IPython.core.display.Latex object>"
            ],
            "text/latex": "Собственные\\ числа\\ \\left[ 0, \\  1, \\  4\\right]"
          },
          "metadata": {}
        },
        {
          "output_type": "display_data",
          "data": {
            "text/plain": [
              "<IPython.core.display.Latex object>"
            ],
            "text/latex": "Нормализованные\\ собственные\\         векторы\\ \\left[ \\left[ \\left[\\begin{matrix}- \\frac{1}{2}\\\\- \\frac{1}{2}\\\\- \\frac{1}{2}\\\\\\frac{1}{2}\\end{matrix}\\right]\\right], \\  \\left[ \\left[\\begin{matrix}- \\frac{\\sqrt{2}}{2}\\\\\\frac{\\sqrt{2}}{2}\\\\0\\\\0\\end{matrix}\\right], \\  \\left[\\begin{matrix}- \\frac{\\sqrt{2}}{2}\\\\0\\\\\\frac{\\sqrt{2}}{2}\\\\0\\end{matrix}\\right]\\right], \\  \\left[ \\left[\\begin{matrix}\\frac{\\sqrt{3}}{6}\\\\\\frac{\\sqrt{3}}{6}\\\\\\frac{\\sqrt{3}}{6}\\\\\\frac{\\sqrt{3}}{2}\\end{matrix}\\right]\\right]\\right]"
          },
          "metadata": {}
        }
      ]
    },
    {
      "cell_type": "markdown",
      "metadata": {
        "id": "gn78ySRiIOlQ"
      },
      "source": [
        "Выделим собственные векторы, обозначим их e0, e11, e12, e4, они соответствуют собственным значеним 0, 1, 1 и 4."
      ]
    },
    {
      "cell_type": "code",
      "source": [
        "e0, e1, e4 = A_star_A_sympy_eigenvectors\n",
        "e11, e12 = e1\n",
        "e0, = e0\n",
        "e4, = e4\n",
        "display(Latex('e0 = {}, e11 = {}, e12 = {}, e4 = {}'.format(*map(latex, (e0, e11, e12, e4)))))"
      ],
      "metadata": {
        "colab": {
          "base_uri": "https://localhost:8080/",
          "height": 112
        },
        "id": "LV4ecsYAtpzS",
        "outputId": "bb7b4273-8d2d-4031-d7b7-a32316f01aba"
      },
      "execution_count": 32,
      "outputs": [
        {
          "output_type": "display_data",
          "data": {
            "text/plain": [
              "<IPython.core.display.Latex object>"
            ],
            "text/latex": "e0 = \\left[\\begin{matrix}- \\frac{1}{2}\\\\- \\frac{1}{2}\\\\- \\frac{1}{2}\\\\\\frac{1}{2}\\end{matrix}\\right], e11 = \\left[\\begin{matrix}- \\frac{\\sqrt{2}}{2}\\\\\\frac{\\sqrt{2}}{2}\\\\0\\\\0\\end{matrix}\\right], e12 = \\left[\\begin{matrix}- \\frac{\\sqrt{2}}{2}\\\\0\\\\\\frac{\\sqrt{2}}{2}\\\\0\\end{matrix}\\right], e4 = \\left[\\begin{matrix}\\frac{\\sqrt{3}}{6}\\\\\\frac{\\sqrt{3}}{6}\\\\\\frac{\\sqrt{3}}{6}\\\\\\frac{\\sqrt{3}}{2}\\end{matrix}\\right]"
          },
          "metadata": {}
        }
      ]
    },
    {
      "cell_type": "markdown",
      "source": [
        "К двум векторам, соответствующим собственному значению 1 применим процесс ортогонализации Грама-Шмидта \n",
        "$$\n",
        "\\begin{matrix}\n",
        "e_1^{new} = e_1\\\\\n",
        "e_2^{new} = e_2 - \\frac{(e_1, e_2)}{(e_1, e_1)}e_1\n",
        "\\end{matrix}\n",
        "$$\n",
        "Полученный ортогональный вектор нормализуем, проверим ортогональность с помощью скалярного произведения:"
      ],
      "metadata": {
        "id": "8Fq6qfiXuH_Q"
      }
    },
    {
      "cell_type": "code",
      "execution_count": 33,
      "metadata": {
        "colab": {
          "base_uri": "https://localhost:8080/",
          "height": 112
        },
        "id": "0BMNhHY-IOlR",
        "outputId": "1fd8e6c7-c1c0-448c-c736-b8ea023f6e72"
      },
      "outputs": [
        {
          "output_type": "display_data",
          "data": {
            "text/plain": [
              "<IPython.core.display.Latex object>"
            ],
            "text/latex": "e11 = \\left[\\begin{matrix}- \\frac{\\sqrt{2}}{2}\\\\\\frac{\\sqrt{2}}{2}\\\\0\\\\0\\end{matrix}\\right],\\ e12 = \\left[\\begin{matrix}- \\frac{\\sqrt{6}}{6}\\\\- \\frac{\\sqrt{6}}{6}\\\\\\frac{\\sqrt{6}}{3}\\\\0\\end{matrix}\\right],\\ e11\\cdot e12 = 0,\\ P = \\left[\\begin{matrix}\\frac{\\sqrt{3}}{6} & - \\frac{\\sqrt{2}}{2} & - \\frac{\\sqrt{6}}{6} & - \\frac{1}{2}\\\\\\frac{\\sqrt{3}}{6} & \\frac{\\sqrt{2}}{2} & - \\frac{\\sqrt{6}}{6} & - \\frac{1}{2}\\\\\\frac{\\sqrt{3}}{6} & 0 & \\frac{\\sqrt{6}}{3} & - \\frac{1}{2}\\\\\\frac{\\sqrt{3}}{2} & 0 & 0 & \\frac{1}{2}\\end{matrix}\\right]"
          },
          "metadata": {}
        }
      ],
      "source": [
        "e120 = e12  # копия вектора e12 для альтернативной ортогонализации\n",
        "e12 = (e12 - e11.dot(e12) * e11).normalized()\n",
        "P = e4.row_join(e11).row_join(e12).row_join(e0)\n",
        "display(Latex(f'e11 = {latex(e11)},\\ e12 = {latex(e12)},\\ e11\\cdot e12 = {latex(e11.dot(e12))},\\ P = {latex(P)}'))"
      ]
    },
    {
      "cell_type": "markdown",
      "source": [
        "Для автоматической ортогонализации с возможностью нормирования в sympy реализована функция **GramSchmidt (sympy.matrices.dense.GramSchmidt)**. Аргументы этой функции - список векторов, подлежащих ортогонализации (в виде матриц Matrix) и необязательный параметр **orthonormal** (по умолчанию False). Покажем результат работы этой функции:"
      ],
      "metadata": {
        "id": "DxU_8OL5BUnK"
      }
    },
    {
      "cell_type": "code",
      "source": [
        "e11, e12 = sympy.matrices.dense.GramSchmidt([e11, e120], orthonormal=True)\n",
        "display(Latex(f'e120 = {latex(e120)},\\ e11 = {latex(e11)},\\ \\\n",
        "e12 = {latex(e12)},\\ e11\\cdot e12 = {latex(e11.dot(e12))},\\ P = {latex(P)}'))"
      ],
      "metadata": {
        "colab": {
          "base_uri": "https://localhost:8080/",
          "height": 112
        },
        "id": "Zn6zrL9ZAZPL",
        "outputId": "8ae4e47b-75ae-4620-c809-5286cc930029"
      },
      "execution_count": 35,
      "outputs": [
        {
          "output_type": "display_data",
          "data": {
            "text/plain": [
              "<IPython.core.display.Latex object>"
            ],
            "text/latex": "e120 = \\left[\\begin{matrix}- \\frac{\\sqrt{2}}{2}\\\\0\\\\\\frac{\\sqrt{2}}{2}\\\\0\\end{matrix}\\right],\\ e11 = \\left[\\begin{matrix}- \\frac{\\sqrt{2}}{2}\\\\\\frac{\\sqrt{2}}{2}\\\\0\\\\0\\end{matrix}\\right],\\ e12 = \\left[\\begin{matrix}- \\frac{\\sqrt{6}}{6}\\\\- \\frac{\\sqrt{6}}{6}\\\\\\frac{\\sqrt{6}}{3}\\\\0\\end{matrix}\\right],\\ e11\\cdot e12 = 0,\\ P = \\left[\\begin{matrix}\\frac{\\sqrt{3}}{6} & - \\frac{\\sqrt{2}}{2} & - \\frac{\\sqrt{6}}{6} & - \\frac{1}{2}\\\\\\frac{\\sqrt{3}}{6} & \\frac{\\sqrt{2}}{2} & - \\frac{\\sqrt{6}}{6} & - \\frac{1}{2}\\\\\\frac{\\sqrt{3}}{6} & 0 & \\frac{\\sqrt{6}}{3} & - \\frac{1}{2}\\\\\\frac{\\sqrt{3}}{2} & 0 & 0 & \\frac{1}{2}\\end{matrix}\\right]"
          },
          "metadata": {}
        }
      ]
    },
    {
      "cell_type": "markdown",
      "metadata": {
        "id": "bR4XUxslIOlS"
      },
      "source": [
        "Построим векторы-столбцы матрицы $Q$ и проверим, что найдено разложение SVD для исходной матрицы:"
      ]
    },
    {
      "cell_type": "code",
      "execution_count": 47,
      "metadata": {
        "colab": {
          "base_uri": "https://localhost:8080/",
          "height": 112
        },
        "id": "AHu6uYs5IOlT",
        "outputId": "03e9a4fe-be5d-4a2a-90ed-d31364f649be"
      },
      "outputs": [
        {
          "output_type": "display_data",
          "data": {
            "text/plain": [
              "<IPython.core.display.Latex object>"
            ],
            "text/latex": "Q = \\left[\\begin{matrix}\\frac{\\sqrt{3}}{3} & - \\frac{\\sqrt{2}}{2} & - \\frac{\\sqrt{6}}{6}\\\\\\frac{\\sqrt{3}}{3} & \\frac{\\sqrt{2}}{2} & - \\frac{\\sqrt{6}}{6}\\\\\\frac{\\sqrt{3}}{3} & 0 & \\frac{\\sqrt{6}}{3}\\end{matrix}\\right], Sig = \\left[\\begin{matrix}2 & 0 & 0 & 0\\\\0 & 1 & 0 & 0\\\\0 & 0 & 1 & 0\\end{matrix}\\right], P = \\left[\\begin{matrix}\\frac{\\sqrt{3}}{6} & - \\frac{\\sqrt{2}}{2} & - \\frac{\\sqrt{6}}{6} & - \\frac{1}{2}\\\\\\frac{\\sqrt{3}}{6} & \\frac{\\sqrt{2}}{2} & - \\frac{\\sqrt{6}}{6} & - \\frac{1}{2}\\\\\\frac{\\sqrt{3}}{6} & 0 & \\frac{\\sqrt{6}}{3} & - \\frac{1}{2}\\\\\\frac{\\sqrt{3}}{2} & 0 & 0 & \\frac{1}{2}\\end{matrix}\\right], Q  Sig  P^T =\\left[\\begin{matrix}1 & 0 & 0 & 1\\\\0 & 1 & 0 & 1\\\\0 & 0 & 1 & 1\\end{matrix}\\right]"
          },
          "metadata": {}
        }
      ],
      "source": [
        "sigma = (2, 1, 1)\n",
        "f1, f2, f3 = [A * ei / sigma[i] for i, ei in enumerate((e4, e11, e12))]\n",
        "Q = f1.row_join(f2).row_join(f3)\n",
        "Sig = sympy.Matrix([[2, 0, 0, 0], [0, 1, 0, 0], [0, 0, 1, 0]])\n",
        "display(Latex('Q = {}, Sig = {}, \\\n",
        "P = {}, Q  Sig  P^T =\\\n",
        "{}'.format(*map(latex, (Q, Sig, P, Q * Sig * P.T)))))"
      ]
    },
    {
      "cell_type": "code",
      "source": [
        "display(Latex('Q = {}, Sig = {}, P = {}, Q  Sig  P^T = {}\\\n",
        "'.format(*[latex(item.evalf(3)) for item in (Q, Sig, P, Q * Sig * P.T)])))"
      ],
      "metadata": {
        "colab": {
          "base_uri": "https://localhost:8080/",
          "height": 99
        },
        "id": "s9ZxWNySMh2p",
        "outputId": "ba25757f-cd2d-4ebb-cbda-5894e1b7f140"
      },
      "execution_count": 48,
      "outputs": [
        {
          "output_type": "display_data",
          "data": {
            "text/plain": [
              "<IPython.core.display.Latex object>"
            ],
            "text/latex": "Q = \\left[\\begin{matrix}0.577 & -0.707 & -0.408\\\\0.577 & 0.707 & -0.408\\\\0.577 & 0 & 0.817\\end{matrix}\\right], Sig = \\left[\\begin{matrix}2.0 & 0 & 0 & 0\\\\0 & 1.0 & 0 & 0\\\\0 & 0 & 1.0 & 0\\end{matrix}\\right], P = \\left[\\begin{matrix}0.289 & -0.707 & -0.408 & -0.5\\\\0.289 & 0.707 & -0.408 & -0.5\\\\0.289 & 0 & 0.817 & -0.5\\\\0.866 & 0 & 0 & 0.5\\end{matrix}\\right], Q  Sig  P^T = \\left[\\begin{matrix}1.0 & 0 & 0 & 1.0\\\\0 & 1.0 & 0 & 1.0\\\\0 & 0 & 1.0 & 1.0\\end{matrix}\\right]"
          },
          "metadata": {}
        }
      ]
    },
    {
      "cell_type": "markdown",
      "metadata": {
        "id": "RblcGbdoIOlT"
      },
      "source": [
        "**Теперь то же самое, но с numpy** \n",
        "\n",
        "Вычислим $A^*A$:"
      ]
    },
    {
      "cell_type": "code",
      "execution_count": 50,
      "metadata": {
        "colab": {
          "base_uri": "https://localhost:8080/",
          "height": 112
        },
        "id": "h6AT6HBiIOlU",
        "outputId": "649832db-22b3-4a60-cad2-7ac95df86f1d"
      },
      "outputs": [
        {
          "output_type": "display_data",
          "data": {
            "text/plain": [
              "<IPython.core.display.Latex object>"
            ],
            "text/latex": "A^*A = \\mathtt{\\text{[[1 0 0 1]\n [0 1 0 1]\n [0 0 1 1]\n [1 1 1 3]]}}"
          },
          "metadata": {}
        },
        {
          "output_type": "display_data",
          "data": {
            "text/plain": [
              "array([[1, 0, 0, 1],\n",
              "       [0, 1, 0, 1],\n",
              "       [0, 0, 1, 1],\n",
              "       [1, 1, 1, 3]])"
            ]
          },
          "metadata": {}
        }
      ],
      "source": [
        "A = np.array([[1, 0, 0, 1],\n",
        "              [0, 1, 0, 1],\n",
        "              [0, 0, 1, 1]])\n",
        "A_star_A = A.T @ A\n",
        "display(Latex(f'A^*A = {latex(A_star_A)}'),\n",
        "        A_star_A)"
      ]
    },
    {
      "cell_type": "markdown",
      "metadata": {
        "id": "8_m5CT-hIOlU"
      },
      "source": [
        "Найдем собственные числа и собственные векторы полученной матрицы:"
      ]
    },
    {
      "cell_type": "code",
      "execution_count": 70,
      "metadata": {
        "colab": {
          "base_uri": "https://localhost:8080/"
        },
        "id": "FfWx5f7kIOlV",
        "outputId": "20dfd5b8-6baa-4bc6-c413-92da3b079d50"
      },
      "outputs": [
        {
          "output_type": "stream",
          "name": "stdout",
          "text": [
            "Собственные числа [ 4. -0.  1.  1.],\n",
            "собственные\\ векторы \n",
            "[[ 0.29  0.5  -0.82 -0.41]\n",
            " [ 0.29  0.5   0.41 -0.41]\n",
            " [ 0.29  0.5   0.41  0.82]\n",
            " [ 0.87 -0.5   0.    0.  ]]\n"
          ]
        }
      ],
      "source": [
        "A_star_A_eigen_vals, A_star_A_eigen_vects = np.linalg.eig(A_star_A)\n",
        "print('Собственные числа \\\n",
        "{},\\nсобственные\\ векторы \\n\\\n",
        "{}'.format(A_star_A_eigen_vals.round(2), A_star_A_eigen_vects.round(2)))"
      ]
    },
    {
      "cell_type": "markdown",
      "metadata": {
        "id": "m72Aj0YBIOlV"
      },
      "source": [
        "Расположим сингулярные числа (квадратные корни из полученных собственных чисел) по убыванию, для этого сначала отсортируем их с помощью sort() по возрастанию, а затем запишем array в обратном порядке с помощью flip():"
      ]
    },
    {
      "cell_type": "code",
      "execution_count": 64,
      "metadata": {
        "colab": {
          "base_uri": "https://localhost:8080/",
          "height": 54
        },
        "id": "CwnZYMfZIOlW",
        "outputId": "4cccc676-dc4d-40dd-b09c-f9ea6c6bb93b"
      },
      "outputs": [
        {
          "output_type": "display_data",
          "data": {
            "text/plain": [
              "array([-0.,  1.,  1.,  4.])"
            ]
          },
          "metadata": {}
        },
        {
          "output_type": "display_data",
          "data": {
            "text/plain": [
              "array([ 4.,  1.,  1., -0.])"
            ]
          },
          "metadata": {}
        }
      ],
      "source": [
        "A_star_A_eigen_vals.sort()\n",
        "A_star_A_eigen_vals_reversed = np.flip(A_star_A_eigen_vals)\n",
        "display(A_star_A_eigen_vals.round(2), A_star_A_eigen_vals_reversed.round(2))"
      ]
    },
    {
      "cell_type": "markdown",
      "metadata": {
        "id": "r83PQuLxIOlW"
      },
      "source": [
        "Обратите внимание, что .sort() изменяет array на месте, а flip() возвращает view записанного в обратном порядке array, не изменяя его.\n",
        "## !!! \n",
        "По сути, мы получаем указатель на конец нашего array, так что все действия, которые мы проделаем с элементами A_star_A_eigen_vals_reversed автоматически распространятся на A_star_A_eigen_vals, поскольку это не два разных array, а один, только номера элементов считаются по-разному:"
      ]
    },
    {
      "cell_type": "code",
      "execution_count": 65,
      "metadata": {
        "colab": {
          "base_uri": "https://localhost:8080/",
          "height": 91
        },
        "id": "x2jfC6fyIOlX",
        "outputId": "7a67f02f-25ca-4c5b-d377-62986dc482ba"
      },
      "outputs": [
        {
          "output_type": "display_data",
          "data": {
            "text/plain": [
              "array([9, 2, 3, 4])"
            ]
          },
          "metadata": {}
        },
        {
          "output_type": "display_data",
          "data": {
            "text/plain": [
              "array([4, 3, 2, 9])"
            ]
          },
          "metadata": {}
        },
        {
          "output_type": "display_data",
          "data": {
            "text/plain": [
              "array([9, 8, 3, 4])"
            ]
          },
          "metadata": {}
        },
        {
          "output_type": "display_data",
          "data": {
            "text/plain": [
              "array([4, 3, 8, 9])"
            ]
          },
          "metadata": {}
        }
      ],
      "source": [
        "arr1 = np.array([1, 2, 3, 4])\n",
        "arr1_reversed = np.flip(arr1)\n",
        "arr1[0] = 9\n",
        "display(arr1, arr1_reversed)\n",
        "arr1_reversed[-2] = 8\n",
        "display(arr1, arr1_reversed)"
      ]
    },
    {
      "cell_type": "markdown",
      "metadata": {
        "id": "7q6zwRMiIOlX"
      },
      "source": [
        "Поскольку нам достаточно работать с A_star_A_eigen_vals_reversed, не будем делать deepcopy(), чтобы сохратить в неприкосновенности A_star_A_eigen_vals.\n",
        "\n",
        "Осталось извлечь квадратные корни из положительных элементов A_star_A_eigen_vals_reversed, и получим невозрастающую последовательность сингулярных значений."
      ]
    },
    {
      "cell_type": "code",
      "execution_count": 66,
      "metadata": {
        "colab": {
          "base_uri": "https://localhost:8080/"
        },
        "id": "67JxE5wzIOlY",
        "outputId": "767ada9a-375b-4bee-be59-18e6f7192138"
      },
      "outputs": [
        {
          "output_type": "execute_result",
          "data": {
            "text/plain": [
              "[2.0, 1.0, 1.0]"
            ]
          },
          "metadata": {},
          "execution_count": 66
        }
      ],
      "source": [
        "sigmas = [round(np.sqrt(item), 1) for item in A_star_A_eigen_vals_reversed if item > 0]\n",
        "sigmas"
      ]
    },
    {
      "cell_type": "markdown",
      "metadata": {
        "id": "VUD9UKmfIOlY"
      },
      "source": [
        "Составим матрицу $\\Sigma$:"
      ]
    },
    {
      "cell_type": "code",
      "execution_count": 67,
      "metadata": {
        "colab": {
          "base_uri": "https://localhost:8080/"
        },
        "id": "l3QZqO4dIOlY",
        "outputId": "41e7eac5-c091-4812-890c-7a1e3293fe72"
      },
      "outputs": [
        {
          "output_type": "execute_result",
          "data": {
            "text/plain": [
              "array([[2., 0., 0., 0.],\n",
              "       [0., 1., 0., 0.],\n",
              "       [0., 0., 1., 0.]])"
            ]
          },
          "metadata": {},
          "execution_count": 67
        }
      ],
      "source": [
        "Sigma = np.hstack((np.diag(sigmas), np.zeros((3, 1))))\n",
        "Sigma"
      ]
    },
    {
      "cell_type": "markdown",
      "metadata": {
        "id": "AxqtYQr3IOlZ"
      },
      "source": [
        "Обратимся к полученным вместе с собственными числами собственным векторам:"
      ]
    },
    {
      "cell_type": "code",
      "execution_count": 72,
      "metadata": {
        "colab": {
          "base_uri": "https://localhost:8080/"
        },
        "id": "Z4BIEJ3aIOlZ",
        "outputId": "727f2c8c-8674-473d-93fa-34d351a3604a"
      },
      "outputs": [
        {
          "output_type": "stream",
          "name": "stdout",
          "text": [
            "[ 0.29  0.5  -0.82 -0.41]\n",
            "[ 0.29  0.5   0.41 -0.41]\n",
            "[0.29 0.5  0.41 0.82]\n",
            "[ 0.87 -0.5   0.    0.  ]\n"
          ]
        }
      ],
      "source": [
        "e4, e0, e11, e12 = [item.reshape((4, 1)) for item in  A_star_A_eigen_vects.T]\n",
        "A_star_A_eigen_vects_new = [e4, e0, e11, e12]\n",
        "print(*[item.round(2).T for item in A_star_A_eigen_vects], sep='\\n')"
      ]
    },
    {
      "cell_type": "markdown",
      "metadata": {
        "id": "56vmdgxzIOlZ"
      },
      "source": [
        "Вычислим нормы полученных векторов и скалярное произведение "
      ]
    },
    {
      "cell_type": "code",
      "execution_count": 76,
      "metadata": {
        "colab": {
          "base_uri": "https://localhost:8080/"
        },
        "id": "PiXyKIASIOlZ",
        "outputId": "f738e471-c59f-4a23-9dd1-102005afddc4"
      },
      "outputs": [
        {
          "output_type": "stream",
          "name": "stdout",
          "text": [
            "Нормы [1.0, 1.0, 1.0, 1.0], скалярное произведение 0.33\n"
          ]
        }
      ],
      "source": [
        "print(f'Нормы {[np.linalg.norm(item).round(2) for item in A_star_A_eigen_vects_new]}, \\\n",
        "скалярное произведение {e11[0].dot(e12[0]).round(2)}')"
      ]
    },
    {
      "cell_type": "markdown",
      "metadata": {
        "id": "SEbY2pDhIOla"
      },
      "source": [
        "Скалярное произведение не равно нулю, занчит, собственные векторы, соответствующие собственному значению 1 не ортогональны.\n",
        "\n",
        "Нужно векторы ортогонализировать, проведем процесс ортогонализации Грама-Шмидта.\n",
        "\n",
        "Сначала заменим e12 на вектор, ортогональный e11, затем нормализуем векторы и составим из них матрицу $P$:"
      ]
    },
    {
      "cell_type": "code",
      "execution_count": 79,
      "metadata": {
        "colab": {
          "base_uri": "https://localhost:8080/",
          "height": 60
        },
        "id": "RB79y6VSIOla",
        "outputId": "298dada4-4f98-4da3-c532-d746a43646c6"
      },
      "outputs": [
        {
          "output_type": "display_data",
          "data": {
            "text/plain": [
              "<IPython.core.display.Latex object>"
            ],
            "text/latex": "(e11, e12new) = -0.0"
          },
          "metadata": {}
        },
        {
          "output_type": "display_data",
          "data": {
            "text/plain": [
              "<IPython.core.display.Latex object>"
            ],
            "text/latex": "P = \\mathtt{\\text{[[ 0.29 -0.82  0.    0.5 ]\n [ 0.29  0.41 -0.71  0.5 ]\n [ 0.29  0.41  0.71  0.5 ]\n [ 0.87  0.    0.   -0.5 ]]}}"
          },
          "metadata": {}
        }
      ],
      "source": [
        "e4, e0, e11, e12 = A_star_A_eigen_vects_new\n",
        "e12 = e12 - (e11[0].dot(e12[0]) / (e11[0].dot(e11[0]))) * e11\n",
        "A_star_A_eigen_vects_new[-1] = e12\n",
        "e4, e0, e11, e12 = [item / np.linalg.norm(item) for item in A_star_A_eigen_vects_new]\n",
        "P = np.hstack((e4, e11, e12, e0))\n",
        "display(Latex(f'(e11, e12new) = {e11[0].dot(e12[0])}'),\n",
        "        Latex(f'P = {latex(P.round(2))}'))"
      ]
    },
    {
      "cell_type": "markdown",
      "metadata": {
        "id": "vT9IOADmIOlb"
      },
      "source": [
        "Составим матрицу $Q$:"
      ]
    },
    {
      "cell_type": "code",
      "execution_count": 80,
      "metadata": {
        "colab": {
          "base_uri": "https://localhost:8080/",
          "height": 257
        },
        "id": "F025Wfe4IOlb",
        "outputId": "d25699ae-3146-4e09-a217-7b48abc5c7e0"
      },
      "outputs": [
        {
          "output_type": "display_data",
          "data": {
            "text/plain": [
              "array([[ 0.57735, -0.8165 ,  0.     ],\n",
              "       [ 0.57735,  0.40825, -0.70711],\n",
              "       [ 0.57735,  0.40825,  0.70711]])"
            ]
          },
          "metadata": {}
        },
        {
          "output_type": "display_data",
          "data": {
            "text/plain": [
              "array([[2., 0., 0., 0.],\n",
              "       [0., 1., 0., 0.],\n",
              "       [0., 0., 1., 0.]])"
            ]
          },
          "metadata": {}
        },
        {
          "output_type": "display_data",
          "data": {
            "text/plain": [
              "array([[ 0.28868, -0.8165 ,  0.     ,  0.5    ],\n",
              "       [ 0.28868,  0.40825, -0.70711,  0.5    ],\n",
              "       [ 0.28868,  0.40825,  0.70711,  0.5    ],\n",
              "       [ 0.86603,  0.     ,  0.     , -0.5    ]])"
            ]
          },
          "metadata": {}
        },
        {
          "output_type": "display_data",
          "data": {
            "text/plain": [
              "array([[ 1.,  0.,  0.,  1.],\n",
              "       [ 0.,  1., -0.,  1.],\n",
              "       [ 0., -0.,  1.,  1.]])"
            ]
          },
          "metadata": {}
        }
      ],
      "source": [
        "sigma = (2, 1, 1)\n",
        "f1, f2, f3 = [A @ ei / sigma[i] for i, ei in enumerate((e4, e11, e12))]\n",
        "Q = np.hstack((f1, f2, f3))\n",
        "Sig = np.hstack((np.diag(sigma), np.zeros((3, 1))))\n",
        "display(*[item.round(5) for item in (Q, Sig, P, Q @ Sig @ P.T)])"
      ]
    },
    {
      "cell_type": "markdown",
      "metadata": {
        "id": "SJiwGTdoIOlb"
      },
      "source": [
        "## Построение псевдообратной матрицы при помощи SVD\n",
        "$$\n",
        "A^+ = P\\Sigma^+Q^*,\\quad \n",
        "\\Sigma^+ =\n",
        "\\left(\n",
        "\\begin{matrix}\n",
        "\\sigma_1^{-1} & ... & ... & ... & ... & 0\\\\\n",
        "0 & \\sigma_1^{-1} & ... & ... & ... & 0\\\\\n",
        "0 & ... & ... & ... & ... & 0\\\\\n",
        "0 & ... & ... & \\sigma_r^{-1}  & ... & 0\\\\\n",
        "0 & ... & ... & ... & ... & 0\\\\\n",
        "\\end{matrix}\n",
        "\\right)\n",
        "$$"
      ]
    },
    {
      "cell_type": "code",
      "execution_count": 87,
      "metadata": {
        "colab": {
          "base_uri": "https://localhost:8080/",
          "height": 81
        },
        "id": "Beur4BsAIOlb",
        "outputId": "894b6b00-1f4c-4c94-a636-f84e91a41719"
      },
      "outputs": [
        {
          "output_type": "display_data",
          "data": {
            "text/plain": [
              "<IPython.core.display.Latex object>"
            ],
            "text/latex": "A\\_pinv\\_my = [[ 0.75 -0.25 -0.25]\n [-0.25  0.75 -0.25]\n [-0.25 -0.25  0.75]\n [ 0.25  0.25  0.25]]"
          },
          "metadata": {}
        },
        {
          "output_type": "display_data",
          "data": {
            "text/plain": [
              "<IPython.core.display.Latex object>"
            ],
            "text/latex": "np.linalg.pinv(A) = [[ 0.75 -0.25 -0.25]\n [-0.25  0.75 -0.25]\n [-0.25 -0.25  0.75]\n [ 0.25  0.25  0.25]]"
          },
          "metadata": {}
        },
        {
          "output_type": "display_data",
          "data": {
            "text/plain": [
              "<IPython.core.display.Latex object>"
            ],
            "text/latex": "\\text{A\\_pinv\\_my и np.linalg.pinv(A) } равны"
          },
          "metadata": {}
        }
      ],
      "source": [
        "Sigma_plus = np.vstack((np.diag([1 / item for item in sigma]), np.zeros((1, 3))))\n",
        "A_pinv_my = P @ Sigma_plus @ Q.T\n",
        "display(Latex(f'A\\_pinv\\_my = {A_pinv_my}'),\n",
        "Latex(f'np.linalg.pinv(A) = {np.linalg.pinv(A)}'),\n",
        "Latex(f'\\\\text{{A\\_pinv\\_my и np.linalg.pinv(A) }}{\" не \" * (not np.allclose(A_pinv_my, np.linalg.pinv(A), rtol=0.1))} равны'))"
      ]
    },
    {
      "cell_type": "markdown",
      "metadata": {
        "id": "TfSosPM9IOlc"
      },
      "source": [
        "## И наконец SVD от numpy:"
      ]
    },
    {
      "cell_type": "code",
      "execution_count": 88,
      "metadata": {
        "colab": {
          "base_uri": "https://localhost:8080/",
          "height": 123
        },
        "id": "1ff-DcUnIOlc",
        "outputId": "945ee6c0-a875-41bd-8087-12957f440008"
      },
      "outputs": [
        {
          "output_type": "display_data",
          "data": {
            "text/plain": [
              "<IPython.core.display.Latex object>"
            ],
            "text/latex": "P^T = \\mathtt{\\text{[[ 0.29  0.29  0.29  0.87]\n [ 0.82 -0.41 -0.41 -0.  ]\n [-0.   -0.71  0.71  0.  ]\n [-0.5  -0.5  -0.5   0.5 ]]}}"
          },
          "metadata": {}
        },
        {
          "output_type": "display_data",
          "data": {
            "text/plain": [
              "<IPython.core.display.Latex object>"
            ],
            "text/latex": "\\sigma = \\mathtt{\\text{[2. 1. 1.]}}"
          },
          "metadata": {}
        },
        {
          "output_type": "display_data",
          "data": {
            "text/plain": [
              "<IPython.core.display.Latex object>"
            ],
            "text/latex": "Q = \\mathtt{\\text{[[ 0.58  0.82  0.  ]\n [ 0.58 -0.41 -0.71]\n [ 0.58 -0.41  0.71]]}}"
          },
          "metadata": {}
        },
        {
          "output_type": "display_data",
          "data": {
            "text/plain": [
              "<IPython.core.display.Latex object>"
            ],
            "text/latex": "\\Sigma = \\mathtt{\\text{[[2. 0. 0. 0.]\n [0. 1. 0. 0.]\n [0. 0. 1. 0.]]}}"
          },
          "metadata": {}
        },
        {
          "output_type": "display_data",
          "data": {
            "text/plain": [
              "<IPython.core.display.Latex object>"
            ],
            "text/latex": "Q\\Sigma P^T = \\mathtt{\\text{[[ 1. -0. -0.  1.]\n [-0.  1.  0.  1.]\n [-0.  0.  1.  1.]]}}"
          },
          "metadata": {}
        }
      ],
      "source": [
        "Q, sigma, P = np.linalg.svd(A, full_matrices=True)\n",
        "Sig = np.hstack((np.diag(sigma), np.zeros((3, 1))))\n",
        "display(Latex(f'P^T = {sympy.latex(P.round(2))}'), \n",
        "Latex(f'\\sigma = {sympy.latex(sigma)}'),\n",
        "Latex(f'Q = {sympy.latex(Q.round(2))}'), \n",
        "Latex(f'\\Sigma = {sympy.latex(Sig)}'),\n",
        "Latex(f'Q\\Sigma P^T = {sympy.latex((Q @ Sig @ P).round(2))}'))"
      ]
    },
    {
      "cell_type": "markdown",
      "metadata": {
        "id": "LgY57gLiIOlc"
      },
      "source": [
        "## Линейная регрессия\n",
        "В некотором эксперименте измерялись значения величин $g_1$, $g_2$, $g_3$ и $H$:\n",
        "$$\n",
        "\\begin{matrix}\n",
        "g_1 & 0.12 & 0.15 & 0.9 & 0.8\\\\\n",
        "g_2 & 2.4  & 1.8  & 3.2 & 3.6\\\\\n",
        "g_3 & 1.1  & 1.2  & 1.3 & 1.4\\\\\n",
        "H   & 5.1  & 6.2  & 5.5 & 4.1\n",
        "\\end{matrix}\n",
        "$$\n",
        "\n",
        "Найти коэффициенты $a$, $b$, $c$ линейной регрессии $H = ag_1 + bg_2 +cg_3$.\n",
        "\n",
        "Составим матрицу $A$ столбцы которой образуют значения $g_1$, $g_2$, $g_3$.\n",
        "Также составим матрицу-столбец $H$ из значений $H$,\n",
        "тогда\n",
        "$$\n",
        "\\left[\\begin{matrix}a\\\\b\\\\c\\end{matrix}\\right] = A^+H\n",
        "$$"
      ]
    },
    {
      "cell_type": "code",
      "execution_count": 91,
      "metadata": {
        "colab": {
          "base_uri": "https://localhost:8080/"
        },
        "id": "8h04AXTmIOlc",
        "outputId": "434f0563-3fb9-43bc-f67b-374ef65ab04e"
      },
      "outputs": [
        {
          "output_type": "stream",
          "name": "stdout",
          "text": [
            "A = [[0.12 2.4  1.1 ]\n",
            " [0.15 1.8  1.2 ]\n",
            " [0.9  3.2  1.3 ]\n",
            " [0.8  3.6  1.4 ]],\n",
            "H = [[5.1]\n",
            " [6.2]\n",
            " [5.5]\n",
            " [4.1]],\n",
            "a = -0.097, b = -1.683, c = 7.897\n"
          ]
        }
      ],
      "source": [
        "A = np.array([[ 0.12, 0.15, 0.9, 0.8], \n",
        "               [ 2.4, 1.8, 3.2, 3.6],\n",
        "               [1.1, 1.2, 1.3, 1.4]]).T\n",
        "H1 = np.array([[5.1], [6.2], [5.5],  [4.1]])\n",
        "res = np.linalg.pinv(A) @ H1\n",
        "a, b, c = [round(item, 3) for item in res[:, 0]]\n",
        "print(f'A = {A},\\nH = {H1},\\na = {a}, b = {b}, c = {c}')"
      ]
    },
    {
      "cell_type": "markdown",
      "metadata": {
        "id": "ieQbfXdVIOld"
      },
      "source": [
        "Вычислим относительные отклонения экспериментальных данных от функции $H = ag_1 + bg_2 + cg_3$"
      ]
    },
    {
      "cell_type": "code",
      "execution_count": 94,
      "metadata": {
        "colab": {
          "base_uri": "https://localhost:8080/"
        },
        "id": "OuqxF6rNIOld",
        "outputId": "1662e19a-9ff8-4256-ef6c-acdd056b953a"
      },
      "outputs": [
        {
          "output_type": "stream",
          "name": "stdout",
          "text": [
            "0.091 0.037 0.129 0.2\n"
          ]
        }
      ],
      "source": [
        "def Hfunc(g1, g2, g3):\n",
        "    return a * g1 + b * g2 + c * g3\n",
        "print(*[abs((Hfunc(*g) - H1[i][0])/H1[i][0]).round(3) for i, g in enumerate(A)])"
      ]
    }
  ],
  "metadata": {
    "kernelspec": {
      "display_name": "Python 3",
      "language": "python",
      "name": "python3"
    },
    "language_info": {
      "codemirror_mode": {
        "name": "ipython",
        "version": 3
      },
      "file_extension": ".py",
      "mimetype": "text/x-python",
      "name": "python",
      "nbconvert_exporter": "python",
      "pygments_lexer": "ipython3",
      "version": "3.7.3"
    },
    "colab": {
      "provenance": []
    }
  },
  "nbformat": 4,
  "nbformat_minor": 0
}