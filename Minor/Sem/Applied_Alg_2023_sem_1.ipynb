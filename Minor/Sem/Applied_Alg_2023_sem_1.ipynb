{
  "cells": [
    {
      "attachments": {},
      "cell_type": "markdown",
      "metadata": {
        "id": "tw6Ls34ed026"
      },
      "source": [
        "# Занятие 1\n",
        "# Прикладная алгебра и численные методы\n",
        "# Матрицы и системы линейных алгебраических уравнений (СЛАУ)\n",
        "# Псевдообратная матрица\n",
        "Для решения задач линейной алгебры будут использоваться написанные на Python математические библиотеки numpy и scipy:\n",
        "\n",
        "numpy:\n",
        "https://numpy.org/doc/stable/reference/routines.linalg.html\n",
        "\n",
        "scipy:\n",
        "https://docs.scipy.org/doc/scipy/reference/linalg.html\n",
        "\n",
        "Сначала познакомимся с возможностями работы с матрицами в numpy.\n",
        "\n",
        "## Подключение модуля numpy.\n",
        "Для того, чтобы пользоваться функциями и классами из numpy, нужно \"подключить\" эту библиотеку, это делается через импорт. Сложилась страдиция сокращать название numpy до np и в вызовах функций явно указывать сокращенное название пакета, чтобы избежать путаницы при вызовах в однй программе одноименных функций из разных пакетов. Мы будем следовать этим неписанным правилам."
      ]
    },
    {
      "cell_type": "code",
      "execution_count": 2,
      "metadata": {
        "id": "oHpDmO5nd03C"
      },
      "outputs": [],
      "source": [
        "import numpy as np"
      ]
    },
    {
      "cell_type": "markdown",
      "metadata": {
        "id": "X1f-y9Yxd03E"
      },
      "source": [
        "После запуска ячейки с импортом из любой кодовой ячейки доступны все функции пакета numpy, но для их вызова нужно перед именем функции писать np.\n",
        "\n",
        "В файлах Jupyter Notebook (.ipynb) единое пространство имен, поэтому из любой кодовой ячейки \"видны\" все переменные и функции всех запущенных хотя бы один ячеек. Пока код в ячейке не запущен, никакой информации в пространство имен не попадает.\n",
        "## Реализация матриц в numpy, действия с матрицами\n",
        "### Создание матриц\n",
        "В numpy в роли матриц могут использоваться списки list, например, так можно перемножать матрицы с помощью dot"
      ]
    },
    {
      "cell_type": "code",
      "execution_count": 3,
      "metadata": {
        "colab": {
          "base_uri": "https://localhost:8080/"
        },
        "id": "U2ex0i2Bd03F",
        "outputId": "139ceb86-c216-4f9a-c786-3f91ca047a98"
      },
      "outputs": [
        {
          "name": "stdout",
          "output_type": "stream",
          "text": [
            "[[1, 2], [3, 4]]\n",
            "\n",
            "[[5, 6], [7, 8]]\n",
            "\n",
            "[[19 22]\n",
            " [43 50]]\n"
          ]
        }
      ],
      "source": [
        "a = [[1, 2], [3, 4]]\n",
        "b = [[5, 6], [7, 8]]\n",
        "print(a, b, np.dot(a, b), sep='\\n\\n')"
      ]
    },
    {
      "cell_type": "markdown",
      "metadata": {
        "id": "w_CDNiQxd03H"
      },
      "source": [
        "Заметим, что dot возвращает не список, а array.\n",
        "\n",
        "Для сложения матриц списки не годятся, при сложении списков получается добавление второго слагаемого в \"хвост\" первому:"
      ]
    },
    {
      "cell_type": "code",
      "execution_count": 4,
      "metadata": {
        "colab": {
          "base_uri": "https://localhost:8080/"
        },
        "id": "y3dm9Nmcd03I",
        "outputId": "465620ed-8d21-4994-80d0-9cc18030baf9"
      },
      "outputs": [
        {
          "data": {
            "text/plain": [
              "[[1, 2], [3, 4], [5, 6], [7, 8]]"
            ]
          },
          "execution_count": 4,
          "metadata": {},
          "output_type": "execute_result"
        }
      ],
      "source": [
        "a + b"
      ]
    },
    {
      "cell_type": "markdown",
      "metadata": {
        "id": "uY7-OdImd03J"
      },
      "source": [
        "Для представления матриц будем в соответствии с рекомендациями разработчиков numpy пользоваться такой структурой данных как array. Запишем в переменные a_np и b_np данные в виде array, построенных на основе вложенных списков  a и b, а затем используем a_np и b_np при сложении и вычитании матриц:"
      ]
    },
    {
      "cell_type": "code",
      "execution_count": 5,
      "metadata": {
        "colab": {
          "base_uri": "https://localhost:8080/"
        },
        "id": "2Nv_iFcFd03K",
        "outputId": "8fbddead-158e-4a87-e847-b6ff54382782"
      },
      "outputs": [
        {
          "name": "stdout",
          "output_type": "stream",
          "text": [
            "[[ 6  8]\n",
            " [10 12]]\n",
            "\n",
            "[[-4 -4]\n",
            " [-4 -4]]\n"
          ]
        }
      ],
      "source": [
        "a_np = np.array(a)\n",
        "b_np = np.array(b)\n",
        "print(a_np + b_np, a_np - b_np, sep='\\n\\n')"
      ]
    },
    {
      "cell_type": "markdown",
      "metadata": {
        "id": "Xnx8f5LOd03L"
      },
      "source": [
        "На основе списка можно сделать и матрицу matrix, на пример, с помощью mat"
      ]
    },
    {
      "cell_type": "code",
      "execution_count": 6,
      "metadata": {
        "colab": {
          "base_uri": "https://localhost:8080/"
        },
        "id": "Rr1Mix4Qd03M",
        "outputId": "dfba8a45-04f1-4525-a5fc-5aab330aeb88"
      },
      "outputs": [
        {
          "data": {
            "text/plain": [
              "matrix([[1, 2],\n",
              "        [3, 4]])"
            ]
          },
          "execution_count": 6,
          "metadata": {},
          "output_type": "execute_result"
        }
      ],
      "source": [
        "np.mat(a)"
      ]
    },
    {
      "cell_type": "markdown",
      "metadata": {
        "id": "lKKzHeDHd03O"
      },
      "source": [
        "В последней версии numpy не рекомендуется использовать матрицы matrix, поскольку от них в будущем планируется избавиться, вместо них рекомендуется использовать array.\n",
        "\n",
        "## Транспонирование\n",
        "Для транспонирования матрицы используется np.transpose(x)"
      ]
    },
    {
      "cell_type": "code",
      "execution_count": 7,
      "metadata": {
        "colab": {
          "base_uri": "https://localhost:8080/"
        },
        "id": "3RGoW682d03O",
        "outputId": "6d390c23-237c-4843-91e8-3dbd9052a980"
      },
      "outputs": [
        {
          "name": "stdout",
          "output_type": "stream",
          "text": [
            "[[1 3]\n",
            " [2 4]]\n",
            "\n",
            "[[1 3]\n",
            " [2 4]]\n"
          ]
        }
      ],
      "source": [
        "print(np.transpose(a), np.transpose(a_np), sep='\\n\\n')"
      ]
    },
    {
      "cell_type": "markdown",
      "metadata": {
        "id": "eV5Xef5xpiOw"
      },
      "source": [
        "Функция np.transpose возвращает array и в случае, если в качестве аргумента передан array, и если аргумент - list. \n",
        "\n",
        "Однако такой код выглядит слишком длинным и неудобочитаемым, поэтому будем пользоваться сокращенной формой, применимой только к array, не к list:"
      ]
    },
    {
      "cell_type": "code",
      "execution_count": 8,
      "metadata": {
        "colab": {
          "base_uri": "https://localhost:8080/"
        },
        "id": "3goWF8plqFeS",
        "outputId": "13103ded-37fc-4c19-cb5f-b5c23891e60a"
      },
      "outputs": [
        {
          "name": "stdout",
          "output_type": "stream",
          "text": [
            "[[1 3]\n",
            " [2 4]]\n"
          ]
        }
      ],
      "source": [
        "print(a_np.T)"
      ]
    },
    {
      "cell_type": "markdown",
      "metadata": {
        "id": "5jAss3vDd03P"
      },
      "source": [
        "## Функции в Python\n",
        "Для более наглядного и удобного решения задачи былает удобно разбить ее на подзадачи и каждую подзадачу оформить в виде функции. Функции бывают встроенные, такие как $\\sin$ и $\\log$, их можно использовать, подключив соответствующий модуль. Можно написать собственные функции следующим образом:\n",
        "```\n",
        "def function_name(arg1, ..., arg2=Value):\n",
        "\n",
        "    .....\n",
        "    \n",
        "    return something\n",
        "```\n",
        "Ключевое слово return можно опустить, тогда функция вернет в качестве результата None.\n",
        "\n",
        "У функции могут быть только обязательные аргументы, но могут быть и аргументы со значениями по умолчанию (необязательные аргументы).\n",
        "Вначале опишем функцию $f$ с обязательными аргументами $x$ и $a$.\n",
        "\n",
        "При вызове функции аргументы передаются по порядку, в нашем случае сначала значение  $x$, потом $a$.\n",
        "\n",
        "### Пример 1\n",
        "Опишем функцию $func\\_power(x, a) = x^a$:    "
      ]
    },
    {
      "cell_type": "code",
      "execution_count": 9,
      "metadata": {
        "id": "SBaPWc9bd03Q"
      },
      "outputs": [],
      "source": [
        "def func_power(x, a):\n",
        "    return x ** a"
      ]
    },
    {
      "cell_type": "markdown",
      "metadata": {
        "id": "313lKvL_d03R"
      },
      "source": [
        "При вызове функции сначала передаем значение  $x$, потом $a$. "
      ]
    },
    {
      "cell_type": "code",
      "execution_count": 10,
      "metadata": {
        "colab": {
          "base_uri": "https://localhost:8080/"
        },
        "id": "er5vrUXTd03R",
        "outputId": "01c0d1a4-b0aa-41d8-d0d2-cd2c7a1107f7"
      },
      "outputs": [
        {
          "data": {
            "text/plain": [
              "8"
            ]
          },
          "execution_count": 10,
          "metadata": {},
          "output_type": "execute_result"
        }
      ],
      "source": [
        "func_power(2, 3)"
      ]
    },
    {
      "cell_type": "markdown",
      "metadata": {
        "id": "IBUCU8ind03S"
      },
      "source": [
        "### Необязательные аргументы функции\n",
        "Необязательные аргументы или аргументы со значением по умолчанию передаются всегда ПОСЛЕ обязательных аргументов!!!\n",
        "### Пример 2\n",
        "Опишем функцию $g(A, n) = A^n$ с параметром $n$, по умолчанию равным 1. Для умножения матриц можно использовать функцию matmul или использовать вызывающий ее оператор @."
      ]
    },
    {
      "cell_type": "code",
      "execution_count": 11,
      "metadata": {
        "id": "Sty-TuBld03T"
      },
      "outputs": [],
      "source": [
        "def g(A, n=1):\n",
        "    if n == 1:\n",
        "        return A\n",
        "    res = A\n",
        "    for i in range(n - 1):\n",
        "        res = res @ A\n",
        "    return res"
      ]
    },
    {
      "cell_type": "markdown",
      "metadata": {
        "id": "fsxtSgBOd03T"
      },
      "source": [
        "При вызове функции передадим только обязательный аргумент, если нас устраивает значение по умолчанию"
      ]
    },
    {
      "cell_type": "code",
      "execution_count": 12,
      "metadata": {
        "colab": {
          "base_uri": "https://localhost:8080/"
        },
        "id": "xM33eejjd03U",
        "outputId": "db4af383-77e1-4717-8497-965152ba662c"
      },
      "outputs": [
        {
          "name": "stdout",
          "output_type": "stream",
          "text": [
            "[[1 2]\n",
            " [3 4]]\n",
            "\n",
            "[[1 2]\n",
            " [3 4]]\n"
          ]
        }
      ],
      "source": [
        "A = np.array([[1, 2], [3, 4]])\n",
        "print(A, g(A), sep='\\n\\n')"
      ]
    },
    {
      "cell_type": "markdown",
      "metadata": {
        "id": "cE93eGDud03U"
      },
      "source": [
        "Возведем матрицу в степень 3:"
      ]
    },
    {
      "cell_type": "code",
      "execution_count": 13,
      "metadata": {
        "colab": {
          "base_uri": "https://localhost:8080/"
        },
        "id": "mBTNs-MAd03V",
        "outputId": "6b66e996-f398-4512-8531-80b07dbfd18d"
      },
      "outputs": [
        {
          "name": "stdout",
          "output_type": "stream",
          "text": [
            "[[1 2]\n",
            " [3 4]]\n",
            "\n",
            "[[ 37  54]\n",
            " [ 81 118]]\n"
          ]
        }
      ],
      "source": [
        "print(A, g(A, 3), sep='\\n\\n')"
      ]
    },
    {
      "cell_type": "markdown",
      "metadata": {
        "id": "CwB807cld03a"
      },
      "source": [
        "## Аргументы функции, число которых заранее неизвестно\n",
        "### Пример 3\n",
        "Перепишем функцию $g$ Примера 2 так, чтобы с ее помощью можно было находить произведение произвольного числа матриц:"
      ]
    },
    {
      "cell_type": "code",
      "execution_count": 14,
      "metadata": {
        "id": "4b9p7606d03b"
      },
      "outputs": [],
      "source": [
        "def mat_product(*args):\n",
        "    n = len(args)\n",
        "    if  n == 0:\n",
        "        return None\n",
        "    if n == 1:\n",
        "        return args[0]\n",
        "    res = args[0]\n",
        "    for k in range(1, n):\n",
        "        res = res @ args[k]\n",
        "    return res"
      ]
    },
    {
      "cell_type": "code",
      "execution_count": 15,
      "metadata": {
        "colab": {
          "base_uri": "https://localhost:8080/"
        },
        "id": "lb5yQIfld03c",
        "outputId": "acbf4dc7-d623-4ea3-b1c6-cc046a206b78"
      },
      "outputs": [
        {
          "name": "stdout",
          "output_type": "stream",
          "text": [
            "[[1 2]\n",
            " [3 4]]\n"
          ]
        }
      ],
      "source": [
        "print(mat_product(A))"
      ]
    },
    {
      "cell_type": "code",
      "execution_count": 16,
      "metadata": {
        "colab": {
          "base_uri": "https://localhost:8080/"
        },
        "id": "-NXhr31qd03c",
        "outputId": "7d03941f-0e7b-4d35-d055-58fdfd0aed4d"
      },
      "outputs": [
        {
          "name": "stdout",
          "output_type": "stream",
          "text": [
            "[[ 56  74]\n",
            " [126 166]]\n"
          ]
        }
      ],
      "source": [
        "B = np.array([[-1, 5], [0, 7]])\n",
        "C = np.array([[1, 8], [-3, 2]])\n",
        "print(mat_product(A, B, A))"
      ]
    },
    {
      "cell_type": "markdown",
      "metadata": {
        "id": "bOuQu_Rwd03d"
      },
      "source": [
        "### Пример 4.\n",
        "Решим СЛАУ\n",
        "$$\n",
        "\\left\\{\n",
        "\\begin{matrix}\n",
        "2x + 3y - z = 5\\\\\n",
        "3x - 2y + z = 2\\\\\n",
        "x + y - z = 0\n",
        "\\end{matrix}\n",
        "\\right.\n",
        "$$\n",
        "Для решения СЛАУ воспользуемся linalg.solve, аргументы - матрица левой части и столбец правой.\n",
        "\n",
        "Для проверки правильности решения используем allclose"
      ]
    },
    {
      "cell_type": "code",
      "execution_count": 17,
      "metadata": {
        "colab": {
          "base_uri": "https://localhost:8080/"
        },
        "id": "aTIaSxlWd03d",
        "outputId": "e1952c88-e2fc-4d97-a30c-394cc0484c92"
      },
      "outputs": [
        {
          "name": "stdout",
          "output_type": "stream",
          "text": [
            "[1. 2. 3.], [5.0000000e+00 2.0000000e+00 4.4408921e-16], [5 2 0], [ True  True False], True\n"
          ]
        }
      ],
      "source": [
        "a = np.array([[2, 3, -1], [3, -2, 1], [1, 1, -1]])\n",
        "b = np.array([5, 2, 0])\n",
        "x = np.linalg.solve(a, b)\n",
        "print(x, a @ x, b, a @ x == b, np.allclose(a @ x, b), sep=', ')"
      ]
    },
    {
      "cell_type": "markdown",
      "metadata": {
        "id": "vbHz1RsHybQi"
      },
      "source": [
        "## Псевдообратная матрица\n",
        "В numpy псевдообратная матрица находится с помощью np.linalg.pinv\n",
        "## Пример 5\n",
        "Найти псевдообратную матрицу к матрице\n",
        "$$\n",
        "\\left(\n",
        "\\begin{matrix}\n",
        "1 & 2 & 3\\\\\n",
        "4 & 5 & 6\n",
        "\\end{matrix}\n",
        "\\right)\n",
        "$$\n",
        "Чтобы не воодить вручную каждый элемент матрицы, создадим последовательность натуральных чисел от 1 до 7 и расположим ее элементы в две строки по 3 столбца в каждой. К полученной матрице в форме np.array применим метод pinv().\n"
      ]
    },
    {
      "cell_type": "code",
      "execution_count": 18,
      "metadata": {
        "colab": {
          "base_uri": "https://localhost:8080/"
        },
        "id": "19F0fSMnycuU",
        "outputId": "2c5c3278-ac6b-4135-f157-09de022c149d"
      },
      "outputs": [
        {
          "name": "stdout",
          "output_type": "stream",
          "text": [
            "[[1 2 3]\n",
            " [4 5 6]]\n",
            "\n",
            "[[-0.94444444  0.44444444]\n",
            " [-0.11111111  0.11111111]\n",
            " [ 0.72222222 -0.22222222]]\n",
            "\n",
            "True\n",
            "\n",
            "True\n"
          ]
        }
      ],
      "source": [
        "A = np.arange(1, 7).reshape((2, 3))\n",
        "A_pinv = np.linalg.pinv(A)\n",
        "print(A, A_pinv,\n",
        "      np.allclose(A, A @ (A_pinv @ A)),\n",
        "      np.allclose(A_pinv, A_pinv @ (A @ A_pinv)), sep='\\n\\n')"
      ]
    },
    {
      "cell_type": "markdown",
      "metadata": {
        "id": "pyrTfzGPziPZ"
      },
      "source": [
        "## В scipy тоже есть модуль linalg, \n",
        "в нем есть pinv:"
      ]
    },
    {
      "cell_type": "code",
      "execution_count": 19,
      "metadata": {
        "id": "7od9uYBDzv_P"
      },
      "outputs": [],
      "source": [
        "import scipy.linalg"
      ]
    },
    {
      "cell_type": "code",
      "execution_count": 20,
      "metadata": {
        "colab": {
          "base_uri": "https://localhost:8080/"
        },
        "id": "bR96RnDtzjXA",
        "outputId": "7f78658e-497b-4bad-c9f0-e3935034c065"
      },
      "outputs": [
        {
          "name": "stdout",
          "output_type": "stream",
          "text": [
            "[[1 2 3]\n",
            " [4 5 6]]\n",
            "\n",
            "[[-0.94444444  0.44444444]\n",
            " [-0.11111111  0.11111111]\n",
            " [ 0.72222222 -0.22222222]]\n",
            "\n",
            "True\n",
            "\n",
            "True\n"
          ]
        }
      ],
      "source": [
        "A = np.arange(1, 7).reshape((2, 3))\n",
        "A_pinv = scipy.linalg.pinv(A)\n",
        "print(A, A_pinv,\n",
        "      np.allclose(A, A @ (A_pinv @ A)),\n",
        "      np.allclose(A_pinv, A_pinv @ (A @ A_pinv)), sep='\\n\\n')"
      ]
    },
    {
      "cell_type": "markdown",
      "metadata": {
        "id": "wj4u_uTc0Few"
      },
      "source": [
        "## В пакете символьной математики sympy \n",
        "тоже есть псевдообратная матрица:"
      ]
    },
    {
      "cell_type": "code",
      "execution_count": 21,
      "metadata": {
        "id": "83tD_-Qu0Ge4"
      },
      "outputs": [],
      "source": [
        "import sympy"
      ]
    },
    {
      "cell_type": "code",
      "execution_count": 22,
      "metadata": {
        "colab": {
          "base_uri": "https://localhost:8080/",
          "height": 139
        },
        "id": "sdec5vCz0KRg",
        "outputId": "7632d3bc-8ce8-448a-a592-c279ebdeaf60"
      },
      "outputs": [
        {
          "data": {
            "text/latex": [
              "$\\displaystyle \\left[\\begin{matrix}- \\frac{17}{18} & \\frac{4}{9}\\\\- \\frac{1}{9} & \\frac{1}{9}\\\\\\frac{13}{18} & - \\frac{2}{9}\\end{matrix}\\right]$"
            ],
            "text/plain": [
              "Matrix([\n",
              "[-17/18,  4/9],\n",
              "[  -1/9,  1/9],\n",
              "[ 13/18, -2/9]])"
            ]
          },
          "metadata": {},
          "output_type": "display_data"
        },
        {
          "data": {
            "text/latex": [
              "$\\displaystyle \\left[\\begin{matrix}-0.94444444 & 0.44444444\\\\-0.11111111 & 0.11111111\\\\0.72222222 & -0.22222222\\end{matrix}\\right]$"
            ],
            "text/plain": [
              "Matrix([\n",
              "[-0.94444444,  0.44444444],\n",
              "[-0.11111111,  0.11111111],\n",
              "[ 0.72222222, -0.22222222]])"
            ]
          },
          "metadata": {},
          "output_type": "display_data"
        }
      ],
      "source": [
        "As = sympy.Matrix(A)\n",
        "As_pinv = As.pinv()\n",
        "display(As_pinv, As_pinv.evalf(8))"
      ]
    },
    {
      "cell_type": "markdown",
      "metadata": {
        "id": "X9Q9iZ-p0ZhA"
      },
      "source": [
        "## Скелетное разложение\n",
        "## Пример 6\n",
        "Построим скелетное разложение для матрицы \n",
        "$$\n",
        "\\left(\n",
        "\\begin{matrix}\n",
        "2 & 3 & -1 & 4\\\\\n",
        "-1 & 4 & 1 & 4\\\\\n",
        "1 & 7 & 0 & 8\n",
        "\\end{matrix}\n",
        "\\right)\n",
        "$$\n",
        "$B$ матрица полного столбцового ранга, $C$-строчного,\n",
        "тогда псевдообратная матрица находится по формуле\n",
        "$$\n",
        "A^+ = C^T(C\\cdot C^T)^{-1}(B^T\\cdot B)^{-1}B^T\n",
        "$$"
      ]
    },
    {
      "cell_type": "code",
      "execution_count": 23,
      "metadata": {
        "colab": {
          "base_uri": "https://localhost:8080/",
          "height": 86
        },
        "id": "aERF-4fE0YUE",
        "outputId": "c0ac8868-f61d-4409-99e9-81f264b9d0b7"
      },
      "outputs": [
        {
          "data": {
            "text/plain": [
              "(Matrix([\n",
              " [1, 0, -7/11,  4/11],\n",
              " [0, 1,  1/11, 12/11],\n",
              " [0, 0,     0,     0]]),\n",
              " (0, 1))"
            ]
          },
          "metadata": {},
          "output_type": "display_data"
        }
      ],
      "source": [
        "A = sympy.Matrix([[2, 3, -1, 4], [-1, 4, 1, 4], [1, 7, 0, 8]])\n",
        "A_rref = A.rref()\n",
        "display(A_rref)"
      ]
    },
    {
      "cell_type": "markdown",
      "metadata": {
        "id": "vbUNzKma0qzp"
      },
      "source": [
        "Для более красивого вывода на экран \"распакуем\" результат, возвращаемый rref, с помощью *"
      ]
    },
    {
      "cell_type": "code",
      "execution_count": 24,
      "metadata": {
        "colab": {
          "base_uri": "https://localhost:8080/",
          "height": 96
        },
        "id": "OTx5N_j901Tx",
        "outputId": "51b26ce8-f6f8-494e-bc2d-d9325dd0c1f4"
      },
      "outputs": [
        {
          "data": {
            "text/latex": [
              "$\\displaystyle \\left[\\begin{matrix}1 & 0 & - \\frac{7}{11} & \\frac{4}{11}\\\\0 & 1 & \\frac{1}{11} & \\frac{12}{11}\\\\0 & 0 & 0 & 0\\end{matrix}\\right]$"
            ],
            "text/plain": [
              "Matrix([\n",
              "[1, 0, -7/11,  4/11],\n",
              "[0, 1,  1/11, 12/11],\n",
              "[0, 0,     0,     0]])"
            ]
          },
          "metadata": {},
          "output_type": "display_data"
        },
        {
          "data": {
            "text/plain": [
              "(0, 1)"
            ]
          },
          "metadata": {},
          "output_type": "display_data"
        }
      ],
      "source": [
        "display(*A_rref)"
      ]
    },
    {
      "cell_type": "markdown",
      "metadata": {
        "id": "9laJ-_KT06ig"
      },
      "source": [
        "Каждый элемент кортежа, возвращаемого rref стал отдельным аргументом функции display и был отрисован.\n",
        "\n",
        "rref возвращает кортеж, первый элемент которого - ступенчатый вид матрицы, второй - кортеж из номеров ведущих столбцов матрицы.\n",
        "\n",
        "Для получения матрицы полного столбцового ранга выделим из матрицы $A$ ведущие столбцы (в соответствии с кортежем номеров столбцов, полученным благодаря rref).\n",
        "\n"
      ]
    },
    {
      "cell_type": "code",
      "execution_count": 25,
      "metadata": {
        "colab": {
          "base_uri": "https://localhost:8080/",
          "height": 95
        },
        "id": "VsvrQPlfi3YR",
        "outputId": "c51656f7-bb3d-466d-be0f-efcfa10f9428"
      },
      "outputs": [
        {
          "name": "stdout",
          "output_type": "stream",
          "text": [
            "cols = (0, 1), k = 2, B = Matrix([[2, 3], [-1, 4], [1, 7]])\n"
          ]
        },
        {
          "data": {
            "text/latex": [
              "$\\displaystyle \\left[\\begin{matrix}2 & 3\\\\-1 & 4\\\\1 & 7\\end{matrix}\\right]$"
            ],
            "text/plain": [
              "Matrix([\n",
              "[ 2, 3],\n",
              "[-1, 4],\n",
              "[ 1, 7]])"
            ]
          },
          "metadata": {},
          "output_type": "display_data"
        }
      ],
      "source": [
        "cols = A_rref[1]\n",
        "k = len(cols)\n",
        "B = A[:, cols]\n",
        "print(f'cols = {cols}, k = {k}, B = {B}')\n",
        "display(B)"
      ]
    },
    {
      "cell_type": "markdown",
      "metadata": {
        "id": "P3NmSXFhjogz"
      },
      "source": [
        "Для выделения нужных столбцов из матрицы воспользуемся срезом:\n",
        "```\n",
        "B = A[:, cols]\n",
        "```\n",
        "В квадратных скобках указываем номера нужных строк (все строки обозначаются :) и номера столбцов. Номера могут быть диапазонами (например, 2:6),кортежами (например, (3, 6, 8)), списками, а еще можно использовать range.\n",
        "\n",
        "Выделим из $A_{rref}$ ненулевые строки, получим матрицу $C$ полного строчного ранга.\n"
      ]
    },
    {
      "cell_type": "code",
      "execution_count": 26,
      "metadata": {
        "colab": {
          "base_uri": "https://localhost:8080/",
          "height": 75
        },
        "id": "99ovN9MjkgQI",
        "outputId": "b34a7da2-5492-4834-f04d-cf7597eb690e"
      },
      "outputs": [
        {
          "name": "stdout",
          "output_type": "stream",
          "text": [
            "C =\n"
          ]
        },
        {
          "data": {
            "text/latex": [
              "$\\displaystyle \\left[\\begin{matrix}1 & 0 & - \\frac{7}{11} & \\frac{4}{11}\\\\0 & 1 & \\frac{1}{11} & \\frac{12}{11}\\end{matrix}\\right]$"
            ],
            "text/plain": [
              "Matrix([\n",
              "[1, 0, -7/11,  4/11],\n",
              "[0, 1,  1/11, 12/11]])"
            ]
          },
          "metadata": {},
          "output_type": "display_data"
        }
      ],
      "source": [
        "C = A_rref[0][:k, :]\n",
        "print('C =')\n",
        "display(C)"
      ]
    },
    {
      "cell_type": "markdown",
      "metadata": {
        "id": "OAA2-Kbyl4lj"
      },
      "source": [
        "Составим по формуле\n",
        "$$\n",
        "A^+ = C^T(C\\cdot C^T)^{-1}(B^T\\cdot B)^{-1}B^T\n",
        "$$\n",
        "псевдообратную матрицу"
      ]
    },
    {
      "cell_type": "code",
      "execution_count": 27,
      "metadata": {
        "colab": {
          "base_uri": "https://localhost:8080/",
          "height": 452
        },
        "id": "DnsWJIu7mDOi",
        "outputId": "9f2fe83c-b655-4ee8-aa59-27fe9883dc69"
      },
      "outputs": [
        {
          "data": {
            "text/plain": [
              "'A ='"
            ]
          },
          "metadata": {},
          "output_type": "display_data"
        },
        {
          "data": {
            "text/latex": [
              "$\\displaystyle \\left[\\begin{matrix}2 & 3 & -1 & 4\\\\-1 & 4 & 1 & 4\\\\1 & 7 & 0 & 8\\end{matrix}\\right]$"
            ],
            "text/plain": [
              "Matrix([\n",
              "[ 2, 3, -1, 4],\n",
              "[-1, 4,  1, 4],\n",
              "[ 1, 7,  0, 8]])"
            ]
          },
          "metadata": {},
          "output_type": "display_data"
        },
        {
          "data": {
            "text/plain": [
              "'B'"
            ]
          },
          "metadata": {},
          "output_type": "display_data"
        },
        {
          "data": {
            "text/latex": [
              "$\\displaystyle \\left[\\begin{matrix}2 & 3\\\\-1 & 4\\\\1 & 7\\end{matrix}\\right]$"
            ],
            "text/plain": [
              "Matrix([\n",
              "[ 2, 3],\n",
              "[-1, 4],\n",
              "[ 1, 7]])"
            ]
          },
          "metadata": {},
          "output_type": "display_data"
        },
        {
          "data": {
            "text/plain": [
              "'C'"
            ]
          },
          "metadata": {},
          "output_type": "display_data"
        },
        {
          "data": {
            "text/latex": [
              "$\\displaystyle \\left[\\begin{matrix}1 & 0 & - \\frac{7}{11} & \\frac{4}{11}\\\\0 & 1 & \\frac{1}{11} & \\frac{12}{11}\\end{matrix}\\right]$"
            ],
            "text/plain": [
              "Matrix([\n",
              "[1, 0, -7/11,  4/11],\n",
              "[0, 1,  1/11, 12/11]])"
            ]
          },
          "metadata": {},
          "output_type": "display_data"
        },
        {
          "data": {
            "text/plain": [
              "'A_pinv'"
            ]
          },
          "metadata": {},
          "output_type": "display_data"
        },
        {
          "data": {
            "text/latex": [
              "$\\displaystyle \\left[\\begin{matrix}\\frac{266}{1185} & - \\frac{253}{1185} & \\frac{13}{1185}\\\\- \\frac{41}{1185} & \\frac{88}{1185} & \\frac{47}{1185}\\\\- \\frac{173}{1185} & \\frac{169}{1185} & - \\frac{4}{1185}\\\\\\frac{52}{1185} & \\frac{4}{1185} & \\frac{56}{1185}\\end{matrix}\\right]$"
            ],
            "text/plain": [
              "Matrix([\n",
              "[ 266/1185, -253/1185, 13/1185],\n",
              "[ -41/1185,   88/1185, 47/1185],\n",
              "[-173/1185,  169/1185, -4/1185],\n",
              "[  52/1185,    4/1185, 56/1185]])"
            ]
          },
          "metadata": {},
          "output_type": "display_data"
        },
        {
          "data": {
            "text/plain": [
              "'A_pinv_my'"
            ]
          },
          "metadata": {},
          "output_type": "display_data"
        },
        {
          "data": {
            "text/latex": [
              "$\\displaystyle \\left[\\begin{matrix}\\frac{266}{1185} & - \\frac{253}{1185} & \\frac{13}{1185}\\\\- \\frac{41}{1185} & \\frac{88}{1185} & \\frac{47}{1185}\\\\- \\frac{173}{1185} & \\frac{169}{1185} & - \\frac{4}{1185}\\\\\\frac{52}{1185} & \\frac{4}{1185} & \\frac{56}{1185}\\end{matrix}\\right]$"
            ],
            "text/plain": [
              "Matrix([\n",
              "[ 266/1185, -253/1185, 13/1185],\n",
              "[ -41/1185,   88/1185, 47/1185],\n",
              "[-173/1185,  169/1185, -4/1185],\n",
              "[  52/1185,    4/1185, 56/1185]])"
            ]
          },
          "metadata": {},
          "output_type": "display_data"
        },
        {
          "name": "stdout",
          "output_type": "stream",
          "text": [
            "Равенство A.pinv() == A_pinv_my выполняется\n"
          ]
        }
      ],
      "source": [
        "A_pinv_my = C.T * (C * C.T) ** (-1) * (B.T * B) ** (-1) * B.T\n",
        "A_pinv = A.pinv()\n",
        "display('A =', A, 'B', B, 'C', C, 'A_pinv', A_pinv, 'A_pinv_my', A_pinv_my)\n",
        "print(f'Равенство A.pinv() == A_pinv_my {\"не \" * (not (A_pinv == A_pinv_my))}\\\n",
        "выполняется')"
      ]
    },
    {
      "cell_type": "markdown",
      "metadata": {
        "id": "qmP_H6ekhrSD"
      },
      "source": [
        "## Функции для работы с array.\n",
        "https://numpy.org/doc/stable/reference/routines.array-manipulation.html\n",
        "### Копирование\n",
        "При копировании с помощью присваивания получается новый указатель на тот же объект, а не физически независимая копия. Но при использовании операции умножения на число результат другой, сравните:"
      ]
    },
    {
      "cell_type": "code",
      "execution_count": 28,
      "metadata": {
        "colab": {
          "base_uri": "https://localhost:8080/"
        },
        "id": "uwLQdiuZ1fH3",
        "outputId": "ebd93cbd-b4d9-4cbb-8bfc-66854a372c4c"
      },
      "outputs": [
        {
          "name": "stdout",
          "output_type": "stream",
          "text": [
            "[[1 2 3 4]\n",
            " [5 6 7 8]]\n",
            "\n",
            "[[ 2  4  6  8]\n",
            " [10 12 14 16]]\n",
            "\n",
            "---\n",
            "\n",
            "[[-1  2  3  4]\n",
            " [ 5  6  7  8]]\n",
            "\n",
            "[[  2   4   6   8]\n",
            " [ 10 100  14  16]]\n"
          ]
        }
      ],
      "source": [
        "ar1 = np.array([[1, 2, 3, 4], [5, 6, 7, 8]])\n",
        "ar2 = 2 * ar1\n",
        "print(ar1, ar2, sep='\\n\\n', end='\\n\\n---\\n\\n')\n",
        "ar1[0, 0] = -1\n",
        "ar2[1, 1] = 100\n",
        "print(ar1, ar2, sep='\\n\\n')"
      ]
    },
    {
      "cell_type": "markdown",
      "metadata": {
        "id": "8nmBb8vw1g6R"
      },
      "source": [
        "ar1 и ar2 изменяются независимо\n",
        "\n",
        "Теперь не будем умножать:"
      ]
    },
    {
      "cell_type": "code",
      "execution_count": 29,
      "metadata": {
        "colab": {
          "base_uri": "https://localhost:8080/"
        },
        "id": "ymm8lUdG1jSg",
        "outputId": "c9c107e5-0f06-4133-f2a6-1c28e89f8abd"
      },
      "outputs": [
        {
          "name": "stdout",
          "output_type": "stream",
          "text": [
            "[[1 2 3 4]\n",
            " [5 6 7 8]]\n",
            "\n",
            "[[1 2 3 4]\n",
            " [5 6 7 8]]\n",
            "\n",
            "---\n",
            "\n",
            "[[ -1   2   3   4]\n",
            " [  5 100   7   8]]\n",
            "\n",
            "[[ -1   2   3   4]\n",
            " [  5 100   7   8]]\n"
          ]
        }
      ],
      "source": [
        "ar1 = np.array([[1, 2, 3, 4], [5, 6, 7, 8]])\n",
        "ar2 = ar1\n",
        "print(ar1, ar2, sep='\\n\\n', end='\\n\\n---\\n\\n')\n",
        "ar1[0, 0] = -1\n",
        "ar2[1, 1] = 100\n",
        "print(ar1, ar2, sep='\\n\\n')"
      ]
    },
    {
      "cell_type": "markdown",
      "metadata": {
        "id": "csw6yf8F1lmp"
      },
      "source": [
        "Видно, что ar2 - это новый указатель на ar1.\n",
        "\n",
        "Умножим на 1:"
      ]
    },
    {
      "cell_type": "code",
      "execution_count": 30,
      "metadata": {
        "colab": {
          "base_uri": "https://localhost:8080/"
        },
        "id": "48VBUhLW1pL3",
        "outputId": "f8954211-8363-4041-9bc7-e9ddea4472fc"
      },
      "outputs": [
        {
          "name": "stdout",
          "output_type": "stream",
          "text": [
            "[[1 2 3 4]\n",
            " [5 6 7 8]]\n",
            "\n",
            "[[1 2 3 4]\n",
            " [5 6 7 8]]\n",
            "\n",
            "---\n",
            "\n",
            "[[-1  2  3  4]\n",
            " [ 5  6  7  8]]\n",
            "\n",
            "[[  1   2   3   4]\n",
            " [  5 100   7   8]]\n"
          ]
        }
      ],
      "source": [
        "ar1 = np.array([[1, 2, 3, 4], [5, 6, 7, 8]])\n",
        "ar2 = 1 * ar1\n",
        "print(ar1, ar2, sep='\\n\\n', end='\\n\\n---\\n\\n')\n",
        "ar1[0, 0] = -1\n",
        "ar2[1, 1] = 100\n",
        "print(ar1, ar2, sep='\\n\\n')"
      ]
    },
    {
      "cell_type": "markdown",
      "metadata": {
        "id": "pfegNfbS1p4v"
      },
      "source": [
        "Этот способ очень не рекомендуется применять в групповом или развивающемся проекте,\n",
        "поскольку велики шансы, что кто-нибудь решит убрать \"ненужную\" единицу и все сломается.\n",
        "\n",
        "Попробуйте все то же самое проделать с списком list. Тут умножение не помогает:"
      ]
    },
    {
      "cell_type": "code",
      "execution_count": 31,
      "metadata": {
        "colab": {
          "base_uri": "https://localhost:8080/"
        },
        "id": "IxH8pyWL1tRi",
        "outputId": "9df8c530-1f93-417b-be27-29a40769ac37"
      },
      "outputs": [
        {
          "name": "stdout",
          "output_type": "stream",
          "text": [
            "[[1, 2, 3, 4], [5, 6, 7, 8]]\n",
            "\n",
            "[[1, 2, 3, 4], [5, 6, 7, 8]]\n",
            "\n",
            "---\n",
            "\n",
            "[[-1, 2, 3, 4], [5, 100, 7, 8]]\n",
            "\n",
            "[[-1, 2, 3, 4], [5, 100, 7, 8]]\n",
            "\n",
            "---\n",
            "\n"
          ]
        }
      ],
      "source": [
        "list1 = [[1, 2, 3, 4], [5, 6, 7, 8]]\n",
        "list2 = 1 * list1\n",
        "print(list1, list2, sep='\\n\\n', end='\\n\\n---\\n\\n')\n",
        "list1[0][0] = -1\n",
        "list2[1][1] = 100\n",
        "print(list1, list2, sep='\\n\\n', end='\\n\\n---\\n\\n')"
      ]
    },
    {
      "cell_type": "markdown",
      "metadata": {
        "id": "gAZdMCok1viY"
      },
      "source": [
        "### Копирование с numpy.copyto\n",
        "numpy.copyto(dst, src, casting='same_kind', where=True)\n",
        "\n",
        "dst - куда (копировать)\n",
        "\n",
        "src - что (копировать)\n",
        "\n",
        "Скопируем ar1 в ar2"
      ]
    },
    {
      "cell_type": "code",
      "execution_count": 32,
      "metadata": {
        "colab": {
          "base_uri": "https://localhost:8080/"
        },
        "id": "-jzqYtwk1x54",
        "outputId": "f87e6ee3-f3c8-47f5-c104-a2f2b3647fd5"
      },
      "outputs": [
        {
          "name": "stdout",
          "output_type": "stream",
          "text": [
            "[[-1  2 -3  4]\n",
            " [ 5 -6  7 -8]]\n",
            "\n",
            "[[-1  2 -3  4]\n",
            " [ 5 -6  7 -8]]\n",
            "\n",
            "---\n",
            "\n",
            "[[555   2  -3   4]\n",
            " [  5  -6   7  -8]]\n",
            "\n",
            "[[ -1   2  -3   4]\n",
            " [  5 777   7  -8]]\n"
          ]
        }
      ],
      "source": [
        "ar1 = np.array([[-1, 2, -3, 4], [5, -6, 7, -8]])\n",
        "np.copyto(ar2, ar1)\n",
        "print(ar1, ar2, sep='\\n\\n', end='\\n\\n---\\n\\n')\n",
        "ar1[0, 0] = 555\n",
        "ar2[1, 1] = 777\n",
        "print(ar1, ar2, sep='\\n\\n')"
      ]
    },
    {
      "cell_type": "markdown",
      "metadata": {
        "id": "fbd0tn5m11IQ"
      },
      "source": [
        "### numpy.asarray(a, dtype=None, order=None) \n",
        "возвращает array, полученный на основе аргумента a."
      ]
    },
    {
      "cell_type": "code",
      "execution_count": 33,
      "metadata": {
        "colab": {
          "base_uri": "https://localhost:8080/"
        },
        "id": "79zg1vNV11_n",
        "outputId": "0d86ba0a-9b8e-47fc-daba-f1a9f24ad8f5"
      },
      "outputs": [
        {
          "name": "stdout",
          "output_type": "stream",
          "text": [
            "[1, 2, 3]\n",
            "\n",
            "[1 2 3]\n"
          ]
        }
      ],
      "source": [
        "a = [1, 2, 3]\n",
        "b = np.asarray(a)\n",
        "print(a, b, sep='\\n\\n')"
      ]
    },
    {
      "cell_type": "markdown",
      "metadata": {
        "id": "RJR-mCZv13tQ"
      },
      "source": [
        "### numpy.concatenate((a1, a2, ...), axis=0, out=None)\n",
        "соединяет аргументы в один array"
      ]
    },
    {
      "cell_type": "code",
      "execution_count": 34,
      "metadata": {
        "colab": {
          "base_uri": "https://localhost:8080/"
        },
        "id": "Qyd6Ys6015xn",
        "outputId": "512fd983-ba26-4937-deba-4586d98ce2aa"
      },
      "outputs": [
        {
          "name": "stdout",
          "output_type": "stream",
          "text": [
            "[[555   2  -3]\n",
            " [  5  -6   7]\n",
            " [  1   2   3]]\n"
          ]
        }
      ],
      "source": [
        "print(np.concatenate((ar1[:, :-1], [a])))"
      ]
    },
    {
      "cell_type": "markdown",
      "metadata": {
        "id": "xvY1hqMv178A"
      },
      "source": [
        "### numpy.stack(arrays, axis=0, out=None)\n",
        "соединяет аргументы в один array, все аргументы должны быть одинаковых размерностей:"
      ]
    },
    {
      "cell_type": "code",
      "execution_count": 35,
      "metadata": {
        "colab": {
          "base_uri": "https://localhost:8080/"
        },
        "id": "tAlrk5Ex1-kx",
        "outputId": "370b4a4b-6a0d-4de8-9bee-01b59d063722"
      },
      "outputs": [
        {
          "name": "stdout",
          "output_type": "stream",
          "text": [
            "[[ 6  7  8]\n",
            " [16  0 -8]]\n"
          ]
        }
      ],
      "source": [
        "ar3 = np.array([6, 7, 8])\n",
        "ar4 = np.array([16, 0, -8])\n",
        "print(np.stack((ar3, ar4)))"
      ]
    },
    {
      "cell_type": "markdown",
      "metadata": {
        "id": "d_I1rpe12DQo"
      },
      "source": [
        "### numpy.vstack(tup)"
      ]
    },
    {
      "cell_type": "code",
      "execution_count": 36,
      "metadata": {
        "colab": {
          "base_uri": "https://localhost:8080/"
        },
        "id": "oOU0DYRu2Fbw",
        "outputId": "dd617fc4-f33c-4d42-ca71-b2eb289777b4"
      },
      "outputs": [
        {
          "name": "stdout",
          "output_type": "stream",
          "text": [
            "[[ 6  3]\n",
            " [ 7  4]\n",
            " [ 8  5]\n",
            " [ 1 16]\n",
            " [ 2  0]\n",
            " [ 3 -8]]\n"
          ]
        }
      ],
      "source": [
        "ar3 = np.array([[6, 3], [7, 4], [8, 5]])\n",
        "ar4 = np.array([[1, 16], [2, 0], [3, -8]])\n",
        "print(np.vstack((ar3, ar4)))"
      ]
    },
    {
      "cell_type": "markdown",
      "metadata": {
        "id": "Kwfda-7N2H7Q"
      },
      "source": [
        "Сравните с numpy.stack"
      ]
    },
    {
      "cell_type": "code",
      "execution_count": 37,
      "metadata": {
        "colab": {
          "base_uri": "https://localhost:8080/"
        },
        "id": "9ye3Baun2Ipg",
        "outputId": "24422917-0d33-4f17-8e73-ad75bb758e75"
      },
      "outputs": [
        {
          "name": "stdout",
          "output_type": "stream",
          "text": [
            "[[[ 6  3]\n",
            "  [ 7  4]\n",
            "  [ 8  5]]\n",
            "\n",
            " [[ 1 16]\n",
            "  [ 2  0]\n",
            "  [ 3 -8]]]\n"
          ]
        }
      ],
      "source": [
        "print(np.stack((ar3, ar4)))"
      ]
    },
    {
      "cell_type": "markdown",
      "metadata": {
        "id": "Fk1w4nnk2Klw"
      },
      "source": [
        "### numpy.hstack(tup)"
      ]
    },
    {
      "cell_type": "code",
      "execution_count": 38,
      "metadata": {
        "colab": {
          "base_uri": "https://localhost:8080/"
        },
        "id": "n5bJ9hoM2Mgg",
        "outputId": "6cf70fc9-85ae-4d6f-812b-885e94946052"
      },
      "outputs": [
        {
          "name": "stdout",
          "output_type": "stream",
          "text": [
            "[[ 6  3  1 16]\n",
            " [ 7  4  2  0]\n",
            " [ 8  5  3 -8]]\n"
          ]
        }
      ],
      "source": [
        "print(np.hstack((ar3, ar4)))"
      ]
    },
    {
      "cell_type": "markdown",
      "metadata": {
        "id": "tmdw9la2wAqJ"
      },
      "source": [
        "# Дополнительные возможности для информативного вывода результатов вычислений на экран\n",
        "\n",
        "Подключим функцию latex из библиотеки sympy для получения представлнения математического выражения на Python в виде текста формулы в Латех. Также понадобится Matrix - конструктор матриц из sympy."
      ]
    },
    {
      "cell_type": "code",
      "execution_count": 39,
      "metadata": {
        "id": "JR124Vklwcco"
      },
      "outputs": [],
      "source": [
        "from sympy import latex, Matrix"
      ]
    },
    {
      "cell_type": "markdown",
      "metadata": {
        "id": "j2ERzRrOwpUr"
      },
      "source": [
        "Составим формулу для матрицы $A$ из предыдущего примера."
      ]
    },
    {
      "cell_type": "code",
      "execution_count": 40,
      "metadata": {
        "colab": {
          "base_uri": "https://localhost:8080/"
        },
        "id": "JPBoTSA_w6Pv",
        "outputId": "503bf256-23ba-497b-9cf3-f160cb44297a"
      },
      "outputs": [
        {
          "name": "stdout",
          "output_type": "stream",
          "text": [
            "\\left[\\begin{matrix}2 & 3 & -1 & 4\\\\-1 & 4 & 1 & 4\\\\1 & 7 & 0 & 8\\end{matrix}\\right]\n"
          ]
        }
      ],
      "source": [
        "print(latex(Matrix(A)))"
      ]
    },
    {
      "cell_type": "markdown",
      "metadata": {
        "id": "T0yLPqMCw-vn"
      },
      "source": [
        "Для того, чтобы такие формулы выводились на экран в виде изображения формулы, нужно подключить функцию Latex из библиотеки IPython.display"
      ]
    },
    {
      "cell_type": "code",
      "execution_count": 41,
      "metadata": {
        "id": "g2n6TzcoxbNS"
      },
      "outputs": [],
      "source": [
        "from IPython.display import Latex"
      ]
    },
    {
      "cell_type": "markdown",
      "metadata": {
        "id": "nrAJoo9xxcSp"
      },
      "source": [
        "Выведем на экран изображение матрицы $A$:"
      ]
    },
    {
      "cell_type": "code",
      "execution_count": 42,
      "metadata": {
        "colab": {
          "base_uri": "https://localhost:8080/",
          "height": 58
        },
        "id": "2bBbISfLxqV_",
        "outputId": "57683e19-a43a-4244-c110-e15874565aec"
      },
      "outputs": [
        {
          "data": {
            "text/latex": [
              "\\left[\\begin{matrix}2 & 3 & -1 & 4\\\\-1 & 4 & 1 & 4\\\\1 & 7 & 0 & 8\\end{matrix}\\right]"
            ],
            "text/plain": [
              "<IPython.core.display.Latex object>"
            ]
          },
          "metadata": {},
          "output_type": "display_data"
        }
      ],
      "source": [
        "display(Latex(latex(Matrix(A))))"
      ]
    },
    {
      "cell_type": "markdown",
      "metadata": {
        "id": "ayYa8a9loO-i"
      },
      "source": [
        "Можно в одной строке разместить текст и формулы:"
      ]
    },
    {
      "cell_type": "code",
      "execution_count": 43,
      "metadata": {
        "colab": {
          "base_uri": "https://localhost:8080/",
          "height": 78
        },
        "id": "fXf63so5oUhy",
        "outputId": "b721b33e-7a4a-41cf-95af-1c589862ea8b"
      },
      "outputs": [
        {
          "data": {
            "text/latex": [
              "Матрица\\ A:\\ \\left[\\begin{matrix}2 & 3 & -1 & 4\\\\-1 & 4 & 1 & 4\\\\1 & 7 & 0 & 8\\end{matrix}\\right]"
            ],
            "text/plain": [
              "<IPython.core.display.Latex object>"
            ]
          },
          "metadata": {},
          "output_type": "display_data"
        }
      ],
      "source": [
        "display(Latex(f'Матрица\\ A:\\ {latex(Matrix(A))}'))"
      ]
    },
    {
      "cell_type": "markdown",
      "metadata": {
        "id": "waL3OrxGqID7"
      },
      "source": [
        "В математическом режиме игнорируются пробелы, поэтому их пришлось экранировать с помощью \\\n",
        "\n",
        "Альтернатива - использовать \\text{} (средство Latex) "
      ]
    },
    {
      "cell_type": "code",
      "execution_count": 44,
      "metadata": {
        "colab": {
          "base_uri": "https://localhost:8080/",
          "height": 78
        },
        "id": "sb9mWFeEqpab",
        "outputId": "ce4d86f1-87f9-4a52-91fe-bf58e64d0001"
      },
      "outputs": [
        {
          "data": {
            "text/latex": [
              "\\text{Матрица A: }\\left[\\begin{matrix}2 & 3 & -1 & 4\\\\-1 & 4 & 1 & 4\\\\1 & 7 & 0 & 8\\end{matrix}\\right]"
            ],
            "text/plain": [
              "<IPython.core.display.Latex object>"
            ]
          },
          "metadata": {},
          "output_type": "display_data"
        }
      ],
      "source": [
        "display(Latex(f'\\\\text{{Матрица A: }}{latex(Matrix(A))}'))"
      ]
    },
    {
      "cell_type": "markdown",
      "metadata": {
        "id": "Hbrjo3hMqxOr"
      },
      "source": [
        "В f-строке для группировки понадобились фигурные скобки, их пришлось удвоить, кроме того, понадобилось экранировать \\ перед text, поэтому написали \\\\text{{Матрица A: }}."
      ]
    }
  ],
  "metadata": {
    "colab": {
      "provenance": []
    },
    "kernelspec": {
      "display_name": "Python 3",
      "language": "python",
      "name": "python3"
    },
    "language_info": {
      "codemirror_mode": {
        "name": "ipython",
        "version": 3
      },
      "file_extension": ".py",
      "mimetype": "text/x-python",
      "name": "python",
      "nbconvert_exporter": "python",
      "pygments_lexer": "ipython3",
      "version": "3.9.7"
    }
  },
  "nbformat": 4,
  "nbformat_minor": 0
}
