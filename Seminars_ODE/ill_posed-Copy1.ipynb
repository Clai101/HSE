{
 "cells": [
  {
   "cell_type": "code",
   "execution_count": null,
   "metadata": {},
   "outputs": [],
   "source": []
  },
  {
   "cell_type": "code",
   "execution_count": 62,
   "metadata": {},
   "outputs": [],
   "source": [
    "import numpy as np\n",
    "import matplotlib\n",
    "import matplotlib.pyplot as plt\n",
    "from matplotlib.patches import Ellipse"
   ]
  },
  {
   "cell_type": "code",
   "execution_count": 63,
   "metadata": {},
   "outputs": [],
   "source": [
    "def generate_ellipse(phi, width, height, size):\n",
    "    x = np.vstack([width / 2 * np.cos(phi), height / 2 * np.sin(phi)]).T\n",
    "    X = x + np.random.normal(0.0, 0.0125, (size,*x.shape))\n",
    "    return X"
   ]
  },
  {
   "cell_type": "markdown",
   "metadata": {},
   "source": [
    "$$a_1 x^2 + a_2 y^2 + a_3 x y + a_4 x + a_5 y = 1$$"
   ]
  },
  {
   "cell_type": "code",
   "execution_count": 64,
   "metadata": {},
   "outputs": [],
   "source": [
    "def plot_ellipse():\n",
    "    ellipse = Ellipse((0, 0), width=width, height=height, fill=False, edgecolor='blue', label='True curve')\n",
    "    ax = plt.gca()\n",
    "    ax.add_patch(ellipse)"
   ]
  },
  {
   "cell_type": "code",
   "execution_count": 65,
   "metadata": {},
   "outputs": [],
   "source": [
    "def plot_curve(params):\n",
    "    x = np.linspace(-1.0, 1.0, 150)\n",
    "    y = np.linspace(-1.0, 1.0, 150)\n",
    "    X, Y = np.meshgrid(x, y)\n",
    "    A = np.dstack([X**2,Y**2,X*Y,X,Y])\n",
    "    F = np.dot(A, params) - 1\n",
    "\n",
    "    ax = plt.gca()\n",
    "    ax.contour(X, Y, F, levels=[0], label=\"Predicted curve\")"
   ]
  },
  {
   "cell_type": "code",
   "execution_count": 66,
   "metadata": {},
   "outputs": [],
   "source": [
    "width, height = 2, 1.25\n",
    "\n",
    "lim = 2.5 / 180.0 * np.pi\n",
    "phi = np.linspace(-lim, lim, 4)\n",
    "x = generate_ellipse(phi, width, height, 4)"
   ]
  },
  {
   "cell_type": "code",
   "execution_count": 67,
   "metadata": {},
   "outputs": [],
   "source": [
    "def fit_ellipse(x, rcound = None):\n",
    "    x = x.reshape(-1, 2)\n",
    "    A = np.hstack((x**2, x.prod(axis=1).reshape(-1, 1), x))\n",
    "    b = np.ones(x.shape[0])\n",
    "    out = np.linalg.lstsq(A, b, rcond=rcound)\n",
    "    cov = out[1] / (A.shape[0] - A.shape[1])*np.linalg.inv(A.T@A)\n",
    "    cond = np.linalg.cond(A)\n",
    "    return out + (cond, cov )"
   ]
  },
  {
   "cell_type": "code",
   "execution_count": 68,
   "metadata": {},
   "outputs": [
    {
     "ename": "ValueError",
     "evalue": "operands could not be broadcast together with shapes (0,) (5,5) ",
     "output_type": "error",
     "traceback": [
      "\u001b[0;31m---------------------------------------------------------------------------\u001b[0m",
      "\u001b[0;31mValueError\u001b[0m                                Traceback (most recent call last)",
      "Cell \u001b[0;32mIn[68], line 1\u001b[0m\n\u001b[0;32m----> 1\u001b[0m params, cost, n , err, cond, cov \u001b[39m=\u001b[39m fit_ellipse(x, rcound\u001b[39m=\u001b[39;49m\u001b[39m0.1\u001b[39;49m)\n\u001b[1;32m      2\u001b[0m params\n",
      "Cell \u001b[0;32mIn[67], line 6\u001b[0m, in \u001b[0;36mfit_ellipse\u001b[0;34m(x, rcound)\u001b[0m\n\u001b[1;32m      4\u001b[0m b \u001b[39m=\u001b[39m np\u001b[39m.\u001b[39mones(x\u001b[39m.\u001b[39mshape[\u001b[39m0\u001b[39m])\n\u001b[1;32m      5\u001b[0m out \u001b[39m=\u001b[39m np\u001b[39m.\u001b[39mlinalg\u001b[39m.\u001b[39mlstsq(A, b, rcond\u001b[39m=\u001b[39mrcound)\n\u001b[0;32m----> 6\u001b[0m cov \u001b[39m=\u001b[39m out[\u001b[39m1\u001b[39;49m] \u001b[39m/\u001b[39;49m (A\u001b[39m.\u001b[39;49mshape[\u001b[39m0\u001b[39;49m] \u001b[39m-\u001b[39;49m A\u001b[39m.\u001b[39;49mshape[\u001b[39m1\u001b[39;49m])\u001b[39m*\u001b[39;49mnp\u001b[39m.\u001b[39;49mlinalg\u001b[39m.\u001b[39;49minv(A\u001b[39m.\u001b[39;49mT\u001b[39m@A\u001b[39;49m)\n\u001b[1;32m      7\u001b[0m cond \u001b[39m=\u001b[39m np\u001b[39m.\u001b[39mlinalg\u001b[39m.\u001b[39mcond(A)\n\u001b[1;32m      8\u001b[0m \u001b[39mreturn\u001b[39;00m out \u001b[39m+\u001b[39m (cond, cov )\n",
      "\u001b[0;31mValueError\u001b[0m: operands could not be broadcast together with shapes (0,) (5,5) "
     ]
    }
   ],
   "source": [
    "params, cost, n , err, cond, cov = fit_ellipse(x, rcound=0.1)\n",
    "params"
   ]
  },
  {
   "cell_type": "code",
   "execution_count": null,
   "metadata": {},
   "outputs": [
    {
     "name": "stderr",
     "output_type": "stream",
     "text": [
      "/tmp/ipykernel_10485/836599439.py:9: UserWarning: The following kwargs were not used by contour: 'label'\n",
      "  ax.contour(X, Y, F, levels=[0], label=\"Predicted curve\")\n"
     ]
    },
    {
     "data": {
      "image/png": "[encoded data removed]",
      "text/plain": [
       "<Figure size 640x480 with 1 Axes>"
      ]
     },
     "metadata": {},
     "output_type": "display_data"
    }
   ],
   "source": [
    "#plt.figure(figsize=(15, 6))\n",
    "plt.scatter(*x.T, s=2)\n",
    "\n",
    "plot_ellipse(\n",
    "    \n",
    ")\n",
    "plot_curve(params)\n",
    "\n",
    "plt.axis('equal')\n",
    "plt.xlim(-1, 1)\n",
    "plt.ylim(-1, 1)\n",
    "plt.show()"
   ]
  },
  {
   "cell_type": "code",
   "execution_count": null,
   "metadata": {},
   "outputs": [
    {
     "data": {
      "text/plain": [
       "<matplotlib.image.AxesImage at 0x7feae6908110>"
      ]
     },
     "execution_count": 52,
     "metadata": {},
     "output_type": "execute_result"
    },
    {
     "data": {
      "image/png": "[encoded data removed]",
      "text/plain": [
       "<Figure size 480x480 with 1 Axes>"
      ]
     },
     "metadata": {},
     "output_type": "display_data"
    }
   ],
   "source": [
    "sigma = np.sqrt(np.diag(cov))\n",
    "cor = cov / np.outer(sigma, sigma)\n",
    "plt.matshow(cor)"
   ]
  },
  {
   "cell_type": "code",
   "execution_count": null,
   "metadata": {},
   "outputs": [],
   "source": [
    "data_set = 0\n",
    "\n",
    "if data_set == 0:\n",
    "    z = generate_ellipse(-np.pi, width, height, 4)\n",
    "    x = np.hstack([x, z])\n",
    "\n",
    "if data_set == 1:\n",
    "    z = generate_ellipse(0.5 * np.pi, width, height, 4)\n",
    "    x = np.hstack([x, z])\n",
    "\n",
    "if data_set == 2:\n",
    "    z = generate_ellipse(-0.5 * np.pi, width, height, 4)\n",
    "    x = np.hstack([x, z])\n",
    "    \n",
    "if data_set == 3:\n",
    "    z = generate_ellipse(0, width, height, 4)\n",
    "    x = np.hstack([x, z])"
   ]
  },
  {
   "cell_type": "code",
   "execution_count": null,
   "metadata": {},
   "outputs": [],
   "source": [
    "z = generate_ellipse(0, width, height, 4)\n",
    "x = np.hstack([x, z])"
   ]
  },
  {
   "cell_type": "code",
   "execution_count": null,
   "metadata": {},
   "outputs": [],
   "source": []
  },
  {
   "cell_type": "code",
   "execution_count": null,
   "metadata": {},
   "outputs": [],
   "source": []
  },
  {
   "cell_type": "code",
   "execution_count": null,
   "metadata": {},
   "outputs": [],
   "source": []
  },
  {
   "cell_type": "code",
   "execution_count": null,
   "metadata": {},
   "outputs": [],
   "source": []
  },
  {
   "cell_type": "code",
   "execution_count": null,
   "metadata": {},
   "outputs": [],
   "source": []
  },
  {
   "cell_type": "code",
   "execution_count": null,
   "metadata": {},
   "outputs": [],
   "source": []
  },
  {
   "cell_type": "code",
   "execution_count": null,
   "metadata": {},
   "outputs": [],
   "source": []
  },
  {
   "cell_type": "code",
   "execution_count": null,
   "metadata": {},
   "outputs": [],
   "source": []
  },
  {
   "cell_type": "code",
   "execution_count": null,
   "metadata": {},
   "outputs": [],
   "source": []
  },
  {
   "cell_type": "code",
   "execution_count": null,
   "metadata": {},
   "outputs": [],
   "source": []
  },
  {
   "cell_type": "code",
   "execution_count": null,
   "metadata": {},
   "outputs": [],
   "source": []
  },
  {
   "cell_type": "code",
   "execution_count": null,
   "metadata": {},
   "outputs": [],
   "source": []
  },
  {
   "cell_type": "code",
   "execution_count": null,
   "metadata": {},
   "outputs": [],
   "source": []
  },
  {
   "cell_type": "code",
   "execution_count": null,
   "metadata": {},
   "outputs": [],
   "source": []
  },
  {
   "cell_type": "code",
   "execution_count": null,
   "metadata": {},
   "outputs": [],
   "source": []
  },
  {
   "cell_type": "code",
   "execution_count": null,
   "metadata": {},
   "outputs": [],
   "source": []
  },
  {
   "cell_type": "code",
   "execution_count": null,
   "metadata": {},
   "outputs": [],
   "source": []
  },
  {
   "cell_type": "code",
   "execution_count": null,
   "metadata": {},
   "outputs": [],
   "source": []
  },
  {
   "cell_type": "code",
   "execution_count": null,
   "metadata": {},
   "outputs": [],
   "source": []
  },
  {
   "cell_type": "code",
   "execution_count": null,
   "metadata": {},
   "outputs": [],
   "source": []
  },
  {
   "cell_type": "code",
   "execution_count": null,
   "metadata": {},
   "outputs": [],
   "source": []
  },
  {
   "cell_type": "code",
   "execution_count": null,
   "metadata": {},
   "outputs": [],
   "source": []
  },
  {
   "cell_type": "code",
   "execution_count": null,
   "metadata": {},
   "outputs": [],
   "source": []
  },
  {
   "cell_type": "code",
   "execution_count": null,
   "metadata": {},
   "outputs": [],
   "source": []
  },
  {
   "cell_type": "markdown",
   "metadata": {},
   "source": [
    "### Делаем замену переменных.\n",
    "\n",
    "Старая модель:\n",
    "\n",
    "$$a_1 x^2 + a_2 y^2 + a_3 x y + a_4 x + a_5 y = 1$$\n",
    "\n",
    "Нам бы хотелось, чтобы псевдорешение (т.е. вектор $\\bf{a}$ с минимальной нормой) было похоже на нужный нам геометрический объект.\n",
    "\n",
    "$$a_1 \\approx \\left({\\frac{2}{W}}\\right)^2$$\n",
    "$$a_2 \\approx \\left({\\frac{2}{H}}\\right)^2$$\n",
    "$$a_3 = a_4 = a_5 \\approx 0$$\n",
    "\n",
    "Сделаем замену переменных \n",
    "\n",
    "$$b_1 = a_1 - \\left({\\frac{2}{W}}\\right)^2$$\n",
    "$$b_2 = a_2 - \\left({\\frac{2}{H}}\\right)^2$$\n",
    "$$b_3 = a_3$$\n",
    "$$b_4 = a_4$$\n",
    "$$b_5 = a_5$$\n",
    "\n",
    "Тогда новая модель:\n",
    "\n",
    "$$b_1 x^2 + b_2 y^2 + b_3 x y + b_4 x + b_5 y = 1 - x^2 \\left({\\frac{2}{W}}\\right)^2 - y^2 \\left({\\frac{2}{H}}\\right)^2$$"
   ]
  },
  {
   "cell_type": "code",
   "execution_count": null,
   "metadata": {},
   "outputs": [],
   "source": []
  }
 ],
 "metadata": {
  "kernelspec": {
   "display_name": "Python 3",
   "language": "python",
   "name": "python3"
  },
  "language_info": {
   "codemirror_mode": {
    "name": "ipython",
    "version": 3
   },
   "file_extension": ".py",
   "mimetype": "text/x-python",
   "name": "python",
   "nbconvert_exporter": "python",
   "pygments_lexer": "ipython3",
   "version": "3.11.2"
  },
  "latex_envs": {
   "LaTeX_envs_menu_present": true,
   "autoclose": false,
   "autocomplete": true,
   "bibliofile": "biblio.bib",
   "cite_by": "apalike",
   "current_citInitial": 1,
   "eqLabelWithNumbers": true,
   "eqNumInitial": 1,
   "hotkeys": {
    "equation": "Ctrl-E",
    "itemize": "Ctrl-I"
   },
   "labels_anchors": false,
   "latex_user_defs": false,
   "report_style_numbering": false,
   "user_envs_cfg": false
  }
 },
 "nbformat": 4,
 "nbformat_minor": 4
}
