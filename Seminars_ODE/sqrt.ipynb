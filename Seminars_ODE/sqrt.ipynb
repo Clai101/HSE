{
 "cells": [
  {
   "cell_type": "code",
   "execution_count": 1,
   "metadata": {},
   "outputs": [],
   "source": [
    "import numpy as np\n",
    "import pandas as pd\n",
    "import matplotlib.pyplot as plt"
   ]
  },
  {
   "cell_type": "code",
   "execution_count": 13,
   "metadata": {},
   "outputs": [],
   "source": [
    "def lstsq_ne(A, b):\n",
    "    P = np.transpose(A) @ A\n",
    "    x = np.linalg.inv(P) @ np.transpose(A) @ b\n",
    "    r = A @ x - b \n",
    "    r_norm = np.linalg.norm(r, ord = 2)\n",
    "    sigma2 = r_norm / (A.shape[0] - A.shape[1])\n",
    "    var = sigma2 * np.linalg.inv(P)\n",
    "    return x, r_norm, var"
   ]
  },
  {
   "cell_type": "code",
   "execution_count": 11,
   "metadata": {},
   "outputs": [],
   "source": [
    "A_test = np.random.normal(size = (500, 20))\n",
    "x_test = np.random.normal(size = (20, ))\n",
    "b_test = A_test @ x_test + 0.1 * np.random.normal(size = (500, ))\n"
   ]
  },
  {
   "cell_type": "code",
   "execution_count": 15,
   "metadata": {},
   "outputs": [
    {
     "name": "stdout",
     "output_type": "stream",
     "text": [
      "[ 0.00668655  0.00176262 -0.00081581 -0.00425977  0.00098448  0.00593906\n",
      " -0.00063397  0.00433776  0.00514486  0.0037904   0.00058379 -0.00501936\n",
      " -0.00306212 -0.0030471   0.0017853  -0.00279748  0.0033993  -0.00447956\n",
      " -0.0051642   0.00340488]\n"
     ]
    }
   ],
   "source": [
    "x, r_norm, var = lstsq_ne(A_test, b_test)"
   ]
  },
  {
   "cell_type": "code",
   "execution_count": 1,
   "metadata": {},
   "outputs": [
    {
     "ename": "NameError",
     "evalue": "name 'plt' is not defined",
     "output_type": "error",
     "traceback": [
      "\u001b[1;31m---------------------------------------------------------------------------\u001b[0m",
      "\u001b[1;31mNameError\u001b[0m                                 Traceback (most recent call last)",
      "Cell \u001b[1;32mIn[1], line 1\u001b[0m\n\u001b[1;32m----> 1\u001b[0m plt\u001b[39m.\u001b[39mimshow(var)\n\u001b[0;32m      2\u001b[0m plt\u001b[39m.\u001b[39mhotbar\n\u001b[0;32m      3\u001b[0m plt\u001b[39m.\u001b[39mshow()\n",
      "\u001b[1;31mNameError\u001b[0m: name 'plt' is not defined"
     ]
    }
   ],
   "source": [
    "plt.imshow(var)\n",
    "plt.hotbar\n",
    "plt.show()"
   ]
  },
  {
   "cell_type": "code",
   "execution_count": 2,
   "metadata": {},
   "outputs": [
    {
     "ename": "NameError",
     "evalue": "name 'np' is not defined",
     "output_type": "error",
     "traceback": [
      "\u001b[1;31m---------------------------------------------------------------------------\u001b[0m",
      "\u001b[1;31mNameError\u001b[0m                                 Traceback (most recent call last)",
      "Cell \u001b[1;32mIn[2], line 2\u001b[0m\n\u001b[0;32m      1\u001b[0m noise_l \u001b[39m=\u001b[39m \u001b[39m0.01\u001b[39m\n\u001b[1;32m----> 2\u001b[0m noise \u001b[39m=\u001b[39m np\u001b[39m.\u001b[39mrandom\u001b[39m.\u001b[39mnormal(size\u001b[39m=\u001b[39m(\u001b[39m10000\u001b[39m, \u001b[39m500\u001b[39m))\n\u001b[0;32m      3\u001b[0m X \u001b[39m=\u001b[39m np\u001b[39m.\u001b[39marray([])\n",
      "\u001b[1;31mNameError\u001b[0m: name 'np' is not defined"
     ]
    }
   ],
   "source": [
    "noise_l = 0.01\n",
    "noise = np.random.normal(size=(10000, 500))\n",
    "X = np.array([])\n"
   ]
  }
 ],
 "metadata": {
  "kernelspec": {
   "display_name": "Py_ph",
   "language": "python",
   "name": "python3"
  },
  "language_info": {
   "codemirror_mode": {
    "name": "ipython",
    "version": 3
   },
   "file_extension": ".py",
   "mimetype": "text/x-python",
   "name": "python",
   "nbconvert_exporter": "python",
   "pygments_lexer": "ipython3",
   "version": "3.9.7"
  },
  "orig_nbformat": 4,
  "vscode": {
   "interpreter": {
    "hash": "377beedb0309d0e5a50709e8ceef8047be3cd6db2f926a7047ff6c63d8b33282"
   }
  }
 },
 "nbformat": 4,
 "nbformat_minor": 2
}
